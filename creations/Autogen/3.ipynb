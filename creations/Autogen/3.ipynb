{
 "cells": [
  {
   "cell_type": "code",
   "execution_count": 1,
   "id": "f2994105",
   "metadata": {},
   "outputs": [
    {
     "data": {
      "text/plain": [
       "True"
      ]
     },
     "execution_count": 1,
     "metadata": {},
     "output_type": "execute_result"
    }
   ],
   "source": [
    "from dataclasses import dataclass\n",
    "from autogen_core import AgentId, MessageContext, RoutedAgent, message_handler\n",
    "from autogen_core import SingleThreadedAgentRuntime\n",
    "from autogen_agentchat.agents import AssistantAgent\n",
    "from autogen_agentchat.messages import TextMessage\n",
    "from autogen_ext.models.openai import OpenAIChatCompletionClient\n",
    "from dotenv import load_dotenv\n",
    "\n",
    "load_dotenv(override=True)\n"
   ]
  },
  {
   "cell_type": "markdown",
   "id": "egkhva6vaaa",
   "source": "## Core Agent Framework Setup\n\nThis cell imports the essential AutoGen Core components required for building custom agents with advanced message routing and distributed runtime management capabilities. AutoGen Core provides the low-level building blocks that give developers precise control over agent behavior, message handling, and system architecture.\n\nThe imported components serve specific purposes in the AutoGen Core ecosystem:\n\n**Core Data Structures:**\n- `@dataclass`: Python decorator for creating data classes with automatic method generation\n- This decorator automatically generates `__init__`, `__repr__`, `__eq__`, and other essential methods\n\n**Agent Architecture Components:**\n- `AgentId`: Unique identifier system for agents within the runtime environment\n- `MessageContext`: Container for contextual information about messages being processed\n- `RoutedAgent`: Base class for creating custom agents with message routing capabilities\n- `message_handler`: Decorator for registering methods as message processors\n\n**Runtime Management:**\n- `SingleThreadedAgentRuntime`: Runtime environment for executing agents in a single-threaded context\n- Provides the execution environment where agents live and process messages\n\n**Framework Benefits:**\nAutoGen Core offers several advantages over higher-level APIs:\n- **Low-level Control**: Direct access to message routing and agent lifecycle management\n- **Custom Agent Logic**: Ability to implement specialized behaviors and protocols\n- **Scalable Architecture**: Foundation for both simple prototypes and enterprise-scale deployments\n- **Event-driven Design**: Efficient message passing and asynchronous processing capabilities\n- **Distributed Support**: Can be extended to work across multiple processes or machines\n\n**Environment Variable Loading:**\nThe `load_dotenv(override=True)` call loads configuration from environment files, ensuring that API keys and other settings are available for the custom agents that will be created in subsequent cells.\n\nThis foundation enables developers to create agents with precise control over message flow, state management, and inter-agent communication patterns, making it suitable for complex multi-agent systems and specialized use cases.",
   "metadata": {}
  },
  {
   "cell_type": "code",
   "execution_count": 2,
   "id": "27d388c4",
   "metadata": {},
   "outputs": [],
   "source": [
    "# Let's have a simple one!\n",
    "\n",
    "@dataclass\n",
    "class Message:\n",
    "    content: str\n"
   ]
  },
  {
   "cell_type": "markdown",
   "id": "lygbgf108jh",
   "source": "## Message Data Structure\n\nThis cell defines a lightweight, extensible message dataclass that serves as the communication protocol between agents in the AutoGen Core system. The dataclass approach provides an efficient way to create structured message objects with automatic method generation and type safety.\n\n**Dataclass Benefits:**\nThe `@dataclass` decorator automatically generates several essential methods:\n- `__init__()`: Constructor that accepts content as a parameter\n- `__repr__()`: String representation for debugging and logging\n- `__eq__()`: Equality comparison between message objects\n- `__hash__()`: Hash function for use in sets and dictionaries (if needed)\n\n**Message Structure:**\nThe simple `Message` class contains:\n- `content: str`: A single field that holds the actual message text\n- Automatic type hints provide IDE support and runtime type checking\n- The structure is intentionally minimal but easily extensible\n\n**Design Philosophy:**\nThis minimalist approach demonstrates several important concepts:\n- **Simplicity**: Start with the essential data and add complexity only when needed\n- **Extensibility**: Additional fields like timestamps, metadata, or routing information can be added easily\n- **Type Safety**: Python's type system helps catch errors during development\n- **Serialization Ready**: Dataclasses can be easily converted to JSON or other formats\n\n**Custom Protocol Design:**\nThis pattern allows developers to:\n- Design domain-specific message protocols tailored to their application requirements\n- Maintain compatibility with AutoGen's routing infrastructure\n- Add validation logic or custom methods as needed\n- Create different message types for different kinds of communication\n\n**Practical Applications:**\nIn real applications, you might extend this pattern to include:\n- Message priorities for handling urgent communications\n- Routing metadata for complex multi-agent networks\n- Timestamps for conversation tracking\n- Payload validation for ensuring data integrity\n- Custom serialization for network transmission\n\nThis foundation provides the building blocks for creating sophisticated communication protocols while maintaining the simplicity needed for rapid development and debugging.",
   "metadata": {}
  },
  {
   "cell_type": "code",
   "execution_count": 3,
   "id": "8a55cb29",
   "metadata": {},
   "outputs": [],
   "source": [
    "class SimpleAgent(RoutedAgent):\n",
    "    def __init__(self) -> None:\n",
    "        super().__init__(\"Simple\")\n",
    "\n",
    "    @message_handler\n",
    "    async def on_my_message(self, message: Message, ctx: MessageContext) -> Message:\n",
    "        return Message(content=f\"This is {self.id.type}-{self.id.key}. You said '{message.content}' and I disagree.\")\n",
    "        "
   ]
  },
  {
   "cell_type": "markdown",
   "id": "u095xe2bjtl",
   "source": "## Custom Agent Implementation\n\nThis cell creates a sophisticated custom agent class that inherits from RoutedAgent, demonstrating how to implement specialized message handling with intelligent response generation capabilities. This example shows the core pattern for building custom agents in AutoGen Core.\n\n**Class Structure and Inheritance:**\nThe `SimpleAgent` class inherits from `RoutedAgent`, which provides:\n- Built-in message routing capabilities\n- Integration with the AutoGen runtime system\n- Lifecycle management and error handling\n- Support for asynchronous message processing\n\n**Constructor Implementation:**\nThe `__init__` method:\n- Calls the parent constructor with `super().__init__(\"Simple\")`\n- Sets the agent type identifier to \"Simple\" for runtime registration\n- This identifier is used by the runtime to route messages and manage agent instances\n\n**Message Handler Pattern:**\nThe `@message_handler` decorator is crucial for AutoGen Core functionality:\n- Registers the `on_my_message` method as a message processor\n- Enables automatic invocation when messages of the specified type arrive\n- Provides type-safe message routing based on the message parameter type\n- Supports multiple message handlers for different message types\n\n**Response Generation Logic:**\nThe `on_my_message` method demonstrates several important concepts:\n- **Self-Awareness**: Uses `self.id.type` and `self.id.key` to reference its own identity\n- **Message Processing**: Accesses the incoming message content through `message.content`\n- **Custom Logic**: Implements domain-specific behavior (disagreeing with the user)\n- **Structured Response**: Returns a new Message object with generated content\n\n**Asynchronous Processing:**\nThe `async` keyword enables:\n- Non-blocking message processing\n- Integration with AutoGen's asynchronous runtime\n- Concurrent handling of multiple messages\n- Support for long-running operations without blocking other agents\n\n**Agent Identity and Context:**\nThe agent demonstrates self-referential capabilities by:\n- Knowing its own type and key identifiers\n- Incorporating this information into responses\n- Maintaining awareness of its role in the system\n- Providing transparent communication about its operations\n\nThis pattern enables creation of domain-specific agents with custom business logic, specialized processing capabilities, and unique behavioral characteristics tailored to specific application requirements.",
   "metadata": {}
  },
  {
   "cell_type": "code",
   "execution_count": 4,
   "id": "cdc25561",
   "metadata": {},
   "outputs": [
    {
     "data": {
      "text/plain": [
       "AgentType(type='simple_agent')"
      ]
     },
     "execution_count": 4,
     "metadata": {},
     "output_type": "execute_result"
    }
   ],
   "source": [
    "\n",
    "runtime = SingleThreadedAgentRuntime()\n",
    "await SimpleAgent.register(runtime, \"simple_agent\", lambda: SimpleAgent())"
   ]
  },
  {
   "cell_type": "markdown",
   "id": "dmionuxxile",
   "source": "## Agent Registration\n<div style=\"background: linear-gradient(135deg, #A8E6CF 0%, #3D5A80 100%); padding: 20px; border-radius: 15px; color: white; box-shadow: 0 8px 25px rgba(168, 230, 207, 0.4); margin: 10px 0;\">\n\n### 🎯 **Agent Lifecycle Management**\nRegisters the custom agent with the runtime system using a factory pattern, making it available for message processing and inter-agent communication.\nThe registration process creates an AgentType identifier and associates it with a factory function that instantiates new agent instances on demand.\nThe \"simple_agent\" identifier serves as the agent's type name in the distributed system, enabling message routing and agent discovery mechanisms.\nThis registration pattern supports scalable agent deployment, allowing the runtime to create multiple instances of the same agent type as needed for load balancing and fault tolerance.\n\n</div>\n\n```mermaid\ngraph TB\n    A[\"🏭 Agent Factory\"] --> B[\"📋 Runtime Registration\"]\n    B --> C[\"🎯 Agent Type Creation\"]\n    C --> D[\"🔍 Agent Discovery\"]\n    D --> E[\"📨 Message Routing\"]\n    \n    F[\"🔧 Registration Process\"] --> G[\"1️⃣ Factory Function\"]\n    F --> H[\"2️⃣ Type Assignment\"]\n    F --> I[\"3️⃣ Runtime Binding\"]\n    F --> J[\"4️⃣ Availability Signal\"]\n    \n    subgraph \"⚡ Runtime Benefits\"\n        K[\"🚀 Dynamic Instantiation\"]\n        L[\"⚖️ Load Balancing\"]\n        M[\"🔄 Fault Tolerance\"]\n        N[\"📊 Resource Management\"]\n    end\n    \n    style A fill:#00b894,stroke:#00a085,stroke-width:3px,color:#fff\n    style B fill:#0984e3,stroke:#0974d1,stroke-width:4px,color:#fff\n    style C fill:#6c5ce7,stroke:#5f3dc4,stroke-width:3px,color:#fff\n    style E fill:#fd79a8,stroke:#e84393,stroke-width:3px,color:#fff\n    style I fill:#ffa726,stroke:#f57c00,stroke-width:2px,color:#fff\n```\n\n**🎨 Registration Advantages:**\n- 🏭 **Factory Pattern**: Efficient instance creation\n- 🎯 **Type Safety**: Strongly typed agent identification  \n- 🔄 **Dynamic Scaling**: On-demand instance provisioning\n- 📊 **Resource Efficiency**: Optimized memory and CPU usage",
   "metadata": {}
  },
  {
   "cell_type": "code",
   "execution_count": 5,
   "id": "c9ddbd22",
   "metadata": {},
   "outputs": [],
   "source": [
    "runtime.start()"
   ]
  },
  {
   "cell_type": "markdown",
   "id": "c01z7jcdekt",
   "source": "## Runtime Activation\n<div style=\"background: linear-gradient(135deg, #FF6B6B 0%, #4ECDC4 100%); padding: 20px; border-radius: 15px; color: white; box-shadow: 0 8px 25px rgba(255, 107, 107, 0.3); margin: 10px 0;\">\n\n### ⚡ **System Initialization and Event Loop**\nStarts the agent runtime system to enable message processing, agent communication, and event-driven execution across the distributed agent network.\nThe runtime initialization activates the event loop, message dispatcher, and inter-agent communication infrastructure required for agent collaboration.\nOnce started, the runtime continuously monitors for incoming messages, routes them to appropriate agents, and manages the complete message lifecycle.\nThis activation represents the transition from configuration to operational state, where agents become active participants in the distributed system ready to process real-world tasks.\n\n</div>\n\n```mermaid\ngraph TD\n    A[\"🚀 Runtime.start()\"] --> B[\"⚡ Event Loop Activation\"]\n    B --> C[\"📨 Message Dispatcher\"]\n    B --> D[\"🔄 Agent Monitor\"]\n    B --> E[\"🌐 Network Interface\"]\n    \n    C --> F[\"📬 Message Queue\"]\n    C --> G[\"🎯 Route Resolution\"]\n    \n    D --> H[\"💓 Health Checks\"]\n    D --> I[\"📊 Performance Metrics\"]\n    \n    E --> J[\"🔗 Inter-Agent Comms\"]\n    E --> K[\"📡 External APIs\"]\n    \n    subgraph \"🎮 Runtime State\"\n        L[\"✅ Active\"]\n        M[\"📈 Monitoring\"]\n        N[\"🔄 Processing\"]\n        O[\"🛡️ Protected\"]\n    end\n    \n    subgraph \"🚀 System Ready\"\n        P[\"📨 Message Processing\"]\n        Q[\"🤖 Agent Interactions\"]  \n        R[\"⚡ Event Handling\"]\n        S[\"🔧 System Management\"]\n    end\n    \n    style A fill:#e17055,stroke:#d63031,stroke-width:4px,color:#fff\n    style B fill:#00cec9,stroke:#00b3b8,stroke-width:3px,color:#fff\n    style C fill:#6c5ce7,stroke:#5f3dc4,stroke-width:3px,color:#fff\n    style F fill:#fd79a8,stroke:#e84393,stroke-width:2px,color:#fff\n    style J fill:#00b894,stroke:#00a085,stroke-width:2px,color:#fff\n```\n\n**🌟 Runtime Capabilities:**\n- ⚡ **High Performance**: Optimized message processing\n- 🔄 **Event-Driven**: Asynchronous operation model\n- 🛡️ **Fault Tolerance**: Built-in error handling and recovery\n- 📊 **Observability**: Comprehensive monitoring and logging",
   "metadata": {}
  },
  {
   "cell_type": "code",
   "execution_count": null,
   "id": "1441dbf2",
   "metadata": {},
   "outputs": [],
   "source": []
  }
 ],
 "metadata": {
  "kernelspec": {
   "display_name": "Python 3",
   "language": "python",
   "name": "python3"
  },
  "language_info": {
   "codemirror_mode": {
    "name": "ipython",
    "version": 3
   },
   "file_extension": ".py",
   "mimetype": "text/x-python",
   "name": "python",
   "nbconvert_exporter": "python",
   "pygments_lexer": "ipython3",
   "version": "3.12.3"
  }
 },
 "nbformat": 4,
 "nbformat_minor": 5
}