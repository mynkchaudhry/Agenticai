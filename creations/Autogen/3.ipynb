{
 "cells": [
  {
   "cell_type": "code",
   "execution_count": 1,
   "id": "f2994105",
   "metadata": {},
   "outputs": [
    {
     "data": {
      "text/plain": [
       "True"
      ]
     },
     "execution_count": 1,
     "metadata": {},
     "output_type": "execute_result"
    }
   ],
   "source": [
    "from dataclasses import dataclass\n",
    "from autogen_core import AgentId, MessageContext, RoutedAgent, message_handler\n",
    "from autogen_core import SingleThreadedAgentRuntime\n",
    "from autogen_agentchat.agents import AssistantAgent\n",
    "from autogen_agentchat.messages import TextMessage\n",
    "from autogen_ext.models.openai import OpenAIChatCompletionClient\n",
    "from dotenv import load_dotenv\n",
    "\n",
    "load_dotenv(override=True)\n"
   ]
  },
  {
   "cell_type": "markdown",
   "id": "egkhva6vaaa",
   "source": "<div style=\"max-width: 900px; margin: 0 auto; font-family: -apple-system, BlinkMacSystemFont, 'Segoe UI', Roboto, 'Helvetica Neue', Arial, sans-serif;\">\n\n<div style=\"background: #ffffff; border: 1px solid #e9ecef; border-radius: 12px; padding: 32px; margin: 24px 0; box-shadow: 0 4px 12px rgba(0,0,0,0.05);\">\n\n<div style=\"display: flex; align-items: center; margin-bottom: 24px;\">\n  <div style=\"width: 4px; height: 40px; background: linear-gradient(135deg, #e53e3e 0%, #c53030 100%); border-radius: 2px; margin-right: 16px;\"></div>\n  <h2 style=\"margin: 0; color: #2d3748; font-size: 28px; font-weight: 700; letter-spacing: -0.5px;\">Core Agent Framework Setup</h2>\n</div>\n\n<div style=\"background: #fed7d7; border-radius: 8px; padding: 20px; margin-bottom: 24px; border-left: 4px solid #e53e3e;\">\n  <p style=\"margin: 0; color: #4a5568; font-size: 16px; line-height: 1.6;\">\n    Imports essential AutoGen Core components for building custom agents with advanced message routing and distributed runtime management capabilities. AutoGen Core provides low-level building blocks for creating sophisticated multi-agent systems with custom message handling, event-driven architectures, and scalable runtime execution.\n  </p>\n</div>\n\n<div style=\"display: grid; grid-template-columns: 1fr 1fr; gap: 24px; margin-bottom: 24px;\">\n\n  <div style=\"background: #ffffff; border: 1px solid #e2e8f0; border-radius: 8px; padding: 24px;\">\n    <div style=\"display: flex; align-items: center; margin-bottom: 16px;\">\n      <div style=\"width: 32px; height: 32px; background: #e53e3e; border-radius: 6px; display: flex; align-items: center; justify-content: center; margin-right: 12px;\">\n        <span style=\"color: white; font-size: 16px;\">🏗️</span>\n      </div>\n      <div>\n        <h3 style=\"margin: 0; color: #2d3748; font-size: 18px; font-weight: 600;\">Framework Components</h3>\n        <p style=\"margin: 4px 0 0 0; color: #718096; font-size: 14px;\">Core architectural elements</p>\n      </div>\n    </div>\n    \n    <div style=\"space-y: 12px;\">\n      <div style=\"display: flex; align-items: center; margin-bottom: 10px;\">\n        <div style=\"width: 8px; height: 8px; background: #3182ce; border-radius: 50%; margin-right: 12px;\"></div>\n        <div style=\"flex: 1;\">\n          <div style=\"color: #2d3748; font-weight: 600; font-size: 14px;\">AgentId & Routing</div>\n          <div style=\"color: #718096; font-size: 12px;\">Message routing infrastructure</div>\n        </div>\n      </div>\n      <div style=\"display: flex; align-items: center; margin-bottom: 10px;\">\n        <div style=\"width: 8px; height: 8px; background: #48bb78; border-radius: 50%; margin-right: 12px;\"></div>\n        <div style=\"flex: 1;\">\n          <div style=\"color: #2d3748; font-weight: 600; font-size: 14px;\">Message Context</div>\n          <div style=\"color: #718096; font-size: 12px;\">Context handling system</div>\n        </div>\n      </div>\n      <div style=\"display: flex; align-items: center; margin-bottom: 10px;\">\n        <div style=\"width: 8px; height: 8px; background: #805ad5; border-radius: 50%; margin-right: 12px;\"></div>\n        <div style=\"flex: 1;\">\n          <div style=\"color: #2d3748; font-weight: 600; font-size: 14px;\">RoutedAgent Base</div>\n          <div style=\"color: #718096; font-size: 12px;\">Custom agent foundation</div>\n        </div>\n      </div>\n      <div style=\"display: flex; align-items: center;\">\n        <div style=\"width: 8px; height: 8px; background: #ed8936; border-radius: 50%; margin-right: 12px;\"></div>\n        <div style=\"flex: 1;\">\n          <div style=\"color: #2d3748; font-weight: 600; font-size: 14px;\">Runtime Management</div>\n          <div style=\"color: #718096; font-size: 12px;\">Execution control system</div>\n        </div>\n      </div>\n    </div>\n  </div>\n\n  <div style=\"background: #ffffff; border: 1px solid #e2e8f0; border-radius: 8px; padding: 24px;\">\n    <div style=\"display: flex; align-items: center; margin-bottom: 16px;\">\n      <div style=\"width: 32px; height: 32px; background: #38a169; border-radius: 6px; display: flex; align-items: center; justify-content: center; margin-right: 12px;\">\n        <span style=\"color: white; font-size: 16px;\">⚡</span>\n      </div>\n      <div>\n        <h3 style=\"margin: 0; color: #2d3748; font-size: 18px; font-weight: 600;\">Architecture Benefits</h3>\n        <p style=\"margin: 4px 0 0 0; color: #718096; font-size: 14px;\">Advanced capabilities</p>\n      </div>\n    </div>\n\n    <div style=\"background: #f7fafc; border-radius: 6px; padding: 16px;\">\n      <div style=\"display: grid; grid-template-columns: 1fr 1fr; gap: 12px;\">\n        <div style=\"background: #ffffff; border: 1px solid #e2e8f0; border-radius: 4px; padding: 12px; text-align: center;\">\n          <div style=\"color: #3182ce; font-size: 20px; margin-bottom: 4px;\">🚀</div>\n          <div style=\"color: #2d3748; font-weight: 600; font-size: 13px; margin-bottom: 2px;\">Performance</div>\n          <div style=\"color: #718096; font-size: 11px;\">Optimized execution</div>\n        </div>\n        <div style=\"background: #ffffff; border: 1px solid #e2e8f0; border-radius: 4px; padding: 12px; text-align: center;\">\n          <div style=\"color: #48bb78; font-size: 20px; margin-bottom: 4px;\">🔧</div>\n          <div style=\"color: #2d3748; font-weight: 600; font-size: 13px; margin-bottom: 2px;\">Flexibility</div>\n          <div style=\"color: #718096; font-size: 11px;\">Custom behaviors</div>\n        </div>\n        <div style=\"background: #ffffff; border: 1px solid #e2e8f0; border-radius: 4px; padding: 12px; text-align: center;\">\n          <div style=\"color: #805ad5; font-size: 20px; margin-bottom: 4px;\">📊</div>\n          <div style=\"color: #2d3748; font-weight: 600; font-size: 13px; margin-bottom: 2px;\">Observability</div>\n          <div style=\"color: #718096; font-size: 11px;\">State tracking</div>\n        </div>\n        <div style=\"background: #ffffff; border: 1px solid #e2e8f0; border-radius: 4px; padding: 12px; text-align: center;\">\n          <div style=\"color: #ed8936; font-size: 20px; margin-bottom: 4px;\">🌐</div>\n          <div style=\"color: #2d3748; font-weight: 600; font-size: 13px; margin-bottom: 2px;\">Scalability</div>\n          <div style=\"color: #718096; font-size: 11px;\">Distributed ready</div>\n        </div>\n      </div>\n    </div>\n  </div>\n\n</div>\n\n<div style=\"background: #f7fafc; border-radius: 8px; padding: 24px;\">\n  <h3 style=\"margin: 0 0 20px 0; color: #2d3748; font-size: 20px; font-weight: 600; text-align: center;\">AutoGen Core Foundation</h3>\n  \n  <div style=\"display: flex; align-items: center; justify-content: center; gap: 16px; flex-wrap: wrap;\">\n    \n    <div style=\"text-align: center; min-width: 120px;\">\n      <div style=\"width: 60px; height: 60px; background: linear-gradient(135deg, #3182ce, #2c5282); border-radius: 50%; display: flex; align-items: center; justify-content: center; margin: 0 auto 8px;\">\n        <span style=\"color: white; font-size: 20px;\">📦</span>\n      </div>\n      <div style=\"color: #2d3748; font-weight: 600; font-size: 14px; margin-bottom: 4px;\">Core Import</div>\n      <div style=\"color: #718096; font-size: 12px;\">Foundation modules</div>\n    </div>\n\n    <div style=\"color: #cbd5e0; font-size: 24px;\">→</div>\n\n    <div style=\"text-align: center; min-width: 120px;\">\n      <div style=\"width: 60px; height: 60px; background: linear-gradient(135deg, #48bb78, #38a169); border-radius: 50%; display: flex; align-items: center; justify-content: center; margin: 0 auto 8px;\">\n        <span style=\"color: white; font-size: 20px;\">🏗️</span>\n      </div>\n      <div style=\"color: #2d3748; font-weight: 600; font-size: 14px; margin-bottom: 4px;\">Framework</div>\n      <div style=\"color: #718096; font-size: 12px;\">Building blocks</div>\n    </div>\n\n    <div style=\"color: #cbd5e0; font-size: 24px;\">→</div>\n\n    <div style=\"text-align: center; min-width: 120px;\">\n      <div style=\"width: 60px; height: 60px; background: linear-gradient(135deg, #e53e3e, #c53030); border-radius: 50%; display: flex; align-items: center; justify-content: center; margin: 0 auto 8px;\">\n        <span style=\"color: white; font-size: 20px;\">🤖</span>\n      </div>\n      <div style=\"color: #2d3748; font-weight: 600; font-size: 14px; margin-bottom: 4px;\">Custom Agents</div>\n      <div style=\"color: #718096; font-size: 12px;\">Specialized logic</div>\n    </div>\n\n    <div style=\"color: #cbd5e0; font-size: 24px;\">→</div>\n\n    <div style=\"text-align: center; min-width: 120px;\">\n      <div style=\"width: 60px; height: 60px; background: linear-gradient(135deg, #805ad5, #6b46c1); border-radius: 50%; display: flex; align-items: center; justify-content: center; margin: 0 auto 8px;\">\n        <span style=\"color: white; font-size: 20px;\">🌐</span>\n      </div>\n      <div style=\"color: #2d3748; font-weight: 600; font-size: 14px; margin-bottom: 4px;\">Distributed</div>\n      <div style=\"color: #718096; font-size: 12px;\">Scale deployment</div>\n    </div>\n\n  </div>\n</div>\n\n</div>\n</div>",
   "metadata": {}
  },
  {
   "cell_type": "code",
   "execution_count": 2,
   "id": "27d388c4",
   "metadata": {},
   "outputs": [],
   "source": [
    "# Let's have a simple one!\n",
    "\n",
    "@dataclass\n",
    "class Message:\n",
    "    content: str\n"
   ]
  },
  {
   "cell_type": "markdown",
   "id": "lygbgf108jh",
   "source": "## Message Data Structure\n<div style=\"background: linear-gradient(135deg, #4ECDC4 0%, #44A08D 100%); padding: 20px; border-radius: 15px; color: white; box-shadow: 0 8px 25px rgba(78, 205, 196, 0.3); margin: 10px 0;\">\n\n### 📨 **Custom Message Protocol Design**\nDefines a lightweight, extensible message dataclass that serves as the communication protocol between agents in the distributed system.\nThe simple structure with a content field demonstrates the foundation for building more complex message types with additional metadata, routing information, or payload data.\nUsing Python's dataclass decorator provides automatic generation of essential methods (__init__, __repr__, etc.) while maintaining type safety and serialization capabilities.\nThis approach enables developers to design domain-specific message protocols tailored to their application requirements while maintaining compatibility with AutoGen's routing infrastructure.\n\n</div>\n\n```mermaid\ngraph LR\n    A[\"📝 Content Field\"] --> B[\"📋 Dataclass Message\"]\n    B --> C[\"🏭 Auto-Generated Methods\"]\n    B --> D[\"🔒 Type Safety\"]\n    B --> E[\"📦 Serialization Ready\"]\n    \n    C --> F[\"🏗️ __init__()\"]\n    C --> G[\"📄 __repr__()\"]\n    C --> H[\"⚖️ __eq__()\"]\n    \n    subgraph \"🎯 Message Benefits\"\n        I[\"🚀 Lightweight\"]\n        J[\"🔧 Extensible\"]\n        K[\"📊 Structured\"]  \n        L[\"🔄 Serializable\"]\n    end\n    \n    style A fill:#00b894,stroke:#00a085,stroke-width:3px,color:#fff\n    style B fill:#0984e3,stroke:#0974d1,stroke-width:4px,color:#fff\n    style F fill:#fd79a8,stroke:#e84393,stroke-width:2px,color:#fff\n    style G fill:#fdcb6e,stroke:#e17055,stroke-width:2px,color:#fff\n    style H fill:#6c5ce7,stroke:#5f3dc4,stroke-width:2px,color:#fff\n```\n\n**✨ Dataclass Features:**\n- 🏗️ **Auto-Generation**: Automatic method creation\n- 🔒 **Type Hints**: Built-in type validation\n- 📊 **Immutability**: Optional frozen state\n- 🔧 **Extensibility**: Easy field addition and modification",
   "metadata": {}
  },
  {
   "cell_type": "code",
   "execution_count": 3,
   "id": "8a55cb29",
   "metadata": {},
   "outputs": [],
   "source": [
    "class SimpleAgent(RoutedAgent):\n",
    "    def __init__(self) -> None:\n",
    "        super().__init__(\"Simple\")\n",
    "\n",
    "    @message_handler\n",
    "    async def on_my_message(self, message: Message, ctx: MessageContext) -> Message:\n",
    "        return Message(content=f\"This is {self.id.type}-{self.id.key}. You said '{message.content}' and I disagree.\")\n",
    "        "
   ]
  },
  {
   "cell_type": "markdown",
   "id": "u095xe2bjtl",
   "source": "<div style=\"max-width: 900px; margin: 0 auto; font-family: -apple-system, BlinkMacSystemFont, 'Segoe UI', Roboto, 'Helvetica Neue', Arial, sans-serif;\">\n\n<div style=\"background: #ffffff; border: 1px solid #e9ecef; border-radius: 12px; padding: 32px; margin: 24px 0; box-shadow: 0 4px 12px rgba(0,0,0,0.05);\">\n\n<div style=\"display: flex; align-items: center; margin-bottom: 24px;\">\n  <div style=\"width: 4px; height: 40px; background: linear-gradient(135deg, #805ad5 0%, #6b46c1 100%); border-radius: 2px; margin-right: 16px;\"></div>\n  <h2 style=\"margin: 0; color: #2d3748; font-size: 28px; font-weight: 700; letter-spacing: -0.5px;\">Custom Agent Implementation</h2>\n</div>\n\n<div style=\"background: #faf5ff; border-radius: 8px; padding: 20px; margin-bottom: 24px; border-left: 4px solid #805ad5;\">\n  <p style=\"margin: 0; color: #4a5568; font-size: 16px; line-height: 1.6;\">\n    Creates a sophisticated custom agent class that inherits from RoutedAgent, implementing specialized message handling with intelligent response generation capabilities. The <code style=\"background: #e6fffa; padding: 2px 6px; border-radius: 4px;\">@message_handler</code> decorator registers the method as the primary message processor, enabling type-safe message routing and automatic invocation.\n  </p>\n</div>\n\n<div style=\"display: grid; grid-template-columns: 1fr 1fr; gap: 24px; margin-bottom: 24px;\">\n\n  <div style=\"background: #ffffff; border: 1px solid #e2e8f0; border-radius: 8px; padding: 24px;\">\n    <div style=\"display: flex; align-items: center; margin-bottom: 16px;\">\n      <div style=\"width: 32px; height: 32px; background: #805ad5; border-radius: 6px; display: flex; align-items: center; justify-content: center; margin-right: 12px;\">\n        <span style=\"color: white; font-size: 16px;\">🤖</span>\n      </div>\n      <div>\n        <h3 style=\"margin: 0; color: #2d3748; font-size: 18px; font-weight: 600;\">Agent Implementation</h3>\n        <p style=\"margin: 4px 0 0 0; color: #718096; font-size: 14px;\">Core functionality</p>\n      </div>\n    </div>\n    \n    <div style=\"background: #f7fafc; border-radius: 6px; padding: 16px;\">\n      <div style=\"color: #2d3748; font-weight: 600; font-size: 14px; margin-bottom: 12px;\">Key Features</div>\n      <div style=\"space-y: 8px;\">\n        <div style=\"display: flex; align-items: center; margin-bottom: 8px;\">\n          <div style=\"width: 6px; height: 6px; background: #48bb78; border-radius: 50%; margin-right: 8px;\"></div>\n          <span style=\"color: #4a5568; font-size: 13px;\">Inherits from RoutedAgent</span>\n        </div>\n        <div style=\"display: flex; align-items: center; margin-bottom: 8px;\">\n          <div style=\"width: 6px; height: 6px; background: #48bb78; border-radius: 50%; margin-right: 8px;\"></div>\n          <span style=\"color: #4a5568; font-size: 13px;\">Type-safe message routing</span>\n        </div>\n        <div style=\"display: flex; align-items: center; margin-bottom: 8px;\">\n          <div style=\"width: 6px; height: 6px; background: #48bb78; border-radius: 50%; margin-right: 8px;\"></div>\n          <span style=\"color: #4a5568; font-size: 13px;\">Identity awareness</span>\n        </div>\n        <div style=\"display: flex; align-items: center;\">\n          <div style=\"width: 6px; height: 6px; background: #48bb78; border-radius: 50%; margin-right: 8px;\"></div>\n          <span style=\"color: #4a5568; font-size: 13px;\">Async message processing</span>\n        </div>\n      </div>\n    </div>\n  </div>\n\n  <div style=\"background: #ffffff; border: 1px solid #e2e8f0; border-radius: 8px; padding: 24px;\">\n    <div style=\"display: flex; align-items: center; margin-bottom: 16px;\">\n      <div style=\"width: 32px; height: 32px; background: #3182ce; border-radius: 6px; display: flex; align-items: center; justify-content: center; margin-right: 12px;\">\n        <span style=\"color: white; font-size: 16px;\">🎭</span>\n      </div>\n      <div>\n        <h3 style=\"margin: 0; color: #2d3748; font-size: 18px; font-weight: 600;\">Agent Personality</h3>\n        <p style=\"margin: 4px 0 0 0; color: #718096; font-size: 14px;\">Self-referential responses</p>\n      </div>\n    </div>\n\n    <div style=\"background: #f7fafc; border-radius: 6px; padding: 16px;\">\n      <div style=\"color: #2d3748; font-weight: 600; font-size: 14px; margin-bottom: 8px;\">Response Pattern</div>\n      <div style=\"background: #ffffff; border: 1px solid #e2e8f0; border-radius: 4px; padding: 12px; margin-bottom: 12px;\">\n        <p style=\"margin: 0; color: #4a5568; font-size: 12px; font-family: 'SF Mono', Monaco, monospace; line-height: 1.4;\">\n          f\"This is {self.id.type}-{self.id.key}.<br/>\n          You said '{message.content}'<br/>\n          and I disagree.\"\n        </p>\n      </div>\n      <div style=\"display: flex; align-items: center;\">\n        <span style=\"background: #bee3f8; color: #2b6cb0; padding: 4px 8px; border-radius: 12px; font-size: 11px; margin-right: 8px;\">Self-Aware</span>\n        <span style=\"background: #fed7d7; color: #c53030; padding: 4px 8px; border-radius: 12px; font-size: 11px;\">Opinionated</span>\n      </div>\n    </div>\n  </div>\n\n</div>\n\n<div style=\"background: #f7fafc; border-radius: 8px; padding: 24px;\">\n  <h3 style=\"margin: 0 0 20px 0; color: #2d3748; font-size: 20px; font-weight: 600; text-align: center;\">Message Processing Flow</h3>\n  \n  <div style=\"display: grid; grid-template-columns: repeat(5, 1fr); gap: 16px; align-items: center;\">\n    \n    <div style=\"text-align: center;\">\n      <div style=\"width: 50px; height: 50px; background: linear-gradient(135deg, #3182ce, #2c5282); border-radius: 50%; display: flex; align-items: center; justify-content: center; margin: 0 auto 8px;\">\n        <span style=\"color: white; font-size: 16px;\">📨</span>\n      </div>\n      <div style=\"color: #2d3748; font-weight: 600; font-size: 12px; margin-bottom: 2px;\">Message In</div>\n      <div style=\"color: #718096; font-size: 10px;\">Received</div>\n    </div>\n\n    <div style=\"text-align: center;\">\n      <div style=\"width: 50px; height: 50px; background: linear-gradient(135deg, #48bb78, #38a169); border-radius: 50%; display: flex; align-items: center; justify-content: center; margin: 0 auto 8px;\">\n        <span style=\"color: white; font-size: 16px;\">🎯</span>\n      </div>\n      <div style=\"color: #2d3748; font-weight: 600; font-size: 12px; margin-bottom: 2px;\">Handler</div>\n      <div style=\"color: #718096; font-size: 10px;\">Invoked</div>\n    </div>\n\n    <div style=\"text-align: center;\">\n      <div style=\"width: 50px; height: 50px; background: linear-gradient(135deg, #805ad5, #6b46c1); border-radius: 50%; display: flex; align-items: center; justify-content: center; margin: 0 auto 8px;\">\n        <span style=\"color: white; font-size: 16px;\">🧠</span>\n      </div>\n      <div style=\"color: #2d3748; font-weight: 600; font-size: 12px; margin-bottom: 2px;\">Logic</div>\n      <div style=\"color: #718096; font-size: 10px;\">Executed</div>\n    </div>\n\n    <div style=\"text-align: center;\">\n      <div style=\"width: 50px; height: 50px; background: linear-gradient(135deg, #ed8936, #dd6b20); border-radius: 50%; display: flex; align-items: center; justify-content: center; margin: 0 auto 8px;\">\n        <span style=\"color: white; font-size: 16px;\">✏️</span>\n      </div>\n      <div style=\"color: #2d3748; font-weight: 600; font-size: 12px; margin-bottom: 2px;\">Response</div>\n      <div style=\"color: #718096; font-size: 10px;\">Crafted</div>\n    </div>\n\n    <div style=\"text-align: center;\">\n      <div style=\"width: 50px; height: 50px; background: linear-gradient(135deg, #e53e3e, #c53030); border-radius: 50%; display: flex; align-items: center; justify-content: center; margin: 0 auto 8px;\">\n        <span style=\"color: white; font-size: 16px;\">📤</span>\n      </div>\n      <div style=\"color: #2d3748; font-weight: 600; font-size: 12px; margin-bottom: 2px;\">Message Out</div>\n      <div style=\"color: #718096; font-size: 10px;\">Returned</div>\n    </div>\n\n  </div>\n\n  <div style=\"margin-top: 20px; padding-top: 20px; border-top: 1px solid #e2e8f0;\">\n    <div style=\"display: flex; align-items: center; justify-content: center;\">\n      <div style=\"background: #ffffff; border: 1px solid #e2e8f0; border-radius: 8px; padding: 16px; max-width: 400px;\">\n        <div style=\"color: #2d3748; font-weight: 600; font-size: 14px; margin-bottom: 8px;\">Pattern Benefits</div>\n        <div style=\"color: #4a5568; font-size: 13px; line-height: 1.4;\">\n          This pattern enables creation of domain-specific agents with custom business logic, specialized processing capabilities, and unique behavioral characteristics.\n        </div>\n      </div>\n    </div>\n  </div>\n</div>\n\n</div>\n</div>",
   "metadata": {}
  },
  {
   "cell_type": "code",
   "execution_count": 4,
   "id": "cdc25561",
   "metadata": {},
   "outputs": [
    {
     "data": {
      "text/plain": [
       "AgentType(type='simple_agent')"
      ]
     },
     "execution_count": 4,
     "metadata": {},
     "output_type": "execute_result"
    }
   ],
   "source": [
    "\n",
    "runtime = SingleThreadedAgentRuntime()\n",
    "await SimpleAgent.register(runtime, \"simple_agent\", lambda: SimpleAgent())"
   ]
  },
  {
   "cell_type": "markdown",
   "id": "dmionuxxile",
   "source": "## Agent Registration\n<div style=\"background: linear-gradient(135deg, #A8E6CF 0%, #3D5A80 100%); padding: 20px; border-radius: 15px; color: white; box-shadow: 0 8px 25px rgba(168, 230, 207, 0.4); margin: 10px 0;\">\n\n### 🎯 **Agent Lifecycle Management**\nRegisters the custom agent with the runtime system using a factory pattern, making it available for message processing and inter-agent communication.\nThe registration process creates an AgentType identifier and associates it with a factory function that instantiates new agent instances on demand.\nThe \"simple_agent\" identifier serves as the agent's type name in the distributed system, enabling message routing and agent discovery mechanisms.\nThis registration pattern supports scalable agent deployment, allowing the runtime to create multiple instances of the same agent type as needed for load balancing and fault tolerance.\n\n</div>\n\n```mermaid\ngraph TB\n    A[\"🏭 Agent Factory\"] --> B[\"📋 Runtime Registration\"]\n    B --> C[\"🎯 Agent Type Creation\"]\n    C --> D[\"🔍 Agent Discovery\"]\n    D --> E[\"📨 Message Routing\"]\n    \n    F[\"🔧 Registration Process\"] --> G[\"1️⃣ Factory Function\"]\n    F --> H[\"2️⃣ Type Assignment\"]\n    F --> I[\"3️⃣ Runtime Binding\"]\n    F --> J[\"4️⃣ Availability Signal\"]\n    \n    subgraph \"⚡ Runtime Benefits\"\n        K[\"🚀 Dynamic Instantiation\"]\n        L[\"⚖️ Load Balancing\"]\n        M[\"🔄 Fault Tolerance\"]\n        N[\"📊 Resource Management\"]\n    end\n    \n    style A fill:#00b894,stroke:#00a085,stroke-width:3px,color:#fff\n    style B fill:#0984e3,stroke:#0974d1,stroke-width:4px,color:#fff\n    style C fill:#6c5ce7,stroke:#5f3dc4,stroke-width:3px,color:#fff\n    style E fill:#fd79a8,stroke:#e84393,stroke-width:3px,color:#fff\n    style I fill:#ffa726,stroke:#f57c00,stroke-width:2px,color:#fff\n```\n\n**🎨 Registration Advantages:**\n- 🏭 **Factory Pattern**: Efficient instance creation\n- 🎯 **Type Safety**: Strongly typed agent identification  \n- 🔄 **Dynamic Scaling**: On-demand instance provisioning\n- 📊 **Resource Efficiency**: Optimized memory and CPU usage",
   "metadata": {}
  },
  {
   "cell_type": "code",
   "execution_count": 5,
   "id": "c9ddbd22",
   "metadata": {},
   "outputs": [],
   "source": [
    "runtime.start()"
   ]
  },
  {
   "cell_type": "markdown",
   "id": "c01z7jcdekt",
   "source": "## Runtime Activation\n<div style=\"background: linear-gradient(135deg, #FF6B6B 0%, #4ECDC4 100%); padding: 20px; border-radius: 15px; color: white; box-shadow: 0 8px 25px rgba(255, 107, 107, 0.3); margin: 10px 0;\">\n\n### ⚡ **System Initialization and Event Loop**\nStarts the agent runtime system to enable message processing, agent communication, and event-driven execution across the distributed agent network.\nThe runtime initialization activates the event loop, message dispatcher, and inter-agent communication infrastructure required for agent collaboration.\nOnce started, the runtime continuously monitors for incoming messages, routes them to appropriate agents, and manages the complete message lifecycle.\nThis activation represents the transition from configuration to operational state, where agents become active participants in the distributed system ready to process real-world tasks.\n\n</div>\n\n```mermaid\ngraph TD\n    A[\"🚀 Runtime.start()\"] --> B[\"⚡ Event Loop Activation\"]\n    B --> C[\"📨 Message Dispatcher\"]\n    B --> D[\"🔄 Agent Monitor\"]\n    B --> E[\"🌐 Network Interface\"]\n    \n    C --> F[\"📬 Message Queue\"]\n    C --> G[\"🎯 Route Resolution\"]\n    \n    D --> H[\"💓 Health Checks\"]\n    D --> I[\"📊 Performance Metrics\"]\n    \n    E --> J[\"🔗 Inter-Agent Comms\"]\n    E --> K[\"📡 External APIs\"]\n    \n    subgraph \"🎮 Runtime State\"\n        L[\"✅ Active\"]\n        M[\"📈 Monitoring\"]\n        N[\"🔄 Processing\"]\n        O[\"🛡️ Protected\"]\n    end\n    \n    subgraph \"🚀 System Ready\"\n        P[\"📨 Message Processing\"]\n        Q[\"🤖 Agent Interactions\"]  \n        R[\"⚡ Event Handling\"]\n        S[\"🔧 System Management\"]\n    end\n    \n    style A fill:#e17055,stroke:#d63031,stroke-width:4px,color:#fff\n    style B fill:#00cec9,stroke:#00b3b8,stroke-width:3px,color:#fff\n    style C fill:#6c5ce7,stroke:#5f3dc4,stroke-width:3px,color:#fff\n    style F fill:#fd79a8,stroke:#e84393,stroke-width:2px,color:#fff\n    style J fill:#00b894,stroke:#00a085,stroke-width:2px,color:#fff\n```\n\n**🌟 Runtime Capabilities:**\n- ⚡ **High Performance**: Optimized message processing\n- 🔄 **Event-Driven**: Asynchronous operation model\n- 🛡️ **Fault Tolerance**: Built-in error handling and recovery\n- 📊 **Observability**: Comprehensive monitoring and logging",
   "metadata": {}
  },
  {
   "cell_type": "code",
   "execution_count": null,
   "id": "1441dbf2",
   "metadata": {},
   "outputs": [],
   "source": []
  }
 ],
 "metadata": {
  "kernelspec": {
   "display_name": "Python 3",
   "language": "python",
   "name": "python3"
  },
  "language_info": {
   "codemirror_mode": {
    "name": "ipython",
    "version": 3
   },
   "file_extension": ".py",
   "mimetype": "text/x-python",
   "name": "python",
   "nbconvert_exporter": "python",
   "pygments_lexer": "ipython3",
   "version": "3.12.3"
  }
 },
 "nbformat": 4,
 "nbformat_minor": 5
}