{
 "cells": [
  {
   "cell_type": "markdown",
   "id": "15ca6b69",
   "metadata": {},
   "source": [
    "# Introduction to Tools\n",
    "\n",
    "Language models (LMs) become far more powerful when combined with external tools.  \n",
    "Tools are central to enabling LMs to perform actions autonomously. By granting an LM access to tools, you provide it with a form of autonomy—allowing it to query databases, perform calculations, or even send messages to other LLMs.\n",
    "\n",
    "At first glance, this concept might feel complex—or even unsettling. The idea of an AI model querying your database or remotely controlling devices can sound like science fiction.  \n",
    "However, in reality, tool calling is **structured, simple, and practical**.\n"
   ]
  },
  {
   "cell_type": "markdown",
   "id": "2701f38f",
   "metadata": {},
   "source": [
    "## Visual Overview\n",
    "\n",
    "Below is a diagram representing how tool calling works:\n",
    "\n",
    "![Tool Calling Flow](/Users/mynkchaudhry/Agenticai/assests/tool.png)\n"
   ]
  },
  {
   "cell_type": "markdown",
   "id": "91f7343e",
   "metadata": {},
   "source": [
    "\n",
    "## How Tool Calling Works\n",
    "\n",
    "Tool calling allows an LM, such as GPT-4, to request the execution of external functions or tools while generating a response.\n",
    "\n",
    "The process works as follows:\n",
    "\n",
    "1. **Prompt with Available Tools** – The LM is shown a list of available tools (e.g., SQL queries, calculators, APIs).\n",
    "2. **LM Requests a Tool** – If needed, the LM responds in JSON format specifying the tool and parameters.\n",
    "3. **Execution by Code** – Your code interprets the JSON, executes the requested action, and retrieves the result.\n",
    "4. **Result Returned to LM** – The result is passed back, and the LM integrates it into the final response.\n",
    "\n",
    "This is usually implemented with simple conditional logic (e.g., `if` statements) inside your codebase.\n"
   ]
  },
  {
   "cell_type": "markdown",
   "id": "acae266d",
   "metadata": {},
   "source": [
    "## Example of Tool Use\n",
    "\n",
    "Imagine GPT-4 acting as a **support agent for an airline**.  \n",
    "The LM is allowed to query ticket prices from a database.\n",
    "\n",
    "**Conversation Example:**\n",
    "\n",
    "**User:**  \n",
    "*\"I’d like to go to Paris. How much is a flight?\"*\n",
    "\n",
    "**LM Response (JSON request):**\n",
    "```json\n",
    "{\n",
    "  \"action\": \"fetch_ticket_price\",\n",
    "  \"parameters\": {\n",
    "    \"destination\": \"Paris\"\n",
    "  }\n",
    "}\n"
   ]
  },
  {
   "cell_type": "code",
   "execution_count": null,
   "id": "39acb00e",
   "metadata": {
    "vscode": {
     "languageId": "plaintext"
    }
   },
   "outputs": [],
   "source": [
    "System Code Executes:\n",
    "Fetches the ticket price from the database → 450 USD\n",
    "\n",
    "LM Final Answer:\n",
    "\"A ticket to Paris currently costs $450. Would you like me to help you book it?\""
   ]
  },
  {
   "cell_type": "markdown",
   "id": "2ec3cb91",
   "metadata": {},
   "source": [
    "\n",
    "---\n",
    "\n",
    "### 📌 Cell 5 – Key Takeaway\n",
    "```markdown\n",
    "## Key Takeaway\n",
    "\n",
    "Tool calling is **not science fiction**—it’s a structured and practical way to give autonomy to language models.  \n",
    "By enabling controlled access to external tools, you can build powerful applications where LMs act intelligently, while you maintain **full control** over execution.\n"
   ]
  },
  {
   "cell_type": "markdown",
   "id": "323da800",
   "metadata": {},
   "source": []
  }
 ],
 "metadata": {
  "language_info": {
   "name": "python"
  }
 },
 "nbformat": 4,
 "nbformat_minor": 5
}
