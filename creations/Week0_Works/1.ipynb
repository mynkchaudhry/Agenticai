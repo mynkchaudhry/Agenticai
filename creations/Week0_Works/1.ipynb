{
 "cells": [
  {
   "cell_type": "markdown",
   "id": "9201c701",
   "metadata": {},
   "source": [
    "<table style=\"width: 100%; border-collapse: collapse; text-align: left;\">\n",
    "  <tr>\n",
    "    <td style=\"width: 150px; text-align: center; vertical-align: middle;\">\n",
    "    <img src=\"../../assests/herewego.png\" alt=\"Here we go\" width=\"150\" height=\"150\" style=\"display: block; margin: auto;\" />\n",
    "    </td>\n",
    "    <td style=\"vertical-align: middle; padding-left: 15px;\">\n",
    "      <h2 style=\"color: #ff7800; margin: 0;\">Are you ready for action?</h2>\n",
    "    </td>\n",
    "  </tr>\n",
    "</table>\n"
   ]
  },
  {
   "cell_type": "code",
   "execution_count": 19,
   "id": "264b4170",
   "metadata": {},
   "outputs": [],
   "source": [
    "from dotenv import load_dotenv\n",
    "import os"
   ]
  },
  {
   "cell_type": "code",
   "execution_count": 20,
   "id": "c7bfba49",
   "metadata": {},
   "outputs": [
    {
     "data": {
      "text/plain": [
       "True"
      ]
     },
     "execution_count": 20,
     "metadata": {},
     "output_type": "execute_result"
    }
   ],
   "source": [
    "load_dotenv(override=True)  "
   ]
  },
  {
   "cell_type": "code",
   "execution_count": 21,
   "id": "7b2616a2",
   "metadata": {},
   "outputs": [
    {
     "name": "stdout",
     "output_type": "stream",
     "text": [
      "OpenAI API Key loaded successfully.\n"
     ]
    }
   ],
   "source": [
    "openai_api_key = os.getenv(\"OPENAI_API_KEY\")\n",
    "\n",
    "if openai_api_key:\n",
    "    print(\"OpenAI API Key loaded successfully.\")\n",
    "\n",
    "else:\n",
    "    print(\"Failed to load OpenAI API Key.\")    "
   ]
  },
  {
   "cell_type": "code",
   "execution_count": 22,
   "id": "8b4b8ea1",
   "metadata": {},
   "outputs": [],
   "source": [
    "from openai import OpenAI"
   ]
  },
  {
   "cell_type": "code",
   "execution_count": 23,
   "id": "d87fcb7b",
   "metadata": {},
   "outputs": [],
   "source": [
    "openai = OpenAI()\n"
   ]
  },
  {
   "cell_type": "code",
   "execution_count": 24,
   "id": "61d51b13",
   "metadata": {},
   "outputs": [],
   "source": [
    "message = [{\"role\": \"user\", \"content\": \"what is agents in AI?\"}]"
   ]
  },
  {
   "cell_type": "code",
   "execution_count": 25,
   "id": "5c4b5565",
   "metadata": {},
   "outputs": [],
   "source": [
    "response = openai.chat.completions.create(\n",
    "    model=\"gpt-4.1-nano-2025-04-14\",\n",
    "    messages=message\n",
    ")"
   ]
  },
  {
   "cell_type": "code",
   "execution_count": 26,
   "id": "6dc71d7b",
   "metadata": {},
   "outputs": [
    {
     "name": "stdout",
     "output_type": "stream",
     "text": [
      "In artificial intelligence, an **agent** is an entity that perceives its environment through sensors and acts upon it using actuators to achieve specific goals. Essentially, an AI agent can be thought of as a software program or robot that interacts dynamically with its surroundings.\n",
      "\n",
      "**Key characteristics of an AI agent include:**\n",
      "\n",
      "- **Perception:** Gathering information about the environment through sensors (e.g., cameras, microphones).\n",
      "- **Decision-making:** Processing sensory data to determine appropriate actions based on its programming or learning.\n",
      "- **Action:** Performing actions via actuators (e.g., moving a robot arm, sending messages).\n",
      "- **Autonomy:** Operating without human intervention, making decisions based on its perceptions and goals.\n",
      "- **Reactive and deliberative behaviors:** Responding promptly to environmental changes while also planning for future actions.\n",
      "\n",
      "**Types of AI agents:**\n",
      "- **Simple reflex agents:** Act based on current percepts only.\n",
      "- **Model-based agents:** Maintain an internal state to handle partially observable environments.\n",
      "- **Goal-based agents:** Decide actions based on achieving specific goals.\n",
      "- **Learning agents:** Improve performance over time through learning.\n",
      "\n",
      "Overall, AI agents form the foundation of many intelligent systems, from autonomous vehicles to conversational AI.\n"
     ]
    }
   ],
   "source": [
    "print(response.choices[0].message.content)"
   ]
  },
  {
   "cell_type": "code",
   "execution_count": 27,
   "id": "69be0049",
   "metadata": {},
   "outputs": [
    {
     "data": {
      "text/markdown": [
       "In artificial intelligence, an **agent** is an entity that perceives its environment through sensors and acts upon it using actuators to achieve specific goals. Essentially, an AI agent can be thought of as a software program or robot that interacts dynamically with its surroundings.\n",
       "\n",
       "**Key characteristics of an AI agent include:**\n",
       "\n",
       "- **Perception:** Gathering information about the environment through sensors (e.g., cameras, microphones).\n",
       "- **Decision-making:** Processing sensory data to determine appropriate actions based on its programming or learning.\n",
       "- **Action:** Performing actions via actuators (e.g., moving a robot arm, sending messages).\n",
       "- **Autonomy:** Operating without human intervention, making decisions based on its perceptions and goals.\n",
       "- **Reactive and deliberative behaviors:** Responding promptly to environmental changes while also planning for future actions.\n",
       "\n",
       "**Types of AI agents:**\n",
       "- **Simple reflex agents:** Act based on current percepts only.\n",
       "- **Model-based agents:** Maintain an internal state to handle partially observable environments.\n",
       "- **Goal-based agents:** Decide actions based on achieving specific goals.\n",
       "- **Learning agents:** Improve performance over time through learning.\n",
       "\n",
       "Overall, AI agents form the foundation of many intelligent systems, from autonomous vehicles to conversational AI."
      ],
      "text/plain": [
       "<IPython.core.display.Markdown object>"
      ]
     },
     "metadata": {},
     "output_type": "display_data"
    }
   ],
   "source": [
    "from IPython.display import display, Markdown\n",
    "display(Markdown(response.choices[0].message.content))\n"
   ]
  },
  {
   "cell_type": "code",
   "execution_count": 28,
   "id": "10d6ffa6",
   "metadata": {},
   "outputs": [],
   "source": [
    "question = \"what is agentic workflow in AI?\"\n",
    "message = [{\"role\": \"user\", \"content\": question}]"
   ]
  },
  {
   "cell_type": "code",
   "execution_count": 29,
   "id": "1009246b",
   "metadata": {},
   "outputs": [],
   "source": [
    "response = openai.chat.completions.create(\n",
    "    model=\"gpt-4.1-nano-2025-04-14\",\n",
    "    messages=message\n",
    ")"
   ]
  },
  {
   "cell_type": "code",
   "execution_count": 30,
   "id": "1ed1d88c",
   "metadata": {},
   "outputs": [
    {
     "name": "stdout",
     "output_type": "stream",
     "text": [
      "Agentic workflow in AI refers to an approach where autonomous or semi-autonomous AI agents are designed to independently plan, make decisions, and execute tasks within a broader system. Unlike traditional workflows that are centrally managed or strictly scripted, agentic workflows enable AI entities to act with a degree of agency—meaning they can assess their environment, set goals, and determine the best course of action to achieve objectives.\n",
      "\n",
      "Key characteristics of agentic workflows include:\n",
      "\n",
      "1. **Autonomy:** AI agents operate with minimal human intervention, making informed decisions based on their perceptions and capabilities.\n",
      "2. **Adaptability:** These agents can adapt to changing conditions or new information, modifying their behavior to optimize outcomes.\n",
      "3. **Decision-Making:** They can evaluate options and select actions that align with overarching goals or constraints.\n",
      "4. **Coordination:** Multiple agents may collaborate or coordinate to accomplish complex tasks, often through communication protocols or shared goals.\n",
      "\n",
      "In practical applications, agentic workflows are used in areas such as autonomous vehicles, intelligent robotics, automated trading systems, and complex process management, where flexible, decentralized decision-making enhances efficiency, robustness, and scalability.\n"
     ]
    }
   ],
   "source": [
    "print(response.choices[0].message.content)"
   ]
  },
  {
   "cell_type": "code",
   "execution_count": 31,
   "id": "bcd5cd97",
   "metadata": {},
   "outputs": [
    {
     "data": {
      "text/markdown": [
       "Agentic workflow in AI refers to an approach where autonomous or semi-autonomous AI agents are designed to independently plan, make decisions, and execute tasks within a broader system. Unlike traditional workflows that are centrally managed or strictly scripted, agentic workflows enable AI entities to act with a degree of agency—meaning they can assess their environment, set goals, and determine the best course of action to achieve objectives.\n",
       "\n",
       "Key characteristics of agentic workflows include:\n",
       "\n",
       "1. **Autonomy:** AI agents operate with minimal human intervention, making informed decisions based on their perceptions and capabilities.\n",
       "2. **Adaptability:** These agents can adapt to changing conditions or new information, modifying their behavior to optimize outcomes.\n",
       "3. **Decision-Making:** They can evaluate options and select actions that align with overarching goals or constraints.\n",
       "4. **Coordination:** Multiple agents may collaborate or coordinate to accomplish complex tasks, often through communication protocols or shared goals.\n",
       "\n",
       "In practical applications, agentic workflows are used in areas such as autonomous vehicles, intelligent robotics, automated trading systems, and complex process management, where flexible, decentralized decision-making enhances efficiency, robustness, and scalability."
      ],
      "text/plain": [
       "<IPython.core.display.Markdown object>"
      ]
     },
     "metadata": {},
     "output_type": "display_data"
    }
   ],
   "source": [
    "from IPython.display import display, Markdown\n",
    "display(Markdown(response.choices[0].message.content))"
   ]
  },
  {
   "cell_type": "code",
   "execution_count": null,
   "id": "e06c2368",
   "metadata": {},
   "outputs": [],
   "source": []
  }
 ],
 "metadata": {
  "kernelspec": {
   "display_name": "Python 3",
   "language": "python",
   "name": "python3"
  },
  "language_info": {
   "codemirror_mode": {
    "name": "ipython",
    "version": 3
   },
   "file_extension": ".py",
   "mimetype": "text/x-python",
   "name": "python",
   "nbconvert_exporter": "python",
   "pygments_lexer": "ipython3",
   "version": "3.12.3"
  }
 },
 "nbformat": 4,
 "nbformat_minor": 5
}
