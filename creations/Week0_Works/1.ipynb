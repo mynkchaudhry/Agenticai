{
 "cells": [
  {
   "cell_type": "markdown",
   "id": "9201c701",
   "metadata": {},
   "source": [
    "<table style=\"width: 100%; border-collapse: collapse; text-align: left;\">\n",
    "  <tr>\n",
    "    <td style=\"width: 150px; text-align: center; vertical-align: middle;\">\n",
    "    <img src=\"../../assests/herewego.png\" alt=\"Here we go\" width=\"150\" height=\"150\" style=\"display: block; margin: auto;\" />\n",
    "    </td>\n",
    "    <td style=\"vertical-align: middle; padding-left: 15px;\">\n",
    "      <h2 style=\"color: #ff7800; margin: 0;\">Are you ready for action?</h2>\n",
    "    </td>\n",
    "  </tr>\n",
    "</table>\n"
   ]
  },
  {
   "cell_type": "code",
   "execution_count": 1,
   "id": "264b4170",
   "metadata": {},
   "outputs": [],
   "source": [
    "from dotenv import load_dotenv\n",
    "import os"
   ]
  },
  {
   "cell_type": "code",
   "execution_count": 2,
   "id": "c7bfba49",
   "metadata": {},
   "outputs": [
    {
     "data": {
      "text/plain": [
       "True"
      ]
     },
     "execution_count": 2,
     "metadata": {},
     "output_type": "execute_result"
    }
   ],
   "source": [
    "load_dotenv(override=True)  "
   ]
  },
  {
   "cell_type": "code",
   "execution_count": 3,
   "id": "7b2616a2",
   "metadata": {},
   "outputs": [
    {
     "name": "stdout",
     "output_type": "stream",
     "text": [
      "OpenAI API Key loaded successfully.\n"
     ]
    }
   ],
   "source": [
    "openai_api_key = os.getenv(\"OPENAI_API_KEY\")\n",
    "\n",
    "if openai_api_key:\n",
    "    print(\"OpenAI API Key loaded successfully.\")\n",
    "\n",
    "else:\n",
    "    print(\"Failed to load OpenAI API Key.\")    "
   ]
  },
  {
   "cell_type": "code",
   "execution_count": 4,
   "id": "8b4b8ea1",
   "metadata": {},
   "outputs": [],
   "source": [
    "from openai import OpenAI"
   ]
  },
  {
   "cell_type": "code",
   "execution_count": 5,
   "id": "d87fcb7b",
   "metadata": {},
   "outputs": [],
   "source": [
    "openai = OpenAI()\n"
   ]
  },
  {
   "cell_type": "code",
   "execution_count": 6,
   "id": "61d51b13",
   "metadata": {},
   "outputs": [],
   "source": [
    "message = [{\"role\": \"user\", \"content\": \"what is agents in AI?\"}]"
   ]
  },
  {
   "cell_type": "code",
   "execution_count": 7,
   "id": "5c4b5565",
   "metadata": {},
   "outputs": [],
   "source": [
    "response = openai.chat.completions.create(\n",
    "    model=\"gpt-4.1-nano-2025-04-14\",\n",
    "    messages=message\n",
    ")"
   ]
  },
  {
   "cell_type": "code",
   "execution_count": 8,
   "id": "6dc71d7b",
   "metadata": {},
   "outputs": [
    {
     "name": "stdout",
     "output_type": "stream",
     "text": [
      "In Artificial Intelligence (AI), an **agent** is an entity that perceives its environment through sensors and acts upon it through actuators to achieve its goals. Essentially, an agent receives inputs (perceptions) from its surroundings, processes this information, and then takes actions to influence its environment.\n",
      "\n",
      "**Key components of an AI agent include:**\n",
      "\n",
      "1. **Sensors:** Devices or mechanisms that allow the agent to perceive its environment (e.g., cameras, microphones, sensors).\n",
      "2. **Actuators:** Devices or mechanisms used by the agent to act upon the environment (e.g., motors, speakers).\n",
      "3. **Agent Program:** The decision-making logic or algorithm that determines the actions based on perceived inputs.\n",
      "\n",
      "**Types of AI agents include:**\n",
      "\n",
      "- **Simple reflex agents:** Act based on current percepts alone, using condition-action rules.\n",
      "- **Model-based agents:** Maintain an internal state to keep track of aspects of the environment not obvious from current perception.\n",
      "- **Goal-based agents:** Make decisions based on achieving specific goals.\n",
      "- **Utilitarian agents:** Choose actions that maximize some notion of utility or happiness.\n",
      "\n",
      "**In summary:** An AI agent is any system that perceives its environment and acts autonomously to achieve its objectives.\n"
     ]
    }
   ],
   "source": [
    "print(response.choices[0].message.content)"
   ]
  },
  {
   "cell_type": "code",
   "execution_count": 9,
   "id": "69be0049",
   "metadata": {},
   "outputs": [
    {
     "data": {
      "text/markdown": [
       "In Artificial Intelligence (AI), an **agent** is an entity that perceives its environment through sensors and acts upon it through actuators to achieve its goals. Essentially, an agent receives inputs (perceptions) from its surroundings, processes this information, and then takes actions to influence its environment.\n",
       "\n",
       "**Key components of an AI agent include:**\n",
       "\n",
       "1. **Sensors:** Devices or mechanisms that allow the agent to perceive its environment (e.g., cameras, microphones, sensors).\n",
       "2. **Actuators:** Devices or mechanisms used by the agent to act upon the environment (e.g., motors, speakers).\n",
       "3. **Agent Program:** The decision-making logic or algorithm that determines the actions based on perceived inputs.\n",
       "\n",
       "**Types of AI agents include:**\n",
       "\n",
       "- **Simple reflex agents:** Act based on current percepts alone, using condition-action rules.\n",
       "- **Model-based agents:** Maintain an internal state to keep track of aspects of the environment not obvious from current perception.\n",
       "- **Goal-based agents:** Make decisions based on achieving specific goals.\n",
       "- **Utilitarian agents:** Choose actions that maximize some notion of utility or happiness.\n",
       "\n",
       "**In summary:** An AI agent is any system that perceives its environment and acts autonomously to achieve its objectives."
      ],
      "text/plain": [
       "<IPython.core.display.Markdown object>"
      ]
     },
     "metadata": {},
     "output_type": "display_data"
    }
   ],
   "source": [
    "from IPython.display import display, Markdown\n",
    "display(Markdown(response.choices[0].message.content))\n"
   ]
  },
  {
   "cell_type": "code",
   "execution_count": 10,
   "id": "10d6ffa6",
   "metadata": {},
   "outputs": [],
   "source": [
    "question = \"what is agentic workflow in AI?\"\n",
    "message = [{\"role\": \"user\", \"content\": question}]"
   ]
  },
  {
   "cell_type": "code",
   "execution_count": 11,
   "id": "1009246b",
   "metadata": {},
   "outputs": [],
   "source": [
    "response = openai.chat.completions.create(\n",
    "    model=\"gpt-4.1-nano-2025-04-14\",\n",
    "    messages=message\n",
    ")"
   ]
  },
  {
   "cell_type": "code",
   "execution_count": 12,
   "id": "1ed1d88c",
   "metadata": {},
   "outputs": [
    {
     "name": "stdout",
     "output_type": "stream",
     "text": [
      "Agentic workflow in AI refers to a collaborative process where artificial agents (such as AI systems or autonomous software agents) actively manage and execute tasks within a larger system or environment. In this framework, AI agents are designed to autonomously plan, make decisions, and carry out actions to achieve specific goals, often interacting with humans, other agents, or complex environments.\n",
      "\n",
      "Key aspects of agentic workflows include:\n",
      "\n",
      "1. **Autonomy:** AI agents can operate independently, making decisions without continuous human intervention.\n",
      "2. **Proactivity:** They can initiate actions based on goals, context, or changes in the environment.\n",
      "3. **Adaptability:** These agents adjust their behavior in response to new information or evolving conditions to optimize outcomes.\n",
      "4. **Coordination:** Multiple agents can work collaboratively, sharing information and dividing tasks to enhance efficiency.\n",
      "\n",
      "In practical terms, agentic workflows are used in domains such as autonomous systems, intelligent automation, multi-agent systems, and complex decision support environments—aiming to improve efficiency, scalability, and responsiveness in process execution.\n",
      "\n",
      "Would you like information on specific applications or how agentic workflows differ from other AI workflows?\n"
     ]
    }
   ],
   "source": [
    "print(response.choices[0].message.content)"
   ]
  },
  {
   "cell_type": "code",
   "execution_count": 13,
   "id": "bcd5cd97",
   "metadata": {},
   "outputs": [
    {
     "data": {
      "text/markdown": [
       "Agentic workflow in AI refers to a collaborative process where artificial agents (such as AI systems or autonomous software agents) actively manage and execute tasks within a larger system or environment. In this framework, AI agents are designed to autonomously plan, make decisions, and carry out actions to achieve specific goals, often interacting with humans, other agents, or complex environments.\n",
       "\n",
       "Key aspects of agentic workflows include:\n",
       "\n",
       "1. **Autonomy:** AI agents can operate independently, making decisions without continuous human intervention.\n",
       "2. **Proactivity:** They can initiate actions based on goals, context, or changes in the environment.\n",
       "3. **Adaptability:** These agents adjust their behavior in response to new information or evolving conditions to optimize outcomes.\n",
       "4. **Coordination:** Multiple agents can work collaboratively, sharing information and dividing tasks to enhance efficiency.\n",
       "\n",
       "In practical terms, agentic workflows are used in domains such as autonomous systems, intelligent automation, multi-agent systems, and complex decision support environments—aiming to improve efficiency, scalability, and responsiveness in process execution.\n",
       "\n",
       "Would you like information on specific applications or how agentic workflows differ from other AI workflows?"
      ],
      "text/plain": [
       "<IPython.core.display.Markdown object>"
      ]
     },
     "metadata": {},
     "output_type": "display_data"
    }
   ],
   "source": [
    "from IPython.display import display, Markdown\n",
    "display(Markdown(response.choices[0].message.content))"
   ]
  },
  {
   "cell_type": "code",
   "execution_count": null,
   "id": "e06c2368",
   "metadata": {},
   "outputs": [],
   "source": []
  }
 ],
 "metadata": {
  "kernelspec": {
   "display_name": "Python 3",
   "language": "python",
   "name": "python3"
  },
  "language_info": {
   "codemirror_mode": {
    "name": "ipython",
    "version": 3
   },
   "file_extension": ".py",
   "mimetype": "text/x-python",
   "name": "python",
   "nbconvert_exporter": "python",
   "pygments_lexer": "ipython3",
   "version": "3.12.3"
  }
 },
 "nbformat": 4,
 "nbformat_minor": 5
}
