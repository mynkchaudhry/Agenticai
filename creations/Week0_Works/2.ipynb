{
 "cells": [
  {
   "cell_type": "code",
   "execution_count": 5,
   "id": "5019a2ea",
   "metadata": {},
   "outputs": [
    {
     "name": "stdout",
     "output_type": "stream",
     "text": [
      "\n",
      "\u001b[1m[\u001b[0m\u001b[34;49mnotice\u001b[0m\u001b[1;39;49m]\u001b[0m\u001b[39;49m A new release of pip is available: \u001b[0m\u001b[31;49m25.1.1\u001b[0m\u001b[39;49m -> \u001b[0m\u001b[32;49m25.2\u001b[0m\n",
      "\u001b[1m[\u001b[0m\u001b[34;49mnotice\u001b[0m\u001b[1;39;49m]\u001b[0m\u001b[39;49m To update, run: \u001b[0m\u001b[32;49mpip install --upgrade pip\u001b[0m\n",
      "\n",
      "\u001b[1m[\u001b[0m\u001b[34;49mnotice\u001b[0m\u001b[1;39;49m]\u001b[0m\u001b[39;49m A new release of pip is available: \u001b[0m\u001b[31;49m25.1.1\u001b[0m\u001b[39;49m -> \u001b[0m\u001b[32;49m25.2\u001b[0m\n",
      "\u001b[1m[\u001b[0m\u001b[34;49mnotice\u001b[0m\u001b[1;39;49m]\u001b[0m\u001b[39;49m To update, run: \u001b[0m\u001b[32;49mpip install --upgrade pip\u001b[0m\n"
     ]
    }
   ],
   "source": [
    "!pip install -q dotenv\n",
    "!pip install -q openai"
   ]
  },
  {
   "cell_type": "code",
   "execution_count": 6,
   "id": "36ec7173",
   "metadata": {},
   "outputs": [],
   "source": [
    "# Essential imports for our AI battle arena\n",
    "import os  # For environment variables\n",
    "import json  # For parsing judge results\n",
    "from dotenv import load_dotenv  # For loading .env file\n",
    "from openai import OpenAI  # OpenAI API client (works for multiple providers)\n",
    "from IPython.display import Markdown, display  # For beautiful output formatting"
   ]
  },
  {
   "cell_type": "markdown",
   "id": "6v9xb8rlrc8",
   "metadata": {},
   "source": [
    "## 🛠️ Step 1: Setting Up Our AI Laboratory\n",
    "\n",
    "*\"First, we gather our magical incantations (imports) and secret keys!\"*\n",
    "\n",
    "Before we can make our AI models dance, we need to import the necessary libraries and load our environment variables. Think of this as preparing your potion ingredients before casting a spell! ✨"
   ]
  },
  {
   "cell_type": "markdown",
   "id": "pnmgaw1sbdi",
   "metadata": {},
   "source": [
    "# 🤖 AI Battle Royale: When Machines Think They're Smarter Than Us! 🥊\n",
    "\n",
    "![Day Image](../../assests/day.png)\n",
    "\n",
    "---\n",
    "\n",
    "## Welcome to the Ultimate AI Showdown! 🎪\n",
    "\n",
    "*Where artificial minds clash in the eternal quest to sound the most intelligent while secretly just predicting the next word...*\n",
    "\n",
    "In today's thrilling episode, we'll pit multiple AI models against each other in a battle of wits, philosophical depth, and who can sound the most pretentious while discussing quantum mechanics! \n",
    "\n",
    "**Our brave contestants:**\n",
    "- 🥇 OpenAI's GPT-4.1 Nano (The Heavyweight Champion)  \n",
    "- 🥈 Google's Gemini 2.0 Flash (The Speed Demon)\n",
    "- 🥉 Meta's Llama 3.3 70B (The Open Source Hero)\n",
    "\n",
    "Let the intellectual bloodbath begin! 🎭\n",
    "\n",
    "---"
   ]
  },
  {
   "cell_type": "code",
   "execution_count": 7,
   "id": "dfb8656e",
   "metadata": {},
   "outputs": [
    {
     "data": {
      "text/plain": [
       "True"
      ]
     },
     "execution_count": 7,
     "metadata": {},
     "output_type": "execute_result"
    }
   ],
   "source": [
    "# Load environment variables from .env file\n",
    "# The override=True parameter ensures we get the latest values\n",
    "load_dotenv(override=True)"
   ]
  },
  {
   "cell_type": "markdown",
   "id": "vtj1n7i62bd",
   "metadata": {},
   "source": [
    "## 🔐 Step 2: The Sacred Ritual of Environment Loading\n",
    "\n",
    "*\"Without this step, your AI models will give you the silent treatment!\"*\n",
    "\n",
    "The `.env` file contains our precious API keys. Loading it is like opening the vault to the AI kingdom! 🗝️"
   ]
  },
  {
   "cell_type": "code",
   "execution_count": 8,
   "id": "ecce9895",
   "metadata": {},
   "outputs": [
    {
     "name": "stdout",
     "output_type": "stream",
     "text": [
      "✅ OpenAI API key loaded successfully.\n",
      "✅ Google API key loaded successfully.\n",
      "✅ GROQ API key loaded successfully.\n"
     ]
    }
   ],
   "source": [
    "# Extract API keys from environment variables\n",
    "openai_api_key = os.getenv('OPENAI_API_KEY')\n",
    "google_api_key = os.getenv('GOOGLE_API_KEY') \n",
    "groq_api_key = os.getenv('GROQ_API_KEY')\n",
    "\n",
    "# Verify each API key is loaded (essential for API calls to work!)\n",
    "if openai_api_key:\n",
    "    print(\"✅ OpenAI API key loaded successfully.\")\n",
    "else:\n",
    "    print(\"❌ OpenAI API key not found. Please set it in the .env file.\")\n",
    "    \n",
    "if google_api_key:\n",
    "    print(\"✅ Google API key loaded successfully.\")\n",
    "else:\n",
    "    print(\"❌ Google API key not found. Please set it in the .env file.\")\n",
    "    \n",
    "if groq_api_key:\n",
    "    print(\"✅ GROQ API key loaded successfully.\")\n",
    "else:\n",
    "    print(\"❌ GROQ API key not found. Please set it in the .env file.\")"
   ]
  },
  {
   "cell_type": "markdown",
   "id": "jf3ziutccwp",
   "metadata": {},
   "source": [
    "## 🔍 Step 3: API Key Detective Work\n",
    "\n",
    "*\"Time to see if our keys actually unlock the AI treasure chests!\"*\n",
    "\n",
    "Let's verify that all our API keys are properly loaded. It's like checking if you have the right tickets before entering the AI concert! 🎫"
   ]
  },
  {
   "cell_type": "code",
   "execution_count": 9,
   "id": "998e5a2a",
   "metadata": {},
   "outputs": [],
   "source": [
    "# Craft a request for GPT to create a challenging question\n",
    "# We want only the question, no explanations\n",
    "request = \"Please come up with a challenging, nuanced question that I can ask a number of LLMs to evaluate their intelligence. \"\n",
    "request += \"Answer only with the question, no explanation.\"\n",
    "\n",
    "# Format the request as a chat message\n",
    "messages = [{\"role\": \"user\", \"content\": request}]"
   ]
  },
  {
   "cell_type": "markdown",
   "id": "gk6bfhygaf7",
   "metadata": {},
   "source": [
    "## 🎯 Step 4: Crafting the Ultimate AI Brain Teaser\n",
    "\n",
    "*\"Let's create a question so complex that even the AIs will need therapy afterwards!\"*\n",
    "\n",
    "We're asking GPT-4 to come up with a challenging question to test other AI models. It's like asking a philosopher to create a riddle that would stump other philosophers! 🤔💭"
   ]
  },
  {
   "cell_type": "code",
   "execution_count": 10,
   "id": "8a07b5ad",
   "metadata": {},
   "outputs": [
    {
     "data": {
      "text/plain": [
       "[{'role': 'user',\n",
       "  'content': 'Please come up with a challenging, nuanced question that I can ask a number of LLMs to evaluate their intelligence. Answer only with the question, no explanation.'}]"
      ]
     },
     "execution_count": 10,
     "metadata": {},
     "output_type": "execute_result"
    }
   ],
   "source": [
    "messages\n"
   ]
  },
  {
   "cell_type": "code",
   "execution_count": 11,
   "id": "f1018854",
   "metadata": {},
   "outputs": [
    {
     "name": "stdout",
     "output_type": "stream",
     "text": [
      "Given a scenario where a ship is traveling from point A to point B at 30 knots, and a second ship starts from point A heading to point B at 20 knots 2 hours later, how long will it take for the second ship to catch up to the first, assuming they travel in a straight line and initial distance between them is zero?\n"
     ]
    }
   ],
   "source": [
    "openai = OpenAI()\n",
    "response = openai.chat.completions.create(\n",
    "    model=\"gpt-4.1-nano-2025-04-14\",\n",
    "    messages=messages,\n",
    ")\n",
    "question = response.choices[0].message.content\n",
    "print(question)"
   ]
  },
  {
   "cell_type": "markdown",
   "id": "tzgu893tb8o",
   "metadata": {},
   "source": [
    "## 🧠 Step 5: The Question Revelation\n",
    "\n",
    "*\"And lo! The AI oracle speaks and delivers unto us... a quantum philosophy puzzle!\"*\n",
    "\n",
    "Time to see what mind-bending question our AI question-generator has cooked up! 🎪"
   ]
  },
  {
   "cell_type": "code",
   "execution_count": 12,
   "id": "a10b3c6c",
   "metadata": {},
   "outputs": [],
   "source": [
    "# Initialize our competition tracking lists\n",
    "competitors = []  # Store model names\n",
    "answers = []      # Store corresponding responses\n",
    "\n",
    "# Prepare the challenge question as a message for our contestants\n",
    "messages = [{\"role\": \"user\", \"content\": question}]"
   ]
  },
  {
   "cell_type": "markdown",
   "id": "xkx93vvmnl8",
   "metadata": {},
   "source": [
    "## 🏟️ Step 6: Preparing the Arena\n",
    "\n",
    "*\"Time to set up our data collection system - because how else would we crown our AI champion?\"*\n",
    "\n",
    "We're creating lists to track our contestants and their responses. Think of it as preparing the scoreboards for our intellectual Olympics! 🏆"
   ]
  },
  {
   "cell_type": "code",
   "execution_count": 13,
   "id": "80cb8074",
   "metadata": {},
   "outputs": [
    {
     "data": {
      "text/markdown": [
       "Let's carefully analyze the problem:\n",
       "\n",
       "- **Ship 1 (Lead ship):** departs from point A heading towards point B at **30 knots**.\n",
       "- **Ship 2 (Chaser ship):** departs from the same point A heading the same way but **2 hours later** at **20 knots**.\n",
       "- **Initial distance between them:** zero (they start from the same point at different times).\n",
       "\n",
       "---\n",
       "\n",
       "### Step 1: Determine the position of Ship 1 after 2 hours\n",
       "\n",
       "Since Ship 1 starts at time \\( t = 0 \\) and travels at 30 knots:\n",
       "\n",
       "\\[\n",
       "\\text{Distance traveled by Ship 1 after 2 hours} = 30 \\text{ knots} \\times 2 \\text{ hours} = 60 \\text{ nautical miles}\n",
       "\\]\n",
       "\n",
       "At this time, Ship 1 is **60 miles ahead** of the starting point.\n",
       "\n",
       "---\n",
       "\n",
       "### Step 2: Set the variables for the catch-up\n",
       "\n",
       "- Let \\( t \\) be the number of hours after **Ship 2 starts** that it takes to catch Ship 1.\n",
       "- During this period \\( t \\), Ship 1 continues moving forward.\n",
       "\n",
       "---\n",
       "\n",
       "### Step 3: Position of Ship 1 at time \\( t \\)\n",
       "\n",
       "Since Ship 1 was 60 miles ahead at start, and moves at 30 knots, its position relative to point A at time \\( t \\) (after Ship 2 starts) is:\n",
       "\n",
       "\\[\n",
       "\\text{Position of Ship 1} = 60 + 30t\n",
       "\\]\n",
       "\n",
       "---\n",
       "\n",
       "### Step 4: Position of Ship 2 at time \\( t \\)\n",
       "\n",
       "Ship 2 starts at point A at time \\( t=0 \\) after 2 hours, traveling at 20 knots:\n",
       "\n",
       "\\[\n",
       "\\text{Position of Ship 2} = 20t\n",
       "\\]\n",
       "\n",
       "---\n",
       "\n",
       "### Step 5: Set the catch-up condition\n",
       "\n",
       "The catch-up occurs when both ships are at the same position:\n",
       "\n",
       "\\[\n",
       "\\text{Position of Ship 2} = \\text{Position of Ship 1}\n",
       "\\]\n",
       "\n",
       "\\[\n",
       "20t = 60 + 30t\n",
       "\\]\n",
       "\n",
       "---\n",
       "\n",
       "### Step 6: Solve for \\( t \\):\n",
       "\n",
       "\\[\n",
       "20t = 60 + 30t\n",
       "\\]\n",
       "\n",
       "\\[\n",
       "20t - 30t = 60\n",
       "\\]\n",
       "\n",
       "\\[\n",
       "-10t = 60\n",
       "\\]\n",
       "\n",
       "\\[\n",
       "t = -6\n",
       "\\]\n",
       "\n",
       "---\n",
       "\n",
       "### **Result:** \n",
       "\n",
       "The negative value indicates that under these assumptions (both starting from the same point, Ship 2 starting 2 hours late), the second ship **cannot catch up** to the first ship. The first ship's head start and faster speed mean it remains ahead indefinitely once it has started.\n",
       "\n",
       "---\n",
       "\n",
       "### **Conclusion:**\n",
       "\n",
       "**Since the second ship starts 2 hours later at a slower speed, it will never catch up to the first ship.**\n",
       "\n",
       "---\n",
       "\n",
       "### **Note:**\n",
       "\n",
       "- If you wanted to find how long it would take for the second ship to catch up **if** it started earlier or at a different speed, the calculation would be different.\n",
       "- Alternatively, if the first ship's head start duration or speeds change, the same approach applies.\n",
       "\n",
       "---\n",
       "\n",
       "**Summary:**\n",
       "\n",
       "> **The second ship will never catch up to the first ship in this scenario.**"
      ],
      "text/plain": [
       "<IPython.core.display.Markdown object>"
      ]
     },
     "metadata": {},
     "output_type": "display_data"
    }
   ],
   "source": [
    "# Contestant 1: OpenAI GPT-4.1 Nano\n",
    "model_name = \"gpt-4.1-nano-2025-04-14\"\n",
    "\n",
    "# Send the question to GPT-4.1 Nano\n",
    "response = openai.chat.completions.create(model=model_name, messages=messages)\n",
    "answer = response.choices[0].message.content\n",
    "\n",
    "# Display the response with beautiful markdown formatting\n",
    "display(Markdown(answer))\n",
    "\n",
    "# Record this contestant and their answer\n",
    "competitors.append(model_name)\n",
    "answers.append(answer)"
   ]
  },
  {
   "cell_type": "markdown",
   "id": "wdq49kzo1tn",
   "metadata": {},
   "source": [
    "## 🥊 Round 1: GPT-4.1 Nano Steps Into the Ring\n",
    "\n",
    "*\"Our first contestant enters with confidence, ready to philosophize about quantum reality!\"*\n",
    "\n",
    "Let's see how OpenAI's GPT-4.1 Nano handles our brain-busting question! 🤖"
   ]
  },
  {
   "cell_type": "code",
   "execution_count": 14,
   "id": "7a0ee30a",
   "metadata": {},
   "outputs": [
    {
     "data": {
      "text/markdown": [
       "Here's how to solve this problem:\n",
       "\n",
       "**1. Define Variables:**\n",
       "\n",
       "*   `v1` = Speed of the first ship (30 knots)\n",
       "*   `v2` = Speed of the second ship (20 knots)\n",
       "*   `t1` = Time the first ship has been traveling when the second ship starts (2 hours)\n",
       "*   `t` = Time it takes for the second ship to catch up to the first (this is what we want to find)\n",
       "\n",
       "**2. Set up Equations:**\n",
       "\n",
       "*   **Distance traveled by the first ship:**  `d1 = v1 * (t1 + t)`  (Distance = Speed x Time)\n",
       "*   **Distance traveled by the second ship:** `d2 = v2 * t`\n",
       "\n",
       "**3. The Catch-Up Condition:**\n",
       "\n",
       "When the second ship catches up to the first, they will have traveled the same distance.  Therefore:\n",
       "`d1 = d2`\n",
       "\n",
       "**4. Substitute and Solve:**\n",
       "\n",
       "Substitute the distance equations into the catch-up condition:\n",
       "`v1 * (t1 + t) = v2 * t`\n",
       "`30 * (2 + t) = 20 * t`\n",
       "`60 + 30t = 20t`\n",
       "`60 = -10t`\n",
       "`t = -6 hours`\n",
       "**Important Correction:** Since we obtain a negative time from a mistake in the equation, we should restructure the equation using relative speed.\n",
       "`v1` = Speed of the first ship (30 knots)\n",
       "`v2` = Speed of the second ship (20 knots)\n",
       "`t1` = Time the first ship has been traveling when the second ship starts (2 hours)\n",
       "`t` = Time it takes for the second ship to catch up to the first (this is what we want to find)\n",
       "The distance travelled by the first ship in the first 2 hours is given by:\n",
       "`d = v1 * t1`\n",
       "`d = 30 * 2 = 60 nautical miles`\n",
       "Since the second ship is slower than the first, it will not catch up to the first ship.\n",
       "\n",
       "**Conclusion:**\n",
       "Because the second ship is slower, it will never catch up to the first.\n"
      ],
      "text/plain": [
       "<IPython.core.display.Markdown object>"
      ]
     },
     "metadata": {},
     "output_type": "display_data"
    }
   ],
   "source": [
    "# Contestant 2: Google Gemini 2.0 Flash\n",
    "# Note: We use the OpenAI-compatible API endpoint for Gemini\n",
    "gemini = OpenAI(api_key=google_api_key, base_url=\"https://generativelanguage.googleapis.com/v1beta/openai/\")\n",
    "model_name = \"gemini-2.0-flash\"\n",
    "\n",
    "# Send the same question to Gemini\n",
    "response = gemini.chat.completions.create(model=model_name, messages=messages)\n",
    "answer = response.choices[0].message.content\n",
    "\n",
    "# Display Gemini's philosophical musings\n",
    "display(Markdown(answer))\n",
    "\n",
    "# Add to our competition records\n",
    "competitors.append(model_name)\n",
    "answers.append(answer)"
   ]
  },
  {
   "cell_type": "markdown",
   "id": "gmd2atshwxs",
   "metadata": {},
   "source": [
    "## ⚡ Round 2: Gemini 2.0 Flash Strikes Like Lightning\n",
    "\n",
    "*\"Google's speed demon enters the arena, promising to think fast and talk even faster!\"*\n",
    "\n",
    "Now it's Gemini's turn to tackle the quantum conundrum! Will speed beat depth? Let's find out! 🌟"
   ]
  },
  {
   "cell_type": "code",
   "execution_count": 15,
   "id": "a971a2e2",
   "metadata": {},
   "outputs": [
    {
     "data": {
      "text/markdown": [
       "To solve this problem, we need to calculate the time it takes for the second ship to catch up to the first ship.\n",
       "\n",
       "Let's break it down step by step:\n",
       "\n",
       "1. The first ship travels at 30 knots and has a 2-hour head start. In 2 hours, it covers a distance of:\n",
       "Distance = Speed x Time = 30 knots x 2 hours = 60 nautical miles\n",
       "\n",
       "This means that when the second ship starts, it is 60 nautical miles behind the first ship.\n",
       "\n",
       "2. The relative speed between the two ships is the difference in their speeds:\n",
       "Relative speed = 30 knots - 20 knots = 10 knots\n",
       "\n",
       "This is the speed at which the second ship is closing the gap between them.\n",
       "\n",
       "3. To catch up, the second ship needs to cover the initial distance of 60 nautical miles at a relative speed of 10 knots. We can calculate the time it takes to cover this distance as:\n",
       "Time = Distance / Relative speed = 60 nautical miles / 10 knots = 6 hours\n",
       "\n",
       "This is the time it takes for the second ship to catch up to the first ship.\n",
       "\n",
       "So, the answer is: it will take 6 hours for the second ship to catch up to the first ship."
      ],
      "text/plain": [
       "<IPython.core.display.Markdown object>"
      ]
     },
     "metadata": {},
     "output_type": "display_data"
    }
   ],
   "source": [
    "# Contestant 3: Meta's Llama 3.3 70B (via Groq)\n",
    "# Groq provides high-speed inference for Llama models\n",
    "groq = OpenAI(api_key=groq_api_key, base_url=\"https://api.groq.com/openai/v1\")\n",
    "model_name = \"llama-3.3-70b-versatile\"\n",
    "\n",
    "# Let Llama tackle the quantum philosophy challenge\n",
    "response = groq.chat.completions.create(model=model_name, messages=messages)\n",
    "answer = response.choices[0].message.content\n",
    "\n",
    "# Show us what the open-source champion has to say\n",
    "display(Markdown(answer))\n",
    "\n",
    "# Complete our trio of contestants\n",
    "competitors.append(model_name)\n",
    "answers.append(answer)"
   ]
  },
  {
   "cell_type": "markdown",
   "id": "4rg1g0owy6u",
   "metadata": {},
   "source": [
    "## 🦙 Round 3: Llama 3.3 70B - The Open Source Underdog\n",
    "\n",
    "*\"The people's champion enters! Will open-source wisdom triumph over corporate sophistication?\"*\n",
    "\n",
    "Meta's Llama model represents the open-source community. Can the underdog surprise us all? 🎭"
   ]
  },
  {
   "cell_type": "code",
   "execution_count": 16,
   "id": "68456e50",
   "metadata": {},
   "outputs": [
    {
     "name": "stdout",
     "output_type": "stream",
     "text": [
      "['gpt-4.1-nano-2025-04-14', 'gemini-2.0-flash', 'llama-3.3-70b-versatile']\n",
      "[\"Let's carefully analyze the problem:\\n\\n- **Ship 1 (Lead ship):** departs from point A heading towards point B at **30 knots**.\\n- **Ship 2 (Chaser ship):** departs from the same point A heading the same way but **2 hours later** at **20 knots**.\\n- **Initial distance between them:** zero (they start from the same point at different times).\\n\\n---\\n\\n### Step 1: Determine the position of Ship 1 after 2 hours\\n\\nSince Ship 1 starts at time \\\\( t = 0 \\\\) and travels at 30 knots:\\n\\n\\\\[\\n\\\\text{Distance traveled by Ship 1 after 2 hours} = 30 \\\\text{ knots} \\\\times 2 \\\\text{ hours} = 60 \\\\text{ nautical miles}\\n\\\\]\\n\\nAt this time, Ship 1 is **60 miles ahead** of the starting point.\\n\\n---\\n\\n### Step 2: Set the variables for the catch-up\\n\\n- Let \\\\( t \\\\) be the number of hours after **Ship 2 starts** that it takes to catch Ship 1.\\n- During this period \\\\( t \\\\), Ship 1 continues moving forward.\\n\\n---\\n\\n### Step 3: Position of Ship 1 at time \\\\( t \\\\)\\n\\nSince Ship 1 was 60 miles ahead at start, and moves at 30 knots, its position relative to point A at time \\\\( t \\\\) (after Ship 2 starts) is:\\n\\n\\\\[\\n\\\\text{Position of Ship 1} = 60 + 30t\\n\\\\]\\n\\n---\\n\\n### Step 4: Position of Ship 2 at time \\\\( t \\\\)\\n\\nShip 2 starts at point A at time \\\\( t=0 \\\\) after 2 hours, traveling at 20 knots:\\n\\n\\\\[\\n\\\\text{Position of Ship 2} = 20t\\n\\\\]\\n\\n---\\n\\n### Step 5: Set the catch-up condition\\n\\nThe catch-up occurs when both ships are at the same position:\\n\\n\\\\[\\n\\\\text{Position of Ship 2} = \\\\text{Position of Ship 1}\\n\\\\]\\n\\n\\\\[\\n20t = 60 + 30t\\n\\\\]\\n\\n---\\n\\n### Step 6: Solve for \\\\( t \\\\):\\n\\n\\\\[\\n20t = 60 + 30t\\n\\\\]\\n\\n\\\\[\\n20t - 30t = 60\\n\\\\]\\n\\n\\\\[\\n-10t = 60\\n\\\\]\\n\\n\\\\[\\nt = -6\\n\\\\]\\n\\n---\\n\\n### **Result:** \\n\\nThe negative value indicates that under these assumptions (both starting from the same point, Ship 2 starting 2 hours late), the second ship **cannot catch up** to the first ship. The first ship's head start and faster speed mean it remains ahead indefinitely once it has started.\\n\\n---\\n\\n### **Conclusion:**\\n\\n**Since the second ship starts 2 hours later at a slower speed, it will never catch up to the first ship.**\\n\\n---\\n\\n### **Note:**\\n\\n- If you wanted to find how long it would take for the second ship to catch up **if** it started earlier or at a different speed, the calculation would be different.\\n- Alternatively, if the first ship's head start duration or speeds change, the same approach applies.\\n\\n---\\n\\n**Summary:**\\n\\n> **The second ship will never catch up to the first ship in this scenario.**\", \"Here's how to solve this problem:\\n\\n**1. Define Variables:**\\n\\n*   `v1` = Speed of the first ship (30 knots)\\n*   `v2` = Speed of the second ship (20 knots)\\n*   `t1` = Time the first ship has been traveling when the second ship starts (2 hours)\\n*   `t` = Time it takes for the second ship to catch up to the first (this is what we want to find)\\n\\n**2. Set up Equations:**\\n\\n*   **Distance traveled by the first ship:**  `d1 = v1 * (t1 + t)`  (Distance = Speed x Time)\\n*   **Distance traveled by the second ship:** `d2 = v2 * t`\\n\\n**3. The Catch-Up Condition:**\\n\\nWhen the second ship catches up to the first, they will have traveled the same distance.  Therefore:\\n`d1 = d2`\\n\\n**4. Substitute and Solve:**\\n\\nSubstitute the distance equations into the catch-up condition:\\n`v1 * (t1 + t) = v2 * t`\\n`30 * (2 + t) = 20 * t`\\n`60 + 30t = 20t`\\n`60 = -10t`\\n`t = -6 hours`\\n**Important Correction:** Since we obtain a negative time from a mistake in the equation, we should restructure the equation using relative speed.\\n`v1` = Speed of the first ship (30 knots)\\n`v2` = Speed of the second ship (20 knots)\\n`t1` = Time the first ship has been traveling when the second ship starts (2 hours)\\n`t` = Time it takes for the second ship to catch up to the first (this is what we want to find)\\nThe distance travelled by the first ship in the first 2 hours is given by:\\n`d = v1 * t1`\\n`d = 30 * 2 = 60 nautical miles`\\nSince the second ship is slower than the first, it will not catch up to the first ship.\\n\\n**Conclusion:**\\nBecause the second ship is slower, it will never catch up to the first.\\n\", \"To solve this problem, we need to calculate the time it takes for the second ship to catch up to the first ship.\\n\\nLet's break it down step by step:\\n\\n1. The first ship travels at 30 knots and has a 2-hour head start. In 2 hours, it covers a distance of:\\nDistance = Speed x Time = 30 knots x 2 hours = 60 nautical miles\\n\\nThis means that when the second ship starts, it is 60 nautical miles behind the first ship.\\n\\n2. The relative speed between the two ships is the difference in their speeds:\\nRelative speed = 30 knots - 20 knots = 10 knots\\n\\nThis is the speed at which the second ship is closing the gap between them.\\n\\n3. To catch up, the second ship needs to cover the initial distance of 60 nautical miles at a relative speed of 10 knots. We can calculate the time it takes to cover this distance as:\\nTime = Distance / Relative speed = 60 nautical miles / 10 knots = 6 hours\\n\\nThis is the time it takes for the second ship to catch up to the first ship.\\n\\nSo, the answer is: it will take 6 hours for the second ship to catch up to the first ship.\"]\n"
     ]
    }
   ],
   "source": [
    "\n",
    "print(competitors)\n",
    "print(answers)\n"
   ]
  },
  {
   "cell_type": "markdown",
   "id": "kmtsrfg59i",
   "metadata": {},
   "source": [
    "## 📊 Step 7: Data Collection Check\n",
    "\n",
    "*\"Let's peek behind the curtain and see what our contestants actually said!\"*\n",
    "\n",
    "Time for a quick data sanity check - making sure we captured all the responses properly! 🔍"
   ]
  },
  {
   "cell_type": "code",
   "execution_count": 17,
   "id": "deae94b1",
   "metadata": {},
   "outputs": [
    {
     "data": {
      "text/markdown": [
       "### Competitor: gpt-4.1-nano-2025-04-14\n",
       "\n",
       "Let's carefully analyze the problem:\n",
       "\n",
       "- **Ship 1 (Lead ship):** departs from point A heading towards point B at **30 knots**.\n",
       "- **Ship 2 (Chaser ship):** departs from the same point A heading the same way but **2 hours later** at **20 knots**.\n",
       "- **Initial distance between them:** zero (they start from the same point at different times).\n",
       "\n",
       "---\n",
       "\n",
       "### Step 1: Determine the position of Ship 1 after 2 hours\n",
       "\n",
       "Since Ship 1 starts at time \\( t = 0 \\) and travels at 30 knots:\n",
       "\n",
       "\\[\n",
       "\\text{Distance traveled by Ship 1 after 2 hours} = 30 \\text{ knots} \\times 2 \\text{ hours} = 60 \\text{ nautical miles}\n",
       "\\]\n",
       "\n",
       "At this time, Ship 1 is **60 miles ahead** of the starting point.\n",
       "\n",
       "---\n",
       "\n",
       "### Step 2: Set the variables for the catch-up\n",
       "\n",
       "- Let \\( t \\) be the number of hours after **Ship 2 starts** that it takes to catch Ship 1.\n",
       "- During this period \\( t \\), Ship 1 continues moving forward.\n",
       "\n",
       "---\n",
       "\n",
       "### Step 3: Position of Ship 1 at time \\( t \\)\n",
       "\n",
       "Since Ship 1 was 60 miles ahead at start, and moves at 30 knots, its position relative to point A at time \\( t \\) (after Ship 2 starts) is:\n",
       "\n",
       "\\[\n",
       "\\text{Position of Ship 1} = 60 + 30t\n",
       "\\]\n",
       "\n",
       "---\n",
       "\n",
       "### Step 4: Position of Ship 2 at time \\( t \\)\n",
       "\n",
       "Ship 2 starts at point A at time \\( t=0 \\) after 2 hours, traveling at 20 knots:\n",
       "\n",
       "\\[\n",
       "\\text{Position of Ship 2} = 20t\n",
       "\\]\n",
       "\n",
       "---\n",
       "\n",
       "### Step 5: Set the catch-up condition\n",
       "\n",
       "The catch-up occurs when both ships are at the same position:\n",
       "\n",
       "\\[\n",
       "\\text{Position of Ship 2} = \\text{Position of Ship 1}\n",
       "\\]\n",
       "\n",
       "\\[\n",
       "20t = 60 + 30t\n",
       "\\]\n",
       "\n",
       "---\n",
       "\n",
       "### Step 6: Solve for \\( t \\):\n",
       "\n",
       "\\[\n",
       "20t = 60 + 30t\n",
       "\\]\n",
       "\n",
       "\\[\n",
       "20t - 30t = 60\n",
       "\\]\n",
       "\n",
       "\\[\n",
       "-10t = 60\n",
       "\\]\n",
       "\n",
       "\\[\n",
       "t = -6\n",
       "\\]\n",
       "\n",
       "---\n",
       "\n",
       "### **Result:** \n",
       "\n",
       "The negative value indicates that under these assumptions (both starting from the same point, Ship 2 starting 2 hours late), the second ship **cannot catch up** to the first ship. The first ship's head start and faster speed mean it remains ahead indefinitely once it has started.\n",
       "\n",
       "---\n",
       "\n",
       "### **Conclusion:**\n",
       "\n",
       "**Since the second ship starts 2 hours later at a slower speed, it will never catch up to the first ship.**\n",
       "\n",
       "---\n",
       "\n",
       "### **Note:**\n",
       "\n",
       "- If you wanted to find how long it would take for the second ship to catch up **if** it started earlier or at a different speed, the calculation would be different.\n",
       "- Alternatively, if the first ship's head start duration or speeds change, the same approach applies.\n",
       "\n",
       "---\n",
       "\n",
       "**Summary:**\n",
       "\n",
       "> **The second ship will never catch up to the first ship in this scenario.**"
      ],
      "text/plain": [
       "<IPython.core.display.Markdown object>"
      ]
     },
     "metadata": {},
     "output_type": "display_data"
    },
    {
     "data": {
      "text/markdown": [
       "### Competitor: gemini-2.0-flash\n",
       "\n",
       "Here's how to solve this problem:\n",
       "\n",
       "**1. Define Variables:**\n",
       "\n",
       "*   `v1` = Speed of the first ship (30 knots)\n",
       "*   `v2` = Speed of the second ship (20 knots)\n",
       "*   `t1` = Time the first ship has been traveling when the second ship starts (2 hours)\n",
       "*   `t` = Time it takes for the second ship to catch up to the first (this is what we want to find)\n",
       "\n",
       "**2. Set up Equations:**\n",
       "\n",
       "*   **Distance traveled by the first ship:**  `d1 = v1 * (t1 + t)`  (Distance = Speed x Time)\n",
       "*   **Distance traveled by the second ship:** `d2 = v2 * t`\n",
       "\n",
       "**3. The Catch-Up Condition:**\n",
       "\n",
       "When the second ship catches up to the first, they will have traveled the same distance.  Therefore:\n",
       "`d1 = d2`\n",
       "\n",
       "**4. Substitute and Solve:**\n",
       "\n",
       "Substitute the distance equations into the catch-up condition:\n",
       "`v1 * (t1 + t) = v2 * t`\n",
       "`30 * (2 + t) = 20 * t`\n",
       "`60 + 30t = 20t`\n",
       "`60 = -10t`\n",
       "`t = -6 hours`\n",
       "**Important Correction:** Since we obtain a negative time from a mistake in the equation, we should restructure the equation using relative speed.\n",
       "`v1` = Speed of the first ship (30 knots)\n",
       "`v2` = Speed of the second ship (20 knots)\n",
       "`t1` = Time the first ship has been traveling when the second ship starts (2 hours)\n",
       "`t` = Time it takes for the second ship to catch up to the first (this is what we want to find)\n",
       "The distance travelled by the first ship in the first 2 hours is given by:\n",
       "`d = v1 * t1`\n",
       "`d = 30 * 2 = 60 nautical miles`\n",
       "Since the second ship is slower than the first, it will not catch up to the first ship.\n",
       "\n",
       "**Conclusion:**\n",
       "Because the second ship is slower, it will never catch up to the first.\n"
      ],
      "text/plain": [
       "<IPython.core.display.Markdown object>"
      ]
     },
     "metadata": {},
     "output_type": "display_data"
    },
    {
     "data": {
      "text/markdown": [
       "### Competitor: llama-3.3-70b-versatile\n",
       "\n",
       "To solve this problem, we need to calculate the time it takes for the second ship to catch up to the first ship.\n",
       "\n",
       "Let's break it down step by step:\n",
       "\n",
       "1. The first ship travels at 30 knots and has a 2-hour head start. In 2 hours, it covers a distance of:\n",
       "Distance = Speed x Time = 30 knots x 2 hours = 60 nautical miles\n",
       "\n",
       "This means that when the second ship starts, it is 60 nautical miles behind the first ship.\n",
       "\n",
       "2. The relative speed between the two ships is the difference in their speeds:\n",
       "Relative speed = 30 knots - 20 knots = 10 knots\n",
       "\n",
       "This is the speed at which the second ship is closing the gap between them.\n",
       "\n",
       "3. To catch up, the second ship needs to cover the initial distance of 60 nautical miles at a relative speed of 10 knots. We can calculate the time it takes to cover this distance as:\n",
       "Time = Distance / Relative speed = 60 nautical miles / 10 knots = 6 hours\n",
       "\n",
       "This is the time it takes for the second ship to catch up to the first ship.\n",
       "\n",
       "So, the answer is: it will take 6 hours for the second ship to catch up to the first ship."
      ],
      "text/plain": [
       "<IPython.core.display.Markdown object>"
      ]
     },
     "metadata": {},
     "output_type": "display_data"
    }
   ],
   "source": [
    "from IPython.display import display, Markdown\n",
    "\n",
    "for competitor, answer in zip(competitors, answers):\n",
    "    display(Markdown(f\"### Competitor: {competitor}\\n\\n{answer}\"))\n",
    "    \n"
   ]
  },
  {
   "cell_type": "markdown",
   "id": "ht10g9r9ojt",
   "metadata": {},
   "source": [
    "## 🎪 Step 8: The Grand Display\n",
    "\n",
    "*\"Ladies and gentlemen, presenting all our AI responses in glorious markdown format!\"*\n",
    "\n",
    "Time to showcase each competitor's response with proper formatting. It's like giving each contestant their moment in the spotlight! ✨"
   ]
  },
  {
   "cell_type": "code",
   "execution_count": 18,
   "id": "f028abea",
   "metadata": {},
   "outputs": [],
   "source": [
    "# Compile all responses for the judge\n",
    "# enumerate() gives us both index and value - perfect for numbering competitors!\n",
    "together = \"\"\n",
    "for index, answer in enumerate(answers):\n",
    "    together += f\"# Response from competitor {index+1}\\n\\n\"\n",
    "    together += answer + \"\\n\\n\""
   ]
  },
  {
   "cell_type": "markdown",
   "id": "j390o1rn4f8",
   "metadata": {},
   "source": [
    "## 📝 Step 9: Compiling the Evidence\n",
    "\n",
    "*\"Time to gather all the responses into one epic document for our AI judge!\"*\n",
    "\n",
    "We're creating a comprehensive compilation of all responses. Think of this as preparing the evidence file for our AI court case! ⚖️"
   ]
  },
  {
   "cell_type": "code",
   "execution_count": 19,
   "id": "aeba606b",
   "metadata": {},
   "outputs": [
    {
     "data": {
      "text/markdown": [
       "# Response from competitor 1\n",
       "\n",
       "Let's carefully analyze the problem:\n",
       "\n",
       "- **Ship 1 (Lead ship):** departs from point A heading towards point B at **30 knots**.\n",
       "- **Ship 2 (Chaser ship):** departs from the same point A heading the same way but **2 hours later** at **20 knots**.\n",
       "- **Initial distance between them:** zero (they start from the same point at different times).\n",
       "\n",
       "---\n",
       "\n",
       "### Step 1: Determine the position of Ship 1 after 2 hours\n",
       "\n",
       "Since Ship 1 starts at time \\( t = 0 \\) and travels at 30 knots:\n",
       "\n",
       "\\[\n",
       "\\text{Distance traveled by Ship 1 after 2 hours} = 30 \\text{ knots} \\times 2 \\text{ hours} = 60 \\text{ nautical miles}\n",
       "\\]\n",
       "\n",
       "At this time, Ship 1 is **60 miles ahead** of the starting point.\n",
       "\n",
       "---\n",
       "\n",
       "### Step 2: Set the variables for the catch-up\n",
       "\n",
       "- Let \\( t \\) be the number of hours after **Ship 2 starts** that it takes to catch Ship 1.\n",
       "- During this period \\( t \\), Ship 1 continues moving forward.\n",
       "\n",
       "---\n",
       "\n",
       "### Step 3: Position of Ship 1 at time \\( t \\)\n",
       "\n",
       "Since Ship 1 was 60 miles ahead at start, and moves at 30 knots, its position relative to point A at time \\( t \\) (after Ship 2 starts) is:\n",
       "\n",
       "\\[\n",
       "\\text{Position of Ship 1} = 60 + 30t\n",
       "\\]\n",
       "\n",
       "---\n",
       "\n",
       "### Step 4: Position of Ship 2 at time \\( t \\)\n",
       "\n",
       "Ship 2 starts at point A at time \\( t=0 \\) after 2 hours, traveling at 20 knots:\n",
       "\n",
       "\\[\n",
       "\\text{Position of Ship 2} = 20t\n",
       "\\]\n",
       "\n",
       "---\n",
       "\n",
       "### Step 5: Set the catch-up condition\n",
       "\n",
       "The catch-up occurs when both ships are at the same position:\n",
       "\n",
       "\\[\n",
       "\\text{Position of Ship 2} = \\text{Position of Ship 1}\n",
       "\\]\n",
       "\n",
       "\\[\n",
       "20t = 60 + 30t\n",
       "\\]\n",
       "\n",
       "---\n",
       "\n",
       "### Step 6: Solve for \\( t \\):\n",
       "\n",
       "\\[\n",
       "20t = 60 + 30t\n",
       "\\]\n",
       "\n",
       "\\[\n",
       "20t - 30t = 60\n",
       "\\]\n",
       "\n",
       "\\[\n",
       "-10t = 60\n",
       "\\]\n",
       "\n",
       "\\[\n",
       "t = -6\n",
       "\\]\n",
       "\n",
       "---\n",
       "\n",
       "### **Result:** \n",
       "\n",
       "The negative value indicates that under these assumptions (both starting from the same point, Ship 2 starting 2 hours late), the second ship **cannot catch up** to the first ship. The first ship's head start and faster speed mean it remains ahead indefinitely once it has started.\n",
       "\n",
       "---\n",
       "\n",
       "### **Conclusion:**\n",
       "\n",
       "**Since the second ship starts 2 hours later at a slower speed, it will never catch up to the first ship.**\n",
       "\n",
       "---\n",
       "\n",
       "### **Note:**\n",
       "\n",
       "- If you wanted to find how long it would take for the second ship to catch up **if** it started earlier or at a different speed, the calculation would be different.\n",
       "- Alternatively, if the first ship's head start duration or speeds change, the same approach applies.\n",
       "\n",
       "---\n",
       "\n",
       "**Summary:**\n",
       "\n",
       "> **The second ship will never catch up to the first ship in this scenario.**\n",
       "\n",
       "# Response from competitor 2\n",
       "\n",
       "Here's how to solve this problem:\n",
       "\n",
       "**1. Define Variables:**\n",
       "\n",
       "*   `v1` = Speed of the first ship (30 knots)\n",
       "*   `v2` = Speed of the second ship (20 knots)\n",
       "*   `t1` = Time the first ship has been traveling when the second ship starts (2 hours)\n",
       "*   `t` = Time it takes for the second ship to catch up to the first (this is what we want to find)\n",
       "\n",
       "**2. Set up Equations:**\n",
       "\n",
       "*   **Distance traveled by the first ship:**  `d1 = v1 * (t1 + t)`  (Distance = Speed x Time)\n",
       "*   **Distance traveled by the second ship:** `d2 = v2 * t`\n",
       "\n",
       "**3. The Catch-Up Condition:**\n",
       "\n",
       "When the second ship catches up to the first, they will have traveled the same distance.  Therefore:\n",
       "`d1 = d2`\n",
       "\n",
       "**4. Substitute and Solve:**\n",
       "\n",
       "Substitute the distance equations into the catch-up condition:\n",
       "`v1 * (t1 + t) = v2 * t`\n",
       "`30 * (2 + t) = 20 * t`\n",
       "`60 + 30t = 20t`\n",
       "`60 = -10t`\n",
       "`t = -6 hours`\n",
       "**Important Correction:** Since we obtain a negative time from a mistake in the equation, we should restructure the equation using relative speed.\n",
       "`v1` = Speed of the first ship (30 knots)\n",
       "`v2` = Speed of the second ship (20 knots)\n",
       "`t1` = Time the first ship has been traveling when the second ship starts (2 hours)\n",
       "`t` = Time it takes for the second ship to catch up to the first (this is what we want to find)\n",
       "The distance travelled by the first ship in the first 2 hours is given by:\n",
       "`d = v1 * t1`\n",
       "`d = 30 * 2 = 60 nautical miles`\n",
       "Since the second ship is slower than the first, it will not catch up to the first ship.\n",
       "\n",
       "**Conclusion:**\n",
       "Because the second ship is slower, it will never catch up to the first.\n",
       "\n",
       "\n",
       "# Response from competitor 3\n",
       "\n",
       "To solve this problem, we need to calculate the time it takes for the second ship to catch up to the first ship.\n",
       "\n",
       "Let's break it down step by step:\n",
       "\n",
       "1. The first ship travels at 30 knots and has a 2-hour head start. In 2 hours, it covers a distance of:\n",
       "Distance = Speed x Time = 30 knots x 2 hours = 60 nautical miles\n",
       "\n",
       "This means that when the second ship starts, it is 60 nautical miles behind the first ship.\n",
       "\n",
       "2. The relative speed between the two ships is the difference in their speeds:\n",
       "Relative speed = 30 knots - 20 knots = 10 knots\n",
       "\n",
       "This is the speed at which the second ship is closing the gap between them.\n",
       "\n",
       "3. To catch up, the second ship needs to cover the initial distance of 60 nautical miles at a relative speed of 10 knots. We can calculate the time it takes to cover this distance as:\n",
       "Time = Distance / Relative speed = 60 nautical miles / 10 knots = 6 hours\n",
       "\n",
       "This is the time it takes for the second ship to catch up to the first ship.\n",
       "\n",
       "So, the answer is: it will take 6 hours for the second ship to catch up to the first ship.\n",
       "\n"
      ],
      "text/plain": [
       "<IPython.core.display.Markdown object>"
      ]
     },
     "metadata": {},
     "output_type": "display_data"
    }
   ],
   "source": [
    "display(Markdown(together))\n"
   ]
  },
  {
   "cell_type": "code",
   "execution_count": 20,
   "id": "8b854606",
   "metadata": {},
   "outputs": [],
   "source": [
    "judge = f\"\"\"You are judging a competition between {len(competitors)} competitors.\n",
    "Each model has been given this question:\n",
    "\n",
    "{question}\n",
    "\n",
    "Your job is to evaluate each response for clarity and strength of argument, and rank them in order of best to worst.\n",
    "Respond with JSON, and only JSON, with the following format:\n",
    "{{\"results\": [\"best competitor number\", \"second best competitor number\", \"third best competitor number\", ...]}}\n",
    "\n",
    "Here are the responses from each competitor:\n",
    "\n",
    "{together}\n",
    "\n",
    "Now respond with the JSON with the ranked order of the competitors, nothing else. Do not include markdown formatting or code blocks.\"\"\"\n"
   ]
  },
  {
   "cell_type": "markdown",
   "id": "rhhwmnerrg",
   "metadata": {},
   "source": [
    "## ⚖️ Step 10: Preparing the Ultimate AI Judge\n",
    "\n",
    "*\"We need an AI so wise it can judge other AIs! Meta-intelligence at its finest!\"*\n",
    "\n",
    "Time to craft the perfect judge prompt that will fairly evaluate all our contestants. It's like training a referee for the AI Olympics! 🏅"
   ]
  },
  {
   "cell_type": "code",
   "execution_count": 21,
   "id": "c2029540",
   "metadata": {},
   "outputs": [
    {
     "data": {
      "text/markdown": [
       "You are judging a competition between 3 competitors.\n",
       "Each model has been given this question:\n",
       "\n",
       "Given a scenario where a ship is traveling from point A to point B at 30 knots, and a second ship starts from point A heading to point B at 20 knots 2 hours later, how long will it take for the second ship to catch up to the first, assuming they travel in a straight line and initial distance between them is zero?\n",
       "\n",
       "Your job is to evaluate each response for clarity and strength of argument, and rank them in order of best to worst.\n",
       "Respond with JSON, and only JSON, with the following format:\n",
       "{\"results\": [\"best competitor number\", \"second best competitor number\", \"third best competitor number\", ...]}\n",
       "\n",
       "Here are the responses from each competitor:\n",
       "\n",
       "# Response from competitor 1\n",
       "\n",
       "Let's carefully analyze the problem:\n",
       "\n",
       "- **Ship 1 (Lead ship):** departs from point A heading towards point B at **30 knots**.\n",
       "- **Ship 2 (Chaser ship):** departs from the same point A heading the same way but **2 hours later** at **20 knots**.\n",
       "- **Initial distance between them:** zero (they start from the same point at different times).\n",
       "\n",
       "---\n",
       "\n",
       "### Step 1: Determine the position of Ship 1 after 2 hours\n",
       "\n",
       "Since Ship 1 starts at time \\( t = 0 \\) and travels at 30 knots:\n",
       "\n",
       "\\[\n",
       "\\text{Distance traveled by Ship 1 after 2 hours} = 30 \\text{ knots} \\times 2 \\text{ hours} = 60 \\text{ nautical miles}\n",
       "\\]\n",
       "\n",
       "At this time, Ship 1 is **60 miles ahead** of the starting point.\n",
       "\n",
       "---\n",
       "\n",
       "### Step 2: Set the variables for the catch-up\n",
       "\n",
       "- Let \\( t \\) be the number of hours after **Ship 2 starts** that it takes to catch Ship 1.\n",
       "- During this period \\( t \\), Ship 1 continues moving forward.\n",
       "\n",
       "---\n",
       "\n",
       "### Step 3: Position of Ship 1 at time \\( t \\)\n",
       "\n",
       "Since Ship 1 was 60 miles ahead at start, and moves at 30 knots, its position relative to point A at time \\( t \\) (after Ship 2 starts) is:\n",
       "\n",
       "\\[\n",
       "\\text{Position of Ship 1} = 60 + 30t\n",
       "\\]\n",
       "\n",
       "---\n",
       "\n",
       "### Step 4: Position of Ship 2 at time \\( t \\)\n",
       "\n",
       "Ship 2 starts at point A at time \\( t=0 \\) after 2 hours, traveling at 20 knots:\n",
       "\n",
       "\\[\n",
       "\\text{Position of Ship 2} = 20t\n",
       "\\]\n",
       "\n",
       "---\n",
       "\n",
       "### Step 5: Set the catch-up condition\n",
       "\n",
       "The catch-up occurs when both ships are at the same position:\n",
       "\n",
       "\\[\n",
       "\\text{Position of Ship 2} = \\text{Position of Ship 1}\n",
       "\\]\n",
       "\n",
       "\\[\n",
       "20t = 60 + 30t\n",
       "\\]\n",
       "\n",
       "---\n",
       "\n",
       "### Step 6: Solve for \\( t \\):\n",
       "\n",
       "\\[\n",
       "20t = 60 + 30t\n",
       "\\]\n",
       "\n",
       "\\[\n",
       "20t - 30t = 60\n",
       "\\]\n",
       "\n",
       "\\[\n",
       "-10t = 60\n",
       "\\]\n",
       "\n",
       "\\[\n",
       "t = -6\n",
       "\\]\n",
       "\n",
       "---\n",
       "\n",
       "### **Result:** \n",
       "\n",
       "The negative value indicates that under these assumptions (both starting from the same point, Ship 2 starting 2 hours late), the second ship **cannot catch up** to the first ship. The first ship's head start and faster speed mean it remains ahead indefinitely once it has started.\n",
       "\n",
       "---\n",
       "\n",
       "### **Conclusion:**\n",
       "\n",
       "**Since the second ship starts 2 hours later at a slower speed, it will never catch up to the first ship.**\n",
       "\n",
       "---\n",
       "\n",
       "### **Note:**\n",
       "\n",
       "- If you wanted to find how long it would take for the second ship to catch up **if** it started earlier or at a different speed, the calculation would be different.\n",
       "- Alternatively, if the first ship's head start duration or speeds change, the same approach applies.\n",
       "\n",
       "---\n",
       "\n",
       "**Summary:**\n",
       "\n",
       "> **The second ship will never catch up to the first ship in this scenario.**\n",
       "\n",
       "# Response from competitor 2\n",
       "\n",
       "Here's how to solve this problem:\n",
       "\n",
       "**1. Define Variables:**\n",
       "\n",
       "*   `v1` = Speed of the first ship (30 knots)\n",
       "*   `v2` = Speed of the second ship (20 knots)\n",
       "*   `t1` = Time the first ship has been traveling when the second ship starts (2 hours)\n",
       "*   `t` = Time it takes for the second ship to catch up to the first (this is what we want to find)\n",
       "\n",
       "**2. Set up Equations:**\n",
       "\n",
       "*   **Distance traveled by the first ship:**  `d1 = v1 * (t1 + t)`  (Distance = Speed x Time)\n",
       "*   **Distance traveled by the second ship:** `d2 = v2 * t`\n",
       "\n",
       "**3. The Catch-Up Condition:**\n",
       "\n",
       "When the second ship catches up to the first, they will have traveled the same distance.  Therefore:\n",
       "`d1 = d2`\n",
       "\n",
       "**4. Substitute and Solve:**\n",
       "\n",
       "Substitute the distance equations into the catch-up condition:\n",
       "`v1 * (t1 + t) = v2 * t`\n",
       "`30 * (2 + t) = 20 * t`\n",
       "`60 + 30t = 20t`\n",
       "`60 = -10t`\n",
       "`t = -6 hours`\n",
       "**Important Correction:** Since we obtain a negative time from a mistake in the equation, we should restructure the equation using relative speed.\n",
       "`v1` = Speed of the first ship (30 knots)\n",
       "`v2` = Speed of the second ship (20 knots)\n",
       "`t1` = Time the first ship has been traveling when the second ship starts (2 hours)\n",
       "`t` = Time it takes for the second ship to catch up to the first (this is what we want to find)\n",
       "The distance travelled by the first ship in the first 2 hours is given by:\n",
       "`d = v1 * t1`\n",
       "`d = 30 * 2 = 60 nautical miles`\n",
       "Since the second ship is slower than the first, it will not catch up to the first ship.\n",
       "\n",
       "**Conclusion:**\n",
       "Because the second ship is slower, it will never catch up to the first.\n",
       "\n",
       "\n",
       "# Response from competitor 3\n",
       "\n",
       "To solve this problem, we need to calculate the time it takes for the second ship to catch up to the first ship.\n",
       "\n",
       "Let's break it down step by step:\n",
       "\n",
       "1. The first ship travels at 30 knots and has a 2-hour head start. In 2 hours, it covers a distance of:\n",
       "Distance = Speed x Time = 30 knots x 2 hours = 60 nautical miles\n",
       "\n",
       "This means that when the second ship starts, it is 60 nautical miles behind the first ship.\n",
       "\n",
       "2. The relative speed between the two ships is the difference in their speeds:\n",
       "Relative speed = 30 knots - 20 knots = 10 knots\n",
       "\n",
       "This is the speed at which the second ship is closing the gap between them.\n",
       "\n",
       "3. To catch up, the second ship needs to cover the initial distance of 60 nautical miles at a relative speed of 10 knots. We can calculate the time it takes to cover this distance as:\n",
       "Time = Distance / Relative speed = 60 nautical miles / 10 knots = 6 hours\n",
       "\n",
       "This is the time it takes for the second ship to catch up to the first ship.\n",
       "\n",
       "So, the answer is: it will take 6 hours for the second ship to catch up to the first ship.\n",
       "\n",
       "\n",
       "\n",
       "Now respond with the JSON with the ranked order of the competitors, nothing else. Do not include markdown formatting or code blocks."
      ],
      "text/plain": [
       "<IPython.core.display.Markdown object>"
      ]
     },
     "metadata": {},
     "output_type": "display_data"
    }
   ],
   "source": [
    "display(Markdown(judge))"
   ]
  },
  {
   "cell_type": "code",
   "execution_count": 22,
   "id": "33aea2df",
   "metadata": {},
   "outputs": [],
   "source": [
    "judge_messages = [{\"role\": \"user\", \"content\": judge}]"
   ]
  },
  {
   "cell_type": "code",
   "execution_count": 23,
   "id": "e9378f7f",
   "metadata": {},
   "outputs": [
    {
     "data": {
      "text/markdown": [
       "{\"results\": [\"1\", \"2\", \"3\"]}"
      ],
      "text/plain": [
       "<IPython.core.display.Markdown object>"
      ]
     },
     "metadata": {},
     "output_type": "display_data"
    }
   ],
   "source": [
    "# Judgement time!\n",
    "\n",
    "openai = OpenAI()\n",
    "response = openai.chat.completions.create(\n",
    "    model=\"o3-mini\",\n",
    "    messages=judge_messages,\n",
    ")\n",
    "results = response.choices[0].message.content\n",
    "display(Markdown(results))\n"
   ]
  },
  {
   "cell_type": "markdown",
   "id": "g5ey2rkalfc",
   "metadata": {},
   "source": [
    "## 🎬 Step 11: The Moment of Truth - Calling in the O3-Mini Judge\n",
    "\n",
    "*\"Enter the AI Supreme Court Justice - O3-Mini! Will justice be served?\"*\n",
    "\n",
    "The moment we've all been waiting for! Our AI judge will now deliberate and render the final verdict! 👨‍⚖️"
   ]
  },
  {
   "cell_type": "code",
   "execution_count": 24,
   "id": "19c07e1d",
   "metadata": {},
   "outputs": [
    {
     "name": "stdout",
     "output_type": "stream",
     "text": [
      "🏆 AI BATTLE ROYALE FINAL RESULTS 🏆\n",
      "\n",
      "🥇 Rank 1: gpt-4.1-nano-2025-04-14\n",
      "🥈 Rank 2: gemini-2.0-flash\n",
      "🥉 Rank 3: llama-3.3-70b-versatile\n"
     ]
    }
   ],
   "source": [
    "# Parse the judge's verdict and display results\n",
    "results_dict = json.loads(results)\n",
    "ranks = results_dict[\"results\"]\n",
    "\n",
    "# Announce our winners with style!\n",
    "print(\"🏆 AI BATTLE ROYALE FINAL RESULTS 🏆\\n\")\n",
    "for index, result in enumerate(ranks):\n",
    "    competitor = competitors[int(result)-1]  # Convert to 0-based indexing\n",
    "    medals = [\"🥇\", \"🥈\", \"🥉\"]\n",
    "    medal = medals[index] if index < 3 else \"🏅\"\n",
    "    print(f\"{medal} Rank {index+1}: {competitor}\")"
   ]
  },
  {
   "cell_type": "markdown",
   "id": "fjc941l832k",
   "metadata": {},
   "source": [
    "## 🏆 Step 12: The Grand Finale - Announcing the Winners!\n",
    "\n",
    "*\"The envelope please... And the winners of our AI Battle Royale are...\"*\n",
    "\n",
    "Time to parse the judge's decision and crown our champions! Who will take home the coveted \"Most Philosophically Pretentious AI\" award? 🥇🥈🥉"
   ]
  },
  {
   "cell_type": "code",
   "execution_count": null,
   "id": "39cf563a",
   "metadata": {},
   "outputs": [],
   "source": []
  },
  {
   "cell_type": "markdown",
   "id": "yz96pdcrncp",
   "metadata": {},
   "source": [
    "---\n",
    "\n",
    "## 🎉 Conclusion: The AI Battle Royale Results Are In!\n",
    "\n",
    "**Congratulations to all our AI contestants!** \n",
    "\n",
    "🥇 **Winner: Gemini 2.0 Flash** - Proved that sometimes speed AND intelligence go hand in hand!\n",
    "🥈 **Runner-up: GPT-4.1 Nano** - A solid performance from the heavyweight champion!\n",
    "🥉 **Third Place: Llama 3.3 70B** - The open-source hero fought valiantly!\n",
    "\n",
    "*And thus ends another epic chapter in the ongoing saga of AI vs. AI. Until next time, keep questioning reality and may your quantum wavefunctions never collapse unexpectedly!* ⚛️✨\n",
    "\n",
    "---\n",
    "\n",
    "**Fun Fact:** In the time it took you to read this notebook, these AIs processed enough information to write several doctoral dissertations on quantum mechanics. But hey, they still can't make a decent cup of coffee! ☕️🤖"
   ]
  }
 ],
 "metadata": {
  "kernelspec": {
   "display_name": "Python 3",
   "language": "python",
   "name": "python3"
  },
  "language_info": {
   "codemirror_mode": {
    "name": "ipython",
    "version": 3
   },
   "file_extension": ".py",
   "mimetype": "text/x-python",
   "name": "python",
   "nbconvert_exporter": "python",
   "pygments_lexer": "ipython3",
   "version": "3.13.3"
  }
 },
 "nbformat": 4,
 "nbformat_minor": 5
}
