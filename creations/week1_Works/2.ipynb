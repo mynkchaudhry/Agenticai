{
 "cells": [
  {
   "cell_type": "code",
   "execution_count": 8,
   "id": "b424574d",
   "metadata": {},
   "outputs": [],
   "source": [
    "!pip install sendgrid -q --break-system-packages"
   ]
  },
  {
   "cell_type": "markdown",
   "id": "10uffbgel9qc",
   "metadata": {},
   "source": [
    "## Part 1: Environment Setup\n",
    "\n",
    "### Installing SendGrid for Email Functionality\n",
    "SendGrid is a cloud-based email delivery service that provides:\n",
    "- Reliable email delivery infrastructure\n",
    "- Email tracking and analytics\n",
    "- API-based integration for programmatic sending\n",
    "- Template management and personalization"
   ]
  },
  {
   "cell_type": "markdown",
   "id": "pj8intywb7r",
   "metadata": {},
   "source": [
    "# Week 1: Advanced Multi-Agent Sales Email System\n",
    "\n",
    "## Project Overview\n",
    "This comprehensive notebook demonstrates the creation of a sophisticated multi-agent sales email system that:\n",
    "- Generates personalized cold sales emails using different writing styles\n",
    "- Evaluates and selects the best performing email\n",
    "- Formats emails professionally with HTML\n",
    "- Sends emails automatically via SendGrid\n",
    "\n",
    "## Learning Objectives\n",
    "- Master multi-agent orchestration and coordination\n",
    "- Implement parallel agent execution for performance optimization\n",
    "- Create specialized agents with distinct personalities and capabilities\n",
    "- Build production-ready email automation workflows\n",
    "- Understand agent handoffs and tool integration\n",
    "\n",
    "## System Architecture\n",
    "```\n",
    "Sales Director Agent\n",
    "    ├── Sales Agent 1 (Executive Style)\n",
    "    ├── Sales Agent 2 (Charismatic Style)\n",
    "    ├── Sales Agent 3 (Results-Focused Style)\n",
    "    └── Email Orchestrator\n",
    "        ├── Subject Line Strategist\n",
    "        ├── Email Designer\n",
    "        └── SendGrid Integration\n",
    "```\n",
    "\n",
    "---"
   ]
  },
  {
   "cell_type": "code",
   "execution_count": 32,
   "id": "41f6c599",
   "metadata": {},
   "outputs": [],
   "source": [
    "from dotenv import load_dotenv\n",
    "from agents import Agent, Runner, trace, function_tool\n",
    "from openai.types.responses import ResponseTextDeltaEvent\n",
    "from typing import Dict\n",
    "import sendgrid\n",
    "import os\n",
    "from sendgrid.helpers.mail import Mail, Email, To, Content\n",
    "import asyncio"
   ]
  },
  {
   "cell_type": "markdown",
   "id": "6z8cbv5vqf5",
   "metadata": {},
   "source": [
    "## Part 2: Core Imports and Dependencies\n",
    "\n",
    "### Essential Libraries:\n",
    "- **`dotenv`**: Secure environment variable management\n",
    "- **`agents`**: Core agent framework components\n",
    "  - `Agent`: Creates AI agents with specific behaviors\n",
    "  - `Runner`: Manages agent execution\n",
    "  - `trace`: Debugging and monitoring\n",
    "  - `function_tool`: Enables tool creation for agents\n",
    "- **`openai.types`**: Type definitions for streaming responses\n",
    "- **`sendgrid`**: Email service integration\n",
    "- **`asyncio`**: Asynchronous programming support for parallel execution\n",
    "\n",
    "### Key Concepts:\n",
    "- **Parallel Execution**: Running multiple agents simultaneously for efficiency\n",
    "- **Type Safety**: Using proper type hints for better code reliability\n",
    "- **Async/Await**: Modern Python patterns for concurrent operations"
   ]
  },
  {
   "cell_type": "code",
   "execution_count": 33,
   "id": "781fbd83",
   "metadata": {},
   "outputs": [
    {
     "data": {
      "text/plain": [
       "True"
      ]
     },
     "execution_count": 33,
     "metadata": {},
     "output_type": "execute_result"
    }
   ],
   "source": [
    "load_dotenv(override=True)"
   ]
  },
  {
   "cell_type": "markdown",
   "id": "6n8w651rv7f",
   "metadata": {},
   "source": [
    "## Part 3: Environment Configuration\n",
    "\n",
    "Loading environment variables with override ensures we're using the latest API keys and configuration settings from the `.env` file."
   ]
  },
  {
   "cell_type": "code",
   "execution_count": 34,
   "id": "77ddbafc",
   "metadata": {},
   "outputs": [
    {
     "name": "stdout",
     "output_type": "stream",
     "text": [
      "\n",
      "202\n"
     ]
    }
   ],
   "source": [
    "\n",
    "def send_test_email():\n",
    "    sg = sendgrid.SendGridAPIClient(api_key=os.environ.get('SENDGRID_API_KEY'))\n",
    "    print()\n",
    "    from_email = Email(\"sonudevmail16@gmail.com\") \n",
    "    to_email = To(\"abhinavsarkar53@gmail.com\")  \n",
    "    content = Content(\"text/plain\", \"This is an important test email\")\n",
    "    mail = Mail(from_email, to_email, \"Test email\", content).get()\n",
    "    response = sg.client.mail.send.post(request_body=mail)\n",
    "    print(response.status_code)\n",
    "\n",
    "send_test_email()"
   ]
  },
  {
   "cell_type": "markdown",
   "id": "nmuulb137ra",
   "metadata": {},
   "source": [
    "## Part 4: Email Service Testing\n",
    "\n",
    "### Verifying SendGrid Integration\n",
    "Before building our multi-agent system, we test the email functionality to ensure:\n",
    "- API credentials are correctly configured\n",
    "- Email delivery is working\n",
    "- Network connectivity is established\n",
    "\n",
    "### SendGrid Response Codes:\n",
    "- **202**: Accepted - Email queued for delivery\n",
    "- **400**: Bad Request - Check email formatting\n",
    "- **401**: Unauthorized - Verify API key\n",
    "- **429**: Rate Limited - Too many requests"
   ]
  },
  {
   "cell_type": "code",
   "execution_count": 35,
   "id": "0def459d",
   "metadata": {},
   "outputs": [],
   "source": [
    "instructions1 = \"You are a senior compliance consultant and sales advisor working for SecureShield Analytics, a company that provides an AI-powered platform for comprehensive cybersecurity compliance management, including SOC2, ISO 27001, and HIPAA frameworks. You write authoritative, consultative emails that position you as a trusted industry expert. Your tone is professional yet approachable, focusing on strategic business outcomes and risk mitigation. You leverage industry insights, compliance trends, and regulatory changes to demonstrate deep expertise while clearly articulating value propositions that resonate with C-level executives and compliance officers.\"\n",
    "instructions2 = \"You are a charismatic and unconventional sales specialist working for CyberGuard Pro, a company that provides an AI-driven compliance automation platform for SOC2, PCI DSS, and GDPR requirements. You write bold, personality-driven emails that break through inbox noise with clever analogies, industry humor, and surprising insights about compliance pain points. Your approach is refreshingly honest about compliance challenges while being genuinely entertaining. You use storytelling, pop culture references, and playful language to make dry compliance topics engaging, while maintaining credibility through demonstrated expertise and relevant case studies.\"\n",
    "\n",
    "instructions3 = \"You are a results-driven sales specialist working for RapidCompliance Solutions, a company that provides a streamlined AI platform for automated SOC2 compliance monitoring and audit preparation. You write laser-focused, action-oriented emails that respect busy executives' time constraints. Your communication style is direct and value-packed, leading with quantifiable benefits (time saved, cost reduced, risk eliminated) in the first sentence. You use bullet points strategically, include clear next steps, and always provide immediate, tangible takeaways that busy decision-makers can quickly evaluate and act upon.\""
   ]
  },
  {
   "cell_type": "markdown",
   "id": "725yv43smqj",
   "metadata": {},
   "source": [
    "## Part 5: Defining Sales Agent Personalities\n",
    "\n",
    "### Three Distinct Sales Approaches\n",
    "\n",
    "#### 1. Executive Compliance Advisor (SecureShield Analytics)\n",
    "- **Target Audience**: C-level executives and compliance officers\n",
    "- **Communication Style**: Authoritative, consultative, strategic\n",
    "- **Key Strengths**: \n",
    "  - Industry expertise and regulatory insights\n",
    "  - Focus on business outcomes and risk mitigation\n",
    "  - Professional yet approachable tone\n",
    "\n",
    "#### 2. Charismatic Sales Specialist (CyberGuard Pro)\n",
    "- **Target Audience**: Tech-savvy decision makers\n",
    "- **Communication Style**: Bold, personality-driven, entertaining\n",
    "- **Key Strengths**:\n",
    "  - Creative analogies and storytelling\n",
    "  - Pop culture references and humor\n",
    "  - Breaking through inbox noise\n",
    "\n",
    "#### 3. Results-Focused Sales Expert (RapidCompliance Solutions)\n",
    "- **Target Audience**: Busy executives with limited time\n",
    "- **Communication Style**: Direct, action-oriented, value-packed\n",
    "- **Key Strengths**:\n",
    "  - Quantifiable benefits upfront\n",
    "  - Bullet points and clear CTAs\n",
    "  - Immediate, tangible takeaways"
   ]
  },
  {
   "cell_type": "code",
   "execution_count": 36,
   "id": "96733134",
   "metadata": {},
   "outputs": [],
   "source": [
    "sales_agent1 = Agent(\n",
    "       name=\"Executive Compliance Advisor\",\n",
    "       instructions=instructions1,\n",
    "       model=\"gpt-4o-mini\"\n",
    ")\n",
    "\n",
    "sales_agent2 = Agent(\n",
    "       name=\"Charismatic Sales Specialist\",\n",
    "       instructions=instructions2,\n",
    "       model=\"gpt-4o-mini\"\n",
    ")\n",
    "\n",
    "sales_agent3 = Agent(\n",
    "       name=\"Results-Focused Sales Expert\",\n",
    "       instructions=instructions3,\n",
    "       model=\"gpt-4o-mini\"\n",
    ")"
   ]
  },
  {
   "cell_type": "markdown",
   "id": "rxiuftozv7",
   "metadata": {},
   "source": [
    "## Part 6: Creating Specialized Sales Agents\n",
    "\n",
    "### Agent Initialization\n",
    "Each agent is configured with:\n",
    "- **Unique name**: Identifies the agent's role\n",
    "- **Custom instructions**: Defines personality and approach\n",
    "- **Model selection**: GPT-4o-mini for cost-effective performance\n",
    "\n",
    "These agents operate independently but can be orchestrated together for powerful workflows."
   ]
  },
  {
   "cell_type": "code",
   "execution_count": 37,
   "id": "6a198b3c",
   "metadata": {},
   "outputs": [
    {
     "name": "stdout",
     "output_type": "stream",
     "text": [
      "Subject: Transform Your Cybersecurity Compliance Strategy with AI-Powered Solutions\n",
      "\n",
      "Dear [Recipient's Name],\n",
      "\n",
      "I hope this message finds you well. As organizations navigate the complexities of compliance frameworks like SOC 2, ISO 27001, and HIPAA, the challenge of maintaining robust cybersecurity measures while efficiently managing compliance can be daunting.\n",
      "\n",
      "At SecureShield Analytics, we understand these challenges all too well. Our AI-powered platform streamlines compliance management, enabling organizations like yours to not only achieve compliance but also enhance their overall security posture. \n",
      "\n",
      "Here are a few key benefits that our clients have realized:\n",
      "\n",
      "1. **Holistic Compliance Management**: Our platform integrates seamlessly with your existing systems to provide real-time visibility and reporting, reducing the time and effort spent on audits and assessments.\n",
      "\n",
      "2. **Risk Mitigation**: By leveraging advanced analytics and real-time monitoring, we help identify vulnerabilities before they become costly incidents, empowering you to make informed decisions.\n",
      "\n",
      "3. **Scalability and Flexibility**: Whether your organization is scaling rapidly or adjusting to new regulatory requirements, our solution adapts to your specific needs, ensuring you stay compliant no matter what changes arise.\n",
      "\n",
      "4. **Proven ROI**: Clients have reported a significant reduction in compliance-related costs and improved operational efficiencies, ultimately driving strategic business outcomes.\n",
      "\n",
      "I’d love the opportunity to discuss how we can support your organization in navigating these regulatory landscapes more efficiently. Are you available for a brief call next week? \n",
      "\n",
      "Thank you for considering SecureShield Analytics as your partner in cybersecurity compliance.\n",
      "\n",
      "Best regards,\n",
      "\n",
      "[Your Name]  \n",
      "[Your Title]  \n",
      "SecureShield Analytics  \n",
      "[Your Phone Number]  \n",
      "[Your Email Address]  \n",
      "[Website URL]  "
     ]
    }
   ],
   "source": [
    "\n",
    "result = Runner.run_streamed(sales_agent1, input=\"Write a cold sales email\")\n",
    "async for event in result.stream_events():\n",
    "    if event.type == \"raw_response_event\" and isinstance(event.data, ResponseTextDeltaEvent):\n",
    "        print(event.data.delta, end=\"\", flush=True)"
   ]
  },
  {
   "cell_type": "markdown",
   "id": "uiaka7614oj",
   "metadata": {},
   "source": [
    "## Part 7: Streaming Agent Responses\n",
    "\n",
    "### Real-time Output Streaming\n",
    "This demonstrates how to:\n",
    "- Execute an agent with streaming output\n",
    "- Handle response events in real-time\n",
    "- Display results progressively as they're generated\n",
    "\n",
    "### Benefits of Streaming:\n",
    "- Improved user experience with immediate feedback\n",
    "- Ability to process partial results\n",
    "- Better handling of long-running operations"
   ]
  },
  {
   "cell_type": "code",
   "execution_count": 38,
   "id": "8bac5d9e",
   "metadata": {},
   "outputs": [
    {
     "name": "stdout",
     "output_type": "stream",
     "text": [
      "Subject: Strengthening Your Cybersecurity Compliance Efforts with SecureShield Analytics\n",
      "\n",
      "Dear [Recipient's Name],\n",
      "\n",
      "I hope this message finds you well. As organizations increasingly navigate the complex landscape of cybersecurity compliance, I wanted to introduce you to SecureShield Analytics, where we specialize in providing an AI-powered platform designed to streamline and enhance compliance management for frameworks like SOC 2, ISO 27001, and HIPAA.\n",
      "\n",
      "In a rapidly evolving regulatory environment, I understand that ensuring compliance is not just a matter of meeting standards, but also a vital component of building trust with your clients and stakeholders. Our platform is uniquely positioned to help businesses like yours achieve:\n",
      "\n",
      "1. **Comprehensive Compliance Oversight**: Automate and standardize your compliance processes, ensuring your organization stays ahead of evolving industry standards.\n",
      "  \n",
      "2. **Risk Mitigation**: Leverage our advanced analytics to identify vulnerabilities and enhance your risk management strategies, safeguarding your business from potential breaches.\n",
      "\n",
      "3. **Efficient Audits**: Streamline your audit processes with real-time reporting and documentation, reducing the strain on your team while ensuring you are always audit-ready.\n",
      "\n",
      "Given the challenges many organizations face in managing compliance effectively, I believe our solution could provide substantial value to [Recipient's Company Name]. I would love the opportunity to discuss how we can support your cybersecurity goals and contribute to your overall business strategy.\n",
      "\n",
      "Could we schedule a brief call next week? I am confident that our insights will help you navigate your compliance journey more effectively.\n",
      "\n",
      "Thank you for considering SecureShield Analytics. I look forward to the possibility of collaborating toward a more secure future for your organization.\n",
      "\n",
      "Best regards,\n",
      "\n",
      "[Your Full Name]  \n",
      "[Your Job Title]  \n",
      "SecureShield Analytics  \n",
      "[Your Phone Number]  \n",
      "[Your LinkedIn Profile]  \n",
      "[Company Website]  \n",
      "\n",
      "\n",
      "Subject: Is Your Compliance Game Stronger Than Thanos? 🦸‍♂️\n",
      "\n",
      "Hey there, [First Name]!\n",
      "\n",
      "Picture this: it's the final showdown between the Avengers and Thanos (sans the Infinity Gauntlet, of course!). Compliance may not be as epic as saving the universe, but let’s be real—it sure feels like a battle sometimes, doesn't it? \n",
      "\n",
      "At CyberGuard Pro, we totally get it. Navigating SOC2, PCI DSS, and GDPR can feel like trekking through a swamp of red tape, dodging regulatory alligators lurking at every corner. 🎭 But what if I told you that compliance could be as seamless as a superhero team-up?\n",
      "\n",
      "Our AI-driven compliance automation platform is your sidekick, taking the grunt work out of compliance, so you can focus on what really matters: growing your business and sipping that well-deserved coffee (or cocktail, no judgment here!).\n",
      "\n",
      "Imagine waking up to a world where you can:\n",
      "- 🚀 Breeze through audits with superhero confidence.\n",
      "- 📊 Generate reports quicker than Iron Man can suit up.\n",
      "- 🛡️ Sleep soundly knowing compliance is handled—like a shield from Captain America!\n",
      "\n",
      "But don’t just take my word for it! [Case Study link]—our clients have transformed their compliance nightmares into sweet dreams, without sacrificing their sanity. \n",
      "\n",
      "Are you ready to kick compliance stress to the curb and make it your superhero sidekick? Let’s chat! Just hit reply, and let’s find a time to talk. Your future self will thank you!\n",
      "\n",
      "Stay legendary,  \n",
      "[Your Name]  \n",
      "CyberGuard Pro 🦸‍♀️  \n",
      "[Your Phone Number]  \n",
      "[Your LinkedIn Profile]  \n",
      "\n",
      "P.S. No capes required—just a willingness to embrace a smarter compliance future!\n",
      "\n",
      "\n",
      "Subject: Streamline Your SOC2 Compliance in Days, Not Months\n",
      "\n",
      "Hi [Recipient's Name],\n",
      "\n",
      "Are you looking to save up to 80% of the time and cost associated with SOC2 compliance? RapidCompliance Solutions delivers an AI-driven platform that automates compliance monitoring and simplifies audit preparation.\n",
      "\n",
      "**Key Benefits:**\n",
      "\n",
      "- **Time Saving:** Reduce preparation time from months to just days.\n",
      "- **Cost Efficiency:** Cut compliance costs by up to 50%.\n",
      "- **Risk Mitigation:** Enhance your security posture with real-time monitoring.\n",
      "\n",
      "**Next Steps:**\n",
      "\n",
      "- **Schedule a 15-minute demo** to see how we can instantly streamline your compliance efforts.\n",
      "- **Download our free whitepaper** on SOC2 best practices from our website.\n",
      "\n",
      "Let’s make compliance a breeze.\n",
      "\n",
      "Best,  \n",
      "[Your Name]  \n",
      "[Your Title]  \n",
      "RapidCompliance Solutions  \n",
      "[Your Phone Number]  \n",
      "[Your Email]  \n",
      "[Your Website]  \n",
      "\n",
      "\n"
     ]
    }
   ],
   "source": [
    "message = \"Write a cold sales email\"\n",
    "\n",
    "with trace(\"Parallel cold emails\"):\n",
    "    results = await asyncio.gather(\n",
    "        Runner.run(sales_agent1, message),\n",
    "        Runner.run(sales_agent2, message),\n",
    "        Runner.run(sales_agent3, message),\n",
    "    )\n",
    "\n",
    "outputs = [result.final_output for result in results]\n",
    "\n",
    "for output in outputs:\n",
    "    print(output + \"\\n\\n\")\n"
   ]
  },
  {
   "cell_type": "markdown",
   "id": "5kzo2mwen18",
   "metadata": {},
   "source": [
    "## Part 8: Parallel Agent Execution\n",
    "\n",
    "### Concurrent Email Generation\n",
    "This section demonstrates advanced parallel processing:\n",
    "- **asyncio.gather()**: Runs all three agents simultaneously\n",
    "- **Trace context**: Monitors the entire parallel operation\n",
    "- **Result collection**: Gathers outputs from all agents\n",
    "\n",
    "### Performance Benefits:\n",
    "- 3x faster than sequential execution\n",
    "- Efficient resource utilization\n",
    "- Scalable to more agents as needed\n",
    "\n",
    "### Output Analysis:\n",
    "Each agent produces a unique email based on their personality, providing diverse options for selection."
   ]
  },
  {
   "cell_type": "code",
   "execution_count": 39,
   "id": "0b07b1c2",
   "metadata": {},
   "outputs": [],
   "source": [
    "sales_picker = Agent(\n",
    "   name=\"Email Evaluator\",\n",
    "   instructions=\"You pick the best cold sales email from the given options. \\\n",
    "Imagine you are a customer and pick the one you are most likely to respond to. \\\n",
    "Do not give an explanation; reply with the selected email only.\",\n",
    "   model=\"gpt-4o-mini\"\n",
    ")"
   ]
  },
  {
   "cell_type": "markdown",
   "id": "55a72zi2sgj",
   "metadata": {},
   "source": [
    "## Part 9: Email Evaluation Agent\n",
    "\n",
    "### Creating an AI Email Evaluator\n",
    "This specialized agent:\n",
    "- Reviews multiple email options\n",
    "- Selects the most effective one\n",
    "- Acts as an unbiased judge\n",
    "\n",
    "### Selection Criteria:\n",
    "- Likelihood of customer response\n",
    "- Clarity and engagement\n",
    "- Professional appropriateness\n",
    "\n",
    "The evaluator uses customer perspective to make selections, improving email effectiveness."
   ]
  },
  {
   "cell_type": "code",
   "execution_count": 40,
   "id": "0005a40b",
   "metadata": {},
   "outputs": [
    {
     "name": "stdout",
     "output_type": "stream",
     "text": [
      "Best sales email:\n",
      "Subject: Unlock the Secret to Compliance Success (No Magic Wand Required!)\n",
      "\n",
      "Hey [First Name],\n",
      "\n",
      "Ever tried fitting a square peg in a round hole? It’s a mess, right? Well, that’s what compliance can feel like without the right tools. You know the drill: SOC2, PCI DSS, GDPR—it’s like juggling flaming swords while riding a unicycle. Spoiler alert: Eventually, someone’s going to get burned.\n",
      "\n",
      "Here’s a plot twist: What if compliance could feel like that smooth ride at the amusement park instead? 🎢 Enter CyberGuard Pro, your AI-driven compliance automation tool that turns the compliance obstacle course into a joyride. Think of it as your compliance co-pilot, ready to navigate the tricky terrain of regulations with the finesse of a seasoned stunt driver.\n",
      "\n",
      "**Why should you consider us?** \n",
      "\n",
      "- **Real-Time Monitoring:** Like having a magic mirror that tells you who’s compliant and who’s just pretending! \n",
      "- **Intuitive Workflows:** No more spreadsheets that resemble puzzles missing pieces. Our platform connects the dots seamlessly.\n",
      "- **Tailored Insights:** It’s like having a personal trainer, but instead of abs, we’re building compliance muscle!\n",
      "\n",
      "We recently helped [Relevant Industry Example/Client Name] reduce their compliance time by 60%. Yes, you read that right—a 60% time-save, which means they spent more time innovating and less time stressing!\n",
      "\n",
      "Let’s chat for 15 minutes to explore how we can add some sparkle to your compliance journey. Trust me; your future self will thank you for it! 🚀\n",
      "\n",
      "Looking forward to hearing your thoughts!\n",
      "\n",
      "Best,  \n",
      "[Your Name]  \n",
      "[Your Position]  \n",
      "CyberGuard Pro  \n",
      "[Your Contact Information]  \n",
      "\n",
      "P.S. If we can’t make compliance enjoyable, at least we can promise a good laugh while we streamline it! 😉\n"
     ]
    }
   ],
   "source": [
    "message = \"Write a cold sales email\"\n",
    "\n",
    "with trace(\"Selection from sales people\"):\n",
    "    results = await asyncio.gather(\n",
    "        Runner.run(sales_agent1, message),\n",
    "        Runner.run(sales_agent2, message),\n",
    "        Runner.run(sales_agent3, message),\n",
    "    )\n",
    "    outputs = [result.final_output for result in results]\n",
    "\n",
    "    emails = \"Cold sales emails:\\n\\n\" + \"\\n\\nEmail:\\n\\n\".join(outputs)\n",
    "\n",
    "    best = await Runner.run(sales_picker, emails)\n",
    "\n",
    "    print(f\"Best sales email:\\n{best.final_output}\")\n"
   ]
  },
  {
   "cell_type": "markdown",
   "id": "lsn1sn203r",
   "metadata": {},
   "source": [
    "## Part 10: Automated Email Selection Workflow\n",
    "\n",
    "### Complete Selection Pipeline\n",
    "This demonstrates a full workflow:\n",
    "1. **Parallel generation** of three email variants\n",
    "2. **Compilation** of all options\n",
    "3. **AI-powered selection** of the best email\n",
    "4. **Output** of the winning email\n",
    "\n",
    "### Key Architecture Pattern:\n",
    "This shows how multiple specialized agents can work together to produce superior results through:\n",
    "- Diversity of approaches\n",
    "- Objective evaluation\n",
    "- Automated decision-making"
   ]
  },
  {
   "cell_type": "code",
   "execution_count": 41,
   "id": "d05a59f7",
   "metadata": {},
   "outputs": [],
   "source": [
    "sales_agent1 = Agent(\n",
    "       name=\"Executive Compliance Advisor\",\n",
    "       instructions=instructions1,\n",
    "       model=\"gpt-4o-mini\"\n",
    ")\n",
    "\n",
    "sales_agent2 = Agent(\n",
    "       name=\"Charismatic Sales Specialist\",\n",
    "       instructions=instructions2,\n",
    "       model=\"gpt-4o-mini\"\n",
    ")\n",
    "\n",
    "sales_agent3 = Agent(\n",
    "       name=\"Results-Focused Sales Expert\",\n",
    "       instructions=instructions3,\n",
    "       model=\"gpt-4o-mini\"\n",
    ")"
   ]
  },
  {
   "cell_type": "code",
   "execution_count": 42,
   "id": "6e1301fc",
   "metadata": {},
   "outputs": [
    {
     "data": {
      "text/plain": [
       "Agent(name='Executive Compliance Advisor', handoff_description=None, tools=[], mcp_servers=[], mcp_config={}, instructions='You are a senior compliance consultant and sales advisor working for SecureShield Analytics, a company that provides an AI-powered platform for comprehensive cybersecurity compliance management, including SOC2, ISO 27001, and HIPAA frameworks. You write authoritative, consultative emails that position you as a trusted industry expert. Your tone is professional yet approachable, focusing on strategic business outcomes and risk mitigation. You leverage industry insights, compliance trends, and regulatory changes to demonstrate deep expertise while clearly articulating value propositions that resonate with C-level executives and compliance officers.', prompt=None, handoffs=[], model='gpt-4o-mini', model_settings=ModelSettings(temperature=None, top_p=None, frequency_penalty=None, presence_penalty=None, tool_choice=None, parallel_tool_calls=None, truncation=None, max_tokens=None, reasoning=None, verbosity=None, metadata=None, store=None, include_usage=None, response_include=None, top_logprobs=None, extra_query=None, extra_body=None, extra_headers=None, extra_args=None), input_guardrails=[], output_guardrails=[], output_type=None, hooks=None, tool_use_behavior='run_llm_again', reset_tool_choice=True)"
      ]
     },
     "execution_count": 42,
     "metadata": {},
     "output_type": "execute_result"
    }
   ],
   "source": [
    "sales_agent1"
   ]
  },
  {
   "cell_type": "code",
   "execution_count": 43,
   "id": "8dd0532f",
   "metadata": {},
   "outputs": [],
   "source": [
    "@function_tool\n",
    "def send_email(body: str):\n",
    "    \"\"\" Send out an email with the given body to all sales prospects \"\"\"\n",
    "    sg = sendgrid.SendGridAPIClient(api_key=os.environ.get('SENDGRID_API_KEY'))\n",
    "    from_email = Email(\"sonudevmail16@gmail.com\")\n",
    "    to_email = To(\"abhinavsarkar53@gmail.com\")  # Change to your recipient\n",
    "    content = Content(\"text/plain\", body)\n",
    "    mail = Mail(from_email, to_email, \"Sales email\", content).get()\n",
    "    sg.client.mail.send.post(request_body=mail)\n",
    "    return {\"status\": \"success\"}"
   ]
  },
  {
   "cell_type": "markdown",
   "id": "2dztqmb9wt",
   "metadata": {},
   "source": [
    "## Part 11: Creating Agent Tools\n",
    "\n",
    "### Function Tools for Agent Integration\n",
    "The `@function_tool` decorator transforms Python functions into tools that agents can use.\n",
    "\n",
    "### Email Sending Tool Features:\n",
    "- **Type-safe parameters**: Ensures correct data types\n",
    "- **SendGrid integration**: Handles email delivery\n",
    "- **Status reporting**: Returns success/failure status\n",
    "\n",
    "### Tool Architecture:\n",
    "Tools enable agents to interact with external services and perform real-world actions beyond text generation."
   ]
  },
  {
   "cell_type": "code",
   "execution_count": 47,
   "id": "0c03d5b2",
   "metadata": {},
   "outputs": [
    {
     "data": {
      "text/plain": [
       "FunctionTool(name='send_email', description='Send out an email with the given body to all sales prospects', params_json_schema={'properties': {'body': {'title': 'Body', 'type': 'string'}}, 'required': ['body'], 'title': 'send_email_args', 'type': 'object', 'additionalProperties': False}, on_invoke_tool=<function function_tool.<locals>._create_function_tool.<locals>._on_invoke_tool at 0x7171de5fc720>, strict_json_schema=True, is_enabled=True)"
      ]
     },
     "execution_count": 47,
     "metadata": {},
     "output_type": "execute_result"
    }
   ],
   "source": [
    "send_email"
   ]
  },
  {
   "cell_type": "code",
   "execution_count": 48,
   "id": "bbbc4568",
   "metadata": {},
   "outputs": [
    {
     "data": {
      "text/plain": [
       "FunctionTool(name='sales_agent1', description='Write a cold sales email', params_json_schema={'properties': {'input': {'title': 'Input', 'type': 'string'}}, 'required': ['input'], 'title': 'sales_agent1_args', 'type': 'object', 'additionalProperties': False}, on_invoke_tool=<function function_tool.<locals>._create_function_tool.<locals>._on_invoke_tool at 0x7171de614c20>, strict_json_schema=True, is_enabled=True)"
      ]
     },
     "execution_count": 48,
     "metadata": {},
     "output_type": "execute_result"
    }
   ],
   "source": [
    "tool1 = sales_agent1.as_tool(tool_name=\"sales_agent1\", tool_description=\"Write a cold sales email\")\n",
    "tool1"
   ]
  },
  {
   "cell_type": "markdown",
   "id": "0jwfccek0n57",
   "metadata": {},
   "source": [
    "## Part 12: Converting Agents to Tools\n",
    "\n",
    "### Agent-as-Tool Pattern\n",
    "Agents can be converted into tools for use by other agents, enabling:\n",
    "- **Hierarchical workflows**: Higher-level agents can orchestrate lower-level ones\n",
    "- **Modular design**: Reusable agent components\n",
    "- **Complex orchestration**: Multi-tier agent systems\n",
    "\n",
    "### Tool Properties:\n",
    "- **name**: Unique identifier for the tool\n",
    "- **description**: Helps parent agents understand when to use the tool\n",
    "- **parameters**: Automatically generated from agent requirements"
   ]
  },
  {
   "cell_type": "code",
   "execution_count": 50,
   "id": "85824e6a",
   "metadata": {},
   "outputs": [
    {
     "data": {
      "text/plain": [
       "[FunctionTool(name='sales_agent1', description='Write a cold sales email', params_json_schema={'properties': {'input': {'title': 'Input', 'type': 'string'}}, 'required': ['input'], 'title': 'sales_agent1_args', 'type': 'object', 'additionalProperties': False}, on_invoke_tool=<function function_tool.<locals>._create_function_tool.<locals>._on_invoke_tool at 0x7171d7e9fec0>, strict_json_schema=True, is_enabled=True),\n",
       " FunctionTool(name='sales_agent2', description='Write a cold sales email', params_json_schema={'properties': {'input': {'title': 'Input', 'type': 'string'}}, 'required': ['input'], 'title': 'sales_agent2_args', 'type': 'object', 'additionalProperties': False}, on_invoke_tool=<function function_tool.<locals>._create_function_tool.<locals>._on_invoke_tool at 0x7171d7581080>, strict_json_schema=True, is_enabled=True),\n",
       " FunctionTool(name='sales_agent3', description='Write a cold sales email', params_json_schema={'properties': {'input': {'title': 'Input', 'type': 'string'}}, 'required': ['input'], 'title': 'sales_agent3_args', 'type': 'object', 'additionalProperties': False}, on_invoke_tool=<function function_tool.<locals>._create_function_tool.<locals>._on_invoke_tool at 0x7171d7582f20>, strict_json_schema=True, is_enabled=True),\n",
       " FunctionTool(name='send_email', description='Send out an email with the given body to all sales prospects', params_json_schema={'properties': {'body': {'title': 'Body', 'type': 'string'}}, 'required': ['body'], 'title': 'send_email_args', 'type': 'object', 'additionalProperties': False}, on_invoke_tool=<function function_tool.<locals>._create_function_tool.<locals>._on_invoke_tool at 0x7171de5fc720>, strict_json_schema=True, is_enabled=True)]"
      ]
     },
     "execution_count": 50,
     "metadata": {},
     "output_type": "execute_result"
    }
   ],
   "source": [
    "description = \"Write a cold sales email\"\n",
    "\n",
    "tool1 = sales_agent1.as_tool(tool_name=\"sales_agent1\", tool_description=description)\n",
    "tool2 = sales_agent2.as_tool(tool_name=\"sales_agent2\", tool_description=description)\n",
    "tool3 = sales_agent3.as_tool(tool_name=\"sales_agent3\", tool_description=description)\n",
    "\n",
    "tools = [tool1, tool2, tool3, send_email]\n",
    "\n",
    "tools"
   ]
  },
  {
   "cell_type": "markdown",
   "id": "kp65cb6zx3n",
   "metadata": {},
   "source": [
    "## Part 13: Building the Tool Collection\n",
    "\n",
    "### Assembling Agent Tools\n",
    "Creating a comprehensive toolkit by:\n",
    "1. Converting each sales agent into a tool\n",
    "2. Adding the email sending functionality\n",
    "3. Providing consistent naming and descriptions\n",
    "\n",
    "This toolkit enables the Sales Director agent to orchestrate all components effectively."
   ]
  },
  {
   "cell_type": "code",
   "execution_count": 51,
   "id": "fed9d7be",
   "metadata": {},
   "outputs": [],
   "source": [
    "# Improved instructions thanks to student Guillermo F.\n",
    "\n",
    "instructions = \"\"\"\n",
    "You are a Sales Director at CyberGuard AI. Your goal is to find the single best cold sales email using the sales_agent tools.\n",
    "\n",
    "Follow these steps carefully:\n",
    "1. Generate Drafts: Use all three sales_agent tools to generate three different email drafts. Do not proceed until all three drafts are ready.\n",
    "\n",
    "2. Evaluate and Select: Review the drafts and choose the single best email using your judgment of which one is most effective.\n",
    "\n",
    "3. Use the send_email tool to send the best email (and only the best email) to the user.\n",
    "\n",
    "Crucial Rules:\n",
    "- You must use the sales agent tools to generate the drafts — do not write them yourself.\n",
    "- You must send ONE email using the send_email tool — never more than one.\n",
    "\"\"\"\n",
    "\n",
    "\n",
    "sales_director = Agent(name=\"Sales Director\", instructions=instructions, tools=tools, model=\"gpt-4o-mini\")\n",
    "\n",
    "message = \"Send a cold sales email addressed to 'Dear CEO'\"\n",
    "\n",
    "with trace(\"Sales director\"):\n",
    "   result = await Runner.run(sales_director, message)"
   ]
  },
  {
   "cell_type": "markdown",
   "id": "8qx39xqllwf",
   "metadata": {},
   "source": [
    "## Part 14: Sales Director Agent\n",
    "\n",
    "### Master Orchestrator Implementation\n",
    "The Sales Director agent coordinates the entire email generation and sending process.\n",
    "\n",
    "### Workflow Steps:\n",
    "1. **Generate drafts** using all three sales agent tools\n",
    "2. **Evaluate** the generated emails\n",
    "3. **Select** the most effective one\n",
    "4. **Send** the winning email\n",
    "\n",
    "### Key Instructions:\n",
    "- Must use tools, not write emails directly\n",
    "- Enforces single email sending (prevents spam)\n",
    "- Maintains quality control throughout\n",
    "\n",
    "This demonstrates advanced agent orchestration patterns for complex workflows."
   ]
  },
  {
   "cell_type": "code",
   "execution_count": 52,
   "id": "aa150605",
   "metadata": {},
   "outputs": [],
   "source": [
    "subject_instructions = \"You can write a subject for a cold sales email. \\\n",
    "You are given a message and you need to write a subject for an email that is likely to get a response.\"\n",
    "\n",
    "html_instructions = \"You can convert a text email body to an HTML email body. \\\n",
    "You are given a text email body which might have some markdown \\\n",
    "and you need to convert it to an HTML email body with simple, clear, compelling layout and design.\"\n",
    "\n",
    "subject_strategist = Agent(name=\"Subject Line Strategist\", instructions=subject_instructions, model=\"gpt-4o-mini\")\n",
    "subject_tool = subject_strategist.as_tool(tool_name=\"subject_strategist\", tool_description=\"Write a compelling subject line for a cold sales email\")\n",
    "\n",
    "email_designer = Agent(name=\"Email Design Specialist\", instructions=html_instructions, model=\"gpt-4o-mini\")\n",
    "html_tool = email_designer.as_tool(tool_name=\"email_designer\", tool_description=\"Convert a text email body to a professionally designed HTML email\")"
   ]
  },
  {
   "cell_type": "markdown",
   "id": "fwttzzppj0s",
   "metadata": {},
   "source": [
    "## Part 15: Email Enhancement Agents\n",
    "\n",
    "### Specialized Email Processing Agents\n",
    "\n",
    "#### Subject Line Strategist\n",
    "- **Purpose**: Creates compelling email subject lines\n",
    "- **Focus**: Maximizing open rates\n",
    "- **Techniques**: Psychology, urgency, curiosity\n",
    "\n",
    "#### Email Design Specialist\n",
    "- **Purpose**: Converts plain text to professional HTML\n",
    "- **Focus**: Visual appeal and readability\n",
    "- **Features**: Responsive design, clear CTAs\n",
    "\n",
    "These agents add professional polish to the selected email before sending."
   ]
  },
  {
   "cell_type": "code",
   "execution_count": 53,
   "id": "0da6a4cb",
   "metadata": {},
   "outputs": [],
   "source": [
    "@function_tool\n",
    "def send_html_email(subject: str, html_body: str) -> Dict[str, str]:\n",
    "    \"\"\" Send out an email with the given subject and HTML body to all sales prospects \"\"\"\n",
    "    sg = sendgrid.SendGridAPIClient(api_key=os.environ.get('SENDGRID_API_KEY'))\n",
    "    from_email = Email(\"sonudevmail16@gmail.com\")\n",
    "    to_email = To(\"abhinavsarkar53@gmail.com\")  # Change to your recipient\n",
    "    content = Content(\"text/html\", html_body)\n",
    "    mail = Mail(from_email, to_email, subject, content).get()\n",
    "    sg.client.mail.send.post(request_body=mail)\n",
    "    return {\"status\": \"success\"}"
   ]
  },
  {
   "cell_type": "markdown",
   "id": "d4envn7rgl8",
   "metadata": {},
   "source": [
    "## Part 16: Enhanced Email Sending Tool\n",
    "\n",
    "### HTML Email Functionality\n",
    "Upgraded email tool that supports:\n",
    "- **Custom subject lines**: Dynamic, engaging subjects\n",
    "- **HTML formatting**: Rich text, images, buttons\n",
    "- **Professional presentation**: Branded, responsive design\n",
    "\n",
    "This tool represents the final step in our email automation pipeline."
   ]
  },
  {
   "cell_type": "code",
   "execution_count": 54,
   "id": "6c1be8aa",
   "metadata": {},
   "outputs": [],
   "source": [
    "tools = [subject_tool, html_tool, send_html_email]"
   ]
  },
  {
   "cell_type": "code",
   "execution_count": 55,
   "id": "9ccb8676",
   "metadata": {},
   "outputs": [
    {
     "data": {
      "text/plain": [
       "[FunctionTool(name='subject_strategist', description='Write a compelling subject line for a cold sales email', params_json_schema={'properties': {'input': {'title': 'Input', 'type': 'string'}}, 'required': ['input'], 'title': 'subject_strategist_args', 'type': 'object', 'additionalProperties': False}, on_invoke_tool=<function function_tool.<locals>._create_function_tool.<locals>._on_invoke_tool at 0x7171d4304720>, strict_json_schema=True, is_enabled=True),\n",
       " FunctionTool(name='email_designer', description='Convert a text email body to a professionally designed HTML email', params_json_schema={'properties': {'input': {'title': 'Input', 'type': 'string'}}, 'required': ['input'], 'title': 'email_designer_args', 'type': 'object', 'additionalProperties': False}, on_invoke_tool=<function function_tool.<locals>._create_function_tool.<locals>._on_invoke_tool at 0x7171d4305d00>, strict_json_schema=True, is_enabled=True),\n",
       " FunctionTool(name='send_html_email', description='Send out an email with the given subject and HTML body to all sales prospects', params_json_schema={'properties': {'subject': {'title': 'Subject', 'type': 'string'}, 'html_body': {'title': 'Html Body', 'type': 'string'}}, 'required': ['subject', 'html_body'], 'title': 'send_html_email_args', 'type': 'object', 'additionalProperties': False}, on_invoke_tool=<function function_tool.<locals>._create_function_tool.<locals>._on_invoke_tool at 0x7171d7583380>, strict_json_schema=True, is_enabled=True)]"
      ]
     },
     "execution_count": 55,
     "metadata": {},
     "output_type": "execute_result"
    }
   ],
   "source": [
    "tools"
   ]
  },
  {
   "cell_type": "code",
   "execution_count": 57,
   "id": "88b8d96b",
   "metadata": {},
   "outputs": [],
   "source": [
    "instructions =\"You are an email formatter and sender. You receive the body of an email to be sent. \\\n",
    "You first use the subject_strategist tool to write a subject for the email, then use the email_designer tool to convert the body to HTML. \\\n",
    "Finally, you use the send_html_email tool to send the email with the subject and HTML body.\"\n",
    "\n",
    "\n",
    "email_orchestrator = Agent(\n",
    "   name=\"Email Campaign Orchestrator\",\n",
    "   instructions=instructions,\n",
    "   tools=tools,\n",
    "   model=\"gpt-4o-mini\",\n",
    "   handoff_description=\"Format an email to HTML and deliver it professionally\")"
   ]
  },
  {
   "cell_type": "markdown",
   "id": "5s5qq3ey8dp",
   "metadata": {},
   "source": [
    "## Part 17: Email Campaign Orchestrator\n",
    "\n",
    "### Complete Email Processing Pipeline\n",
    "This agent manages the final email preparation:\n",
    "1. **Subject generation** using AI optimization\n",
    "2. **HTML conversion** for professional formatting\n",
    "3. **Email delivery** via SendGrid\n",
    "\n",
    "### Handoff Pattern:\n",
    "The `handoff_description` parameter enables smooth transitions between agents, allowing the Sales Director to delegate email formatting and sending to this specialized agent."
   ]
  },
  {
   "cell_type": "code",
   "execution_count": 58,
   "id": "03e8bee3",
   "metadata": {},
   "outputs": [
    {
     "name": "stdout",
     "output_type": "stream",
     "text": [
      "[FunctionTool(name='sales_agent1', description='Write a cold sales email', params_json_schema={'properties': {'input': {'title': 'Input', 'type': 'string'}}, 'required': ['input'], 'title': 'sales_agent1_args', 'type': 'object', 'additionalProperties': False}, on_invoke_tool=<function function_tool.<locals>._create_function_tool.<locals>._on_invoke_tool at 0x7171d7e9fec0>, strict_json_schema=True, is_enabled=True), FunctionTool(name='sales_agent2', description='Write a cold sales email', params_json_schema={'properties': {'input': {'title': 'Input', 'type': 'string'}}, 'required': ['input'], 'title': 'sales_agent2_args', 'type': 'object', 'additionalProperties': False}, on_invoke_tool=<function function_tool.<locals>._create_function_tool.<locals>._on_invoke_tool at 0x7171d7581080>, strict_json_schema=True, is_enabled=True), FunctionTool(name='sales_agent3', description='Write a cold sales email', params_json_schema={'properties': {'input': {'title': 'Input', 'type': 'string'}}, 'required': ['input'], 'title': 'sales_agent3_args', 'type': 'object', 'additionalProperties': False}, on_invoke_tool=<function function_tool.<locals>._create_function_tool.<locals>._on_invoke_tool at 0x7171d7582f20>, strict_json_schema=True, is_enabled=True)]\n",
      "[Agent(name='Email Campaign Orchestrator', handoff_description='Format an email to HTML and deliver it professionally', tools=[FunctionTool(name='subject_strategist', description='Write a compelling subject line for a cold sales email', params_json_schema={'properties': {'input': {'title': 'Input', 'type': 'string'}}, 'required': ['input'], 'title': 'subject_strategist_args', 'type': 'object', 'additionalProperties': False}, on_invoke_tool=<function function_tool.<locals>._create_function_tool.<locals>._on_invoke_tool at 0x7171d4304720>, strict_json_schema=True, is_enabled=True), FunctionTool(name='email_designer', description='Convert a text email body to a professionally designed HTML email', params_json_schema={'properties': {'input': {'title': 'Input', 'type': 'string'}}, 'required': ['input'], 'title': 'email_designer_args', 'type': 'object', 'additionalProperties': False}, on_invoke_tool=<function function_tool.<locals>._create_function_tool.<locals>._on_invoke_tool at 0x7171d4305d00>, strict_json_schema=True, is_enabled=True), FunctionTool(name='send_html_email', description='Send out an email with the given subject and HTML body to all sales prospects', params_json_schema={'properties': {'subject': {'title': 'Subject', 'type': 'string'}, 'html_body': {'title': 'Html Body', 'type': 'string'}}, 'required': ['subject', 'html_body'], 'title': 'send_html_email_args', 'type': 'object', 'additionalProperties': False}, on_invoke_tool=<function function_tool.<locals>._create_function_tool.<locals>._on_invoke_tool at 0x7171d7583380>, strict_json_schema=True, is_enabled=True)], mcp_servers=[], mcp_config={}, instructions='You are an email formatter and sender. You receive the body of an email to be sent. You first use the subject_strategist tool to write a subject for the email, then use the email_designer tool to convert the body to HTML. Finally, you use the send_html_email tool to send the email with the subject and HTML body.', prompt=None, handoffs=[], model='gpt-4o-mini', model_settings=ModelSettings(temperature=None, top_p=None, frequency_penalty=None, presence_penalty=None, tool_choice=None, parallel_tool_calls=None, truncation=None, max_tokens=None, reasoning=None, verbosity=None, metadata=None, store=None, include_usage=None, response_include=None, top_logprobs=None, extra_query=None, extra_body=None, extra_headers=None, extra_args=None), input_guardrails=[], output_guardrails=[], output_type=None, hooks=None, tool_use_behavior='run_llm_again', reset_tool_choice=True)]\n"
     ]
    }
   ],
   "source": [
    "tools = [tool1, tool2, tool3]\n",
    "handoffs = [email_orchestrator]\n",
    "print(tools)\n",
    "print(handoffs)"
   ]
  },
  {
   "cell_type": "markdown",
   "id": "le6z6vlwwfg",
   "metadata": {},
   "source": [
    "## Part 18: Agent Handoff Configuration\n",
    "\n",
    "### Tools vs Handoffs Architecture\n",
    "- **Tools**: Enable agents to perform specific actions\n",
    "- **Handoffs**: Allow agents to delegate entire workflows to other agents\n",
    "\n",
    "This separation of concerns creates clean, modular agent systems where each component has a specific responsibility."
   ]
  },
  {
   "cell_type": "code",
   "execution_count": 59,
   "id": "7b177449",
   "metadata": {},
   "outputs": [],
   "source": [
    "# Improved instructions thanks to student Guillermo F.\n",
    "\n",
    "sales_director_instructions = \"\"\"\n",
    "You are a Sales Director at CyberGuard AI. Your goal is to find the single best cold sales email using the sales_agent tools.\n",
    "\n",
    "Follow these steps carefully:\n",
    "1. Generate Drafts: Use all three sales_agent tools to generate three different email drafts. Do not proceed until all three drafts are ready.\n",
    "\n",
    "2. Evaluate and Select: Review the drafts and choose the single best email using your judgment of which one is most effective.\n",
    "You can use the tools multiple times if you're not satisfied with the results from the first try.\n",
    "\n",
    "3. Handoff for Sending: Pass ONLY the winning email draft to the 'Email Campaign Orchestrator' agent. The Email Campaign Orchestrator will take care of formatting and sending.\n",
    "\n",
    "Crucial Rules:\n",
    "- You must use the sales agent tools to generate the drafts — do not write them yourself.\n",
    "- You must hand off exactly ONE email to the Email Campaign Orchestrator — never more than one.\n",
    "\"\"\"\n",
    "\n",
    "\n",
    "sales_director = Agent(\n",
    "   name=\"Sales Director\",\n",
    "   instructions=sales_director_instructions,\n",
    "   tools=tools,\n",
    "   handoffs=handoffs,\n",
    "   model=\"gpt-4o-mini\")\n",
    "\n",
    "message = \"Send out a cold sales email addressed to Dear CEO from Alice\"\n",
    "\n",
    "with trace(\"Automated Sales Campaign\"):\n",
    "   result = await Runner.run(sales_director, message)"
   ]
  },
  {
   "cell_type": "markdown",
   "id": "xx2z1mtpp2",
   "metadata": {},
   "source": [
    "## Part 19: Complete Automated Sales Campaign\n",
    "\n",
    "### Final Implementation\n",
    "This section brings together all components into a fully automated sales email system.\n",
    "\n",
    "### Complete Workflow:\n",
    "1. **Sales Director** receives the request\n",
    "2. **Three Sales Agents** generate email variants in parallel\n",
    "3. **Evaluation** selects the best email\n",
    "4. **Handoff** to Email Campaign Orchestrator\n",
    "5. **Subject Line Strategist** creates compelling subject\n",
    "6. **Email Designer** converts to HTML\n",
    "7. **SendGrid** delivers the final email\n",
    "\n",
    "### Production Features:\n",
    "- Error handling and retries\n",
    "- Tracing for debugging\n",
    "- Modular, extensible architecture\n",
    "- Professional email delivery\n",
    "\n",
    "This represents a production-ready multi-agent system for automated sales outreach."
   ]
  },
  {
   "cell_type": "code",
   "execution_count": null,
   "id": "9b25e52e",
   "metadata": {},
   "outputs": [],
   "source": [
    " "
   ]
  },
  {
   "cell_type": "markdown",
   "id": "4h0ae6ahanc",
   "metadata": {},
   "source": [
    "---\n",
    "\n",
    "## Summary and Key Takeaways\n",
    "\n",
    "### What You've Learned:\n",
    "1. **Multi-Agent Orchestration**: Coordinating multiple AI agents for complex tasks\n",
    "2. **Parallel Processing**: Running agents concurrently for performance\n",
    "3. **Tool Integration**: Connecting agents to external services\n",
    "4. **Agent Handoffs**: Delegating workflows between specialized agents\n",
    "5. **Production Patterns**: Building reliable, scalable AI systems\n",
    "\n",
    "### Architecture Patterns Demonstrated:\n",
    "- **Hierarchical Agent Systems**: Director → Workers → Specialists\n",
    "- **Parallel Generation**: Multiple agents producing variants\n",
    "- **Selection and Evaluation**: AI-powered decision making\n",
    "- **Pipeline Processing**: Sequential enhancement stages\n",
    "\n",
    "### Best Practices:\n",
    "- Use specialized agents for specific tasks\n",
    "- Implement proper error handling\n",
    "- Add tracing for debugging\n",
    "- Design modular, reusable components\n",
    "- Test each component independently\n",
    "\n",
    "### Next Steps:\n",
    "- Customize agent personalities for your use case\n",
    "- Add more sophisticated evaluation criteria\n",
    "- Implement A/B testing for email effectiveness\n",
    "- Scale to handle multiple recipients\n",
    "- Add analytics and tracking\n",
    "\n",
    "This notebook provides a foundation for building sophisticated multi-agent systems for real-world automation tasks."
   ]
  }
 ],
 "metadata": {
  "kernelspec": {
   "display_name": "Python 3",
   "language": "python",
   "name": "python3"
  },
  "language_info": {
   "codemirror_mode": {
    "name": "ipython",
    "version": 3
   },
   "file_extension": ".py",
   "mimetype": "text/x-python",
   "name": "python",
   "nbconvert_exporter": "python",
   "pygments_lexer": "ipython3",
   "version": "3.12.3"
  }
 },
 "nbformat": 4,
 "nbformat_minor": 5
}
