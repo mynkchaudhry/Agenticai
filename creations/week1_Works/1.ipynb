{
 "cells": [
  {
   "cell_type": "code",
   "execution_count": null,
   "id": "8c331d4b",
   "metadata": {},
   "outputs": [],
   "source": [
    "!pip install openai-agents -q --break-system-packages"
   ]
  },
  {
   "cell_type": "code",
   "execution_count": 11,
   "id": "7141e08f",
   "metadata": {},
   "outputs": [],
   "source": [
    "# The imports\n",
    "\n",
    "from dotenv import load_dotenv\n",
    "from agents import Agent, Runner, trace\n",
    "\n"
   ]
  },
  {
   "cell_type": "markdown",
   "id": "4moilne83xh",
   "metadata": {},
   "source": [
    "\n",
    "\n",
    "#### Component Breakdown:\n",
    "\n",
    "##### 1. **`dotenv`** - Security Layer\n",
    "- **Purpose**: Loads environment variables from `.env` file\n",
    "- **Why It Matters**: Keeps API keys out of source code\n",
    "- **Best Practice**: Never commit `.env` files to version control\n",
    "\n",
    "##### 2. **`Agent`** - The Brain\n",
    "- **Purpose**: Defines AI agent behavior and capabilities\n",
    "- **Key Features**:\n",
    "  - Custom instructions (personality)\n",
    "  - Model selection\n",
    "  - Tool integration\n",
    "  - State management\n",
    "\n",
    "##### 3. **`Runner`** - The Executor\n",
    "- **Purpose**: Manages agent lifecycle and execution\n",
    "- **Responsibilities**:\n",
    "  - Initialize agent sessions\n",
    "  - Handle async operations\n",
    "  - Manage conversations\n",
    "  - Return results\n",
    "\n",
    "##### 4. **`trace`** - The Debugger\n",
    "- **Purpose**: Provides visibility into agent operations\n",
    "- **Benefits**:\n",
    "  - Performance monitoring\n",
    "  - Error tracking\n",
    "  - Execution flow visualization\n",
    "  - Development debugging\n",
    "\n",
    "### 🎨 Architecture Pattern\n",
    "```\n",
    "User Input → Runner → Agent → LLM → Response\n",
    "                ↑                      ↓\n",
    "              Trace ← ← ← ← ← ← ← ← ← ↓\n",
    "```"
   ]
  },
  {
   "cell_type": "code",
   "execution_count": 12,
   "id": "58a1ff16",
   "metadata": {},
   "outputs": [
    {
     "data": {
      "text/plain": [
       "True"
      ]
     },
     "execution_count": 12,
     "metadata": {},
     "output_type": "execute_result"
    }
   ],
   "source": [
    "# The usual starting point\n",
    "\n",
    "load_dotenv(override=True)\n"
   ]
  },
  {
   "cell_type": "markdown",
   "id": "gfxxvst7ct",
   "metadata": {},
   "source": [
    "## Step 3: Load Environment Variables\n",
    "\n",
    "### 🔐 Security Configuration\n",
    "\n",
    "```python\n",
    "load_dotenv(override=True)\n",
    "```\n",
    "\n",
    "#### What's Happening:\n",
    "1. **Searches** for `.env` file in current and parent directories\n",
    "2. **Loads** all key-value pairs as environment variables\n",
    "3. **Overrides** existing variables when `override=True`\n",
    "4. **Returns** `True` if successful, `False` otherwise\n",
    "\n",
    "#### Your `.env` File Structure:\n",
    "```bash\n",
    "# OpenAI Configuration\n",
    "OPENAI_API_KEY=sk-...your-key-here...\n",
    "\n",
    "# Optional: Model Configuration\n",
    "OPENAI_MODEL=gpt-4.1-nano-2025-04-14\n",
    "OPENAI_TEMPERATURE=0.7\n",
    "\n",
    "# Optional: Organization Settings\n",
    "OPENAI_ORG_ID=org-...your-org-id...\n",
    "```\n",
    "\n",
    "#### Security Best Practices:\n",
    "1. **Never commit** `.env` files to Git\n",
    "2. **Add to `.gitignore`**: `echo \".env\" >> .gitignore`\n",
    "3. **Use `.env.example`** for template sharing\n",
    "4. **Rotate keys** regularly\n",
    "5. **Use different keys** for dev/staging/production\n",
    "\n",
    "#### Common Issues & Solutions:\n",
    "| Issue | Solution |\n",
    "|-------|----------|\n",
    "| `False` returned | Check `.env` file exists in correct location |\n",
    "| API key not found | Verify key name matches expected variable |\n",
    "| Permission denied | Check file permissions: `chmod 600 .env` |\n",
    "| Key not working | Verify key validity in OpenAI dashboard |"
   ]
  },
  {
   "cell_type": "code",
   "execution_count": 14,
   "id": "ff872ee5",
   "metadata": {},
   "outputs": [],
   "source": [
    "\n",
    "# Make an agent with name, instructions, model\n",
    "\n",
    "agent = Agent(name=\"alia the storyteller\", instructions=\"You are a story teller\", model=\"gpt-4.1-nano-2025-04-14\")"
   ]
  },
  {
   "cell_type": "code",
   "execution_count": 15,
   "id": "7153ab79",
   "metadata": {},
   "outputs": [
    {
     "name": "stdout",
     "output_type": "stream",
     "text": [
      "Once upon a time, in a land where mountains kissed the sky and forests whispered secrets, there lived a brave knight named Sir Alden. He was known throughout the kingdom for his courage, kindness, and unwavering sense of justice. But there was one challenge that tested even his unwavering spirit—a mighty dragon named Ignis who dwelled in the northern peaks.\n",
      "\n",
      "Legend said that Ignis guarded a hidden treasure, not gold or jewels, but a magical crystal that shimmered with the light of a thousand stars. This crystal kept the land fertile and the rivers flowing generously. Yet, the dragon’s fearsome roars had scared villagers away from the mountains for generations, and the crystal’s power was fading.\n",
      "\n",
      "One day, Sir Alden decided to face the dragon—not to fight, but to understand and help. Clad in shining armor, he journeyed into the mountains, guided by the tales of the villagers and his brave heart.\n",
      "\n",
      "When he finally reached Ignis’s lair, the dragon was enormous, with scales that sparkled like molten gold and eyes that burned like fiery embers. Rather than drawing his sword, Sir Alden called out softly, “Great Ignis, I come in peace. I seek to understand why you guard this crystal so fiercely.”\n",
      "\n",
      "The dragon’s fiery breath softened as he looked at the knight's sincere face. “Many have come to steal my hoard,” Ignis rumbled. “But it’s not just treasure I protect. I guard it because I believe it is the source of all life for your people.”\n",
      "\n",
      "Sir Alden listened carefully. He realized that Ignis was not a beast to be feared, but a guardian with a deep sense of duty. “If I can help you protect or share this crystal’s power,” he said, “will you consider peaceful coexistence?”\n",
      "\n",
      "Moved by the knight's honesty, Ignis nodded. Together, they devised a plan: the dragon would forge a bond with the villagers, sharing his fire and strength when needed, and in return, the villagers would honor and respect the dragon’s role as guardian.\n",
      "\n",
      "From that day on, the mountains echoed with a new harmony. Sir Alden returned to his kingdom, a hero not for slaying a beast, but for forging understanding and peace between a brave knight and a mighty dragon. And the land flourished, basking in the radiant glow of the starry crystal, a symbol of courage, compassion, and the power of seeing beyond fears.\n"
     ]
    }
   ],
   "source": [
    "# Run the joke with Runner.run(agent, prompt) then print final_output\n",
    "\n",
    "with trace(\"Telling a story\"):\n",
    "    result = await Runner.run(agent, \"Tell a story about a brave knight and a dragon.\")\n",
    "    print(result.final_output)"
   ]
  },
  {
   "cell_type": "code",
   "execution_count": null,
   "id": "57caa82a",
   "metadata": {},
   "outputs": [],
   "source": []
  }
 ],
 "metadata": {
  "kernelspec": {
   "display_name": "Python 3",
   "language": "python",
   "name": "python3"
  },
  "language_info": {
   "codemirror_mode": {
    "name": "ipython",
    "version": 3
   },
   "file_extension": ".py",
   "mimetype": "text/x-python",
   "name": "python",
   "nbconvert_exporter": "python",
   "pygments_lexer": "ipython3",
   "version": "3.12.3"
  }
 },
 "nbformat": 4,
 "nbformat_minor": 5
}
