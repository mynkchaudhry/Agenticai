{
 "cells": [
  {
   "cell_type": "code",
   "execution_count": 1,
   "id": "bff49355",
   "metadata": {},
   "outputs": [],
   "source": [
    "from dotenv import load_dotenv\n",
    "from openai import AsyncOpenAI\n",
    "from agents import Agent, Runner, trace, function_tool, OpenAIChatCompletionsModel, input_guardrail, GuardrailFunctionOutput\n",
    "from typing import Dict\n",
    "import sendgrid\n",
    "import os\n",
    "from sendgrid.helpers.mail import Mail, Email, To, Content\n",
    "from pydantic import BaseModel"
   ]
  },
  {
   "cell_type": "markdown",
   "id": "j409rt516bs",
   "metadata": {},
   "source": [
    "### Import Dependencies and Libraries\n",
    "\n",
    "This section imports all necessary libraries for our multi-model agent system:\n",
    "\n",
    "#### Core Agent Framework:\n",
    "- **`agents`**: Main framework components\n",
    "  - `Agent`: Creates AI agents with custom behaviors\n",
    "  - `Runner`: Executes agents asynchronously\n",
    "  - `trace`: Provides execution monitoring\n",
    "  - `function_tool`: Decorator for creating agent tools\n",
    "  - `OpenAIChatCompletionsModel`: Custom model wrapper\n",
    "  - `input_guardrail`: Security validation decorator\n",
    "  - `GuardrailFunctionOutput`: Guardrail response structure\n",
    "\n",
    "#### External Services:\n",
    "- **`sendgrid`**: Email delivery service\n",
    "- **`AsyncOpenAI`**: Async OpenAI client for multiple providers\n",
    "- **`pydantic`**: Data validation and serialization\n",
    "- **`dotenv`**: Environment variable management\n",
    "\n",
    "#### Type Safety:\n",
    "- **`typing.Dict`**: Type hints for better code quality"
   ]
  },
  {
   "cell_type": "markdown",
   "id": "0lp4g2ngyo0b",
   "metadata": {},
   "source": [
    "# Advanced Multi-Model Agent System with Guardrails\n",
    "\n",
    "## 📋 Project Overview\n",
    "This advanced notebook demonstrates the implementation of a sophisticated multi-agent email system with safety guardrails. The system combines multiple AI models (OpenAI, Google Gemini, Meta Llama) to create diverse sales emails while implementing security controls to prevent misuse.\n",
    "\n",
    "## 🎯 Learning Objectives\n",
    "By completing this notebook, you will:\n",
    "- **Multi-Model Integration**: Work with OpenAI, Gemini, and Llama models simultaneously\n",
    "- **Agent Orchestration**: Coordinate multiple specialized agents for complex workflows\n",
    "- **Guardrail Implementation**: Build security controls to prevent inappropriate agent usage\n",
    "- **Production Patterns**: Implement enterprise-grade safety and monitoring systems\n",
    "- **Email Automation**: Create a complete email generation and delivery pipeline\n",
    "\n",
    "## 🏗️ System Architecture\n",
    "```\n",
    "Sales Manager Agent\n",
    "├── Gemini Sales Agent (Humorous Style)\n",
    "├── Llama Sales Agent (Concise Style)\n",
    "├── Email Manager Agent\n",
    "│   ├── Subject Writer\n",
    "│   ├── HTML Converter\n",
    "│   └── SendGrid Integration\n",
    "└── Input Guardrails\n",
    "    └── Name Detection System\n",
    "```\n",
    "\n",
    "## 🔑 Key Features\n",
    "- **Multi-model comparison** for optimal email generation\n",
    "- **Input validation** with custom guardrails\n",
    "- **Professional email formatting** with HTML conversion\n",
    "- **Secure API key management** across multiple providers\n",
    "- **Error handling** and safety mechanisms\n",
    "\n",
    "---\n",
    "\n",
    "## Part 1: Environment Setup and Multi-Provider Configuration"
   ]
  },
  {
   "cell_type": "code",
   "execution_count": 2,
   "id": "4c2df9f3",
   "metadata": {},
   "outputs": [
    {
     "data": {
      "text/plain": [
       "True"
      ]
     },
     "execution_count": 2,
     "metadata": {},
     "output_type": "execute_result"
    }
   ],
   "source": [
    "load_dotenv(override=True)"
   ]
  },
  {
   "cell_type": "markdown",
   "id": "gim3rkh0amk",
   "metadata": {},
   "source": [
    "### Environment Variable Configuration\n",
    "\n",
    "Load environment variables with override to ensure latest API keys are used. This is critical for multi-provider authentication."
   ]
  },
  {
   "cell_type": "code",
   "execution_count": 3,
   "id": "67fea03f",
   "metadata": {},
   "outputs": [
    {
     "name": "stdout",
     "output_type": "stream",
     "text": [
      "OpenAI API Key exists and begins sk-proj-\n",
      "Google API Key exists and begins AI\n",
      "Groq API Key exists and begins gsk_\n"
     ]
    }
   ],
   "source": [
    "openai_api_key = os.getenv('OPENAI_API_KEY')\n",
    "google_api_key = os.getenv('GOOGLE_API_KEY')\n",
    "groq_api_key = os.getenv('GROQ_API_KEY')\n",
    "\n",
    "if openai_api_key:\n",
    "    print(f\"OpenAI API Key exists and begins {openai_api_key[:8]}\")\n",
    "else:\n",
    "    print(\"OpenAI API Key not set\")\n",
    "\n",
    "if google_api_key:\n",
    "    print(f\"Google API Key exists and begins {google_api_key[:2]}\")\n",
    "else:\n",
    "    print(\"Google API Key not set (and this is optional)\")\n",
    "if groq_api_key:\n",
    "    print(f\"Groq API Key exists and begins {groq_api_key[:4]}\")\n",
    "else:\n",
    "    print(\"Groq API Key not set (and this is optional)\")"
   ]
  },
  {
   "cell_type": "markdown",
   "id": "abhhjrileob",
   "metadata": {},
   "source": [
    "### Multi-Provider API Key Validation\n",
    "\n",
    "Comprehensive validation of API keys across multiple AI providers:\n",
    "\n",
    "#### Security Best Practices:\n",
    "- **Partial key display**: Shows first few characters for verification without exposing full keys\n",
    "- **Optional provider handling**: Graceful handling of missing optional API keys\n",
    "- **Validation feedback**: Clear status messages for each provider\n",
    "\n",
    "#### Provider Information:\n",
    "- **OpenAI**: Primary LLM provider (Required)\n",
    "- **Google API**: For Gemini model access (Optional but recommended)\n",
    "- **Groq API**: For Llama model access (Optional but recommended)\n",
    "\n",
    "This validation ensures proper authentication before proceeding with agent creation."
   ]
  },
  {
   "cell_type": "code",
   "execution_count": 4,
   "id": "27d70c2e",
   "metadata": {},
   "outputs": [],
   "source": [
    "instructions1 = \"You are a sales agent working for ComplAI, \\\n",
    "a company that provides a SaaS tool for ensuring SOC2 compliance and preparing for audits, powered by AI. \\\n",
    "You write professional, serious cold emails.\"\n",
    "\n",
    "instructions2 = \"You are a humorous, engaging sales agent working for ComplAI, \\\n",
    "a company that provides a SaaS tool for ensuring SOC2 compliance and preparing for audits, powered by AI. \\\n",
    "You write witty, engaging cold emails that are likely to get a response.\"\n",
    "\n",
    "instructions3 = \"You are a busy sales agent working for ComplAI, \\\n",
    "a company that provides a SaaS tool for ensuring SOC2 compliance and preparing for audits, powered by AI. \\\n",
    "You write concise, to the point cold emails.\""
   ]
  },
  {
   "cell_type": "markdown",
   "id": "oe3gj3co76",
   "metadata": {},
   "source": [
    "## Part 2: Agent Personality Definition\n",
    "\n",
    "### Sales Agent Instructions Configuration\n",
    "\n",
    "Three distinct sales approaches for ComplAI's SOC2 compliance tool:\n",
    "\n",
    "#### Agent 1: Professional & Serious (Not implemented in this version)\n",
    "- **Target**: Enterprise decision-makers\n",
    "- **Style**: Formal, authoritative, compliance-focused\n",
    "- **Tone**: Professional and trustworthy\n",
    "\n",
    "#### Agent 2: Humorous & Engaging (Gemini)\n",
    "- **Target**: Tech-savvy professionals\n",
    "- **Style**: Witty, engaging, personable\n",
    "- **Purpose**: Break through inbox clutter with humor\n",
    "- **Goal**: Higher response rates through personality\n",
    "\n",
    "#### Agent 3: Concise & Direct (Llama)\n",
    "- **Target**: Busy executives\n",
    "- **Style**: Straight to the point, efficient\n",
    "- **Purpose**: Respect time constraints\n",
    "- **Goal**: Quick decision-making with clear value props\n",
    "\n",
    "### ComplAI Company Context:\n",
    "- **Product**: SaaS tool for SOC2 compliance\n",
    "- **Technology**: AI-powered audit preparation\n",
    "- **Market**: B2B compliance and security sector"
   ]
  },
  {
   "cell_type": "code",
   "execution_count": 5,
   "id": "bb15a08b",
   "metadata": {},
   "outputs": [],
   "source": [
    "GEMINI_BASE_URL = \"https://generativelanguage.googleapis.com/v1beta/openai/\"\n",
    "GROQ_BASE_URL = \"https://api.groq.com/openai/v1\""
   ]
  },
  {
   "cell_type": "markdown",
   "id": "bmezfmw1vhc",
   "metadata": {},
   "source": [
    "### External Provider Base URLs\n",
    "\n",
    "Configuration for accessing non-OpenAI models through OpenAI-compatible APIs:\n",
    "\n",
    "#### Google Gemini Integration:\n",
    "- **Base URL**: Google's generative AI endpoint with OpenAI compatibility\n",
    "- **Purpose**: Access to Gemini 2.0 Flash model\n",
    "- **Benefits**: Google's latest multimodal capabilities\n",
    "\n",
    "#### Groq Integration:\n",
    "- **Base URL**: Groq's high-speed inference endpoint\n",
    "- **Purpose**: Access to Meta's Llama 3.3 70B model\n",
    "- **Benefits**: Ultra-fast inference for production workloads"
   ]
  },
  {
   "cell_type": "code",
   "execution_count": 6,
   "id": "d6bd7722",
   "metadata": {},
   "outputs": [],
   "source": [
    "\n",
    "gemini_client = AsyncOpenAI(base_url=GEMINI_BASE_URL, api_key=google_api_key)\n",
    "groq_client = AsyncOpenAI(base_url=GROQ_BASE_URL, api_key=groq_api_key)\n",
    "\n",
    "gemini_model = OpenAIChatCompletionsModel(model=\"gemini-2.0-flash\", openai_client=gemini_client)\n",
    "llama3_3_model = OpenAIChatCompletionsModel(model=\"llama-3.3-70b-versatile\", openai_client=groq_client)"
   ]
  },
  {
   "cell_type": "markdown",
   "id": "0ni9fejr92w",
   "metadata": {},
   "source": [
    "## Part 3: Multi-Model Client Configuration\n",
    "\n",
    "### Asynchronous Client Setup\n",
    "\n",
    "Creating specialized clients for each AI provider:\n",
    "\n",
    "#### Client Configuration:\n",
    "```python\n",
    "# Gemini Client (Google)\n",
    "gemini_client = AsyncOpenAI(\n",
    "    base_url=GEMINI_BASE_URL,\n",
    "    api_key=google_api_key\n",
    ")\n",
    "\n",
    "# Groq Client (Meta Llama)\n",
    "groq_client = AsyncOpenAI(\n",
    "    base_url=GROQ_BASE_URL, \n",
    "    api_key=groq_api_key\n",
    ")\n",
    "```\n",
    "\n",
    "#### Model Wrapper Creation:\n",
    "- **`OpenAIChatCompletionsModel`**: Standardizes different providers under one interface\n",
    "- **Benefits**: Uniform API regardless of underlying model provider\n",
    "- **Flexibility**: Easy switching between models without code changes\n",
    "\n",
    "#### Model Specifications:\n",
    "- **Gemini 2.0 Flash**: Google's latest multimodal model with fast response times\n",
    "- **Llama 3.3 70B Versatile**: Meta's open-source model with broad capabilities"
   ]
  },
  {
   "cell_type": "code",
   "execution_count": 7,
   "id": "e03a499f",
   "metadata": {},
   "outputs": [],
   "source": [
    "sales_agent2 =  Agent(name=\"Gemini Sales Agent\", instructions=instructions2, model=gemini_model)\n",
    "sales_agent3  = Agent(name=\"Llama3.3 Sales Agent\",instructions=instructions3,model=llama3_3_model)"
   ]
  },
  {
   "cell_type": "markdown",
   "id": "q0cguxywrd",
   "metadata": {},
   "source": [
    "### Agent Instantiation with Custom Models\n",
    "\n",
    "Creating specialized sales agents using different AI models:\n",
    "\n",
    "#### Agent Configuration:\n",
    "- **Name**: Unique identifier for tracking and debugging\n",
    "- **Instructions**: Personality and behavior definition\n",
    "- **Model**: Specific AI model for each agent's strengths\n",
    "\n",
    "#### Agent Specializations:\n",
    "1. **Gemini Sales Agent**: \n",
    "   - Uses Google's Gemini 2.0 Flash\n",
    "   - Humorous and engaging personality\n",
    "   - Optimized for creative, witty content\n",
    "\n",
    "2. **Llama Sales Agent**:\n",
    "   - Uses Meta's Llama 3.3 70B via Groq\n",
    "   - Concise and direct approach\n",
    "   - Optimized for efficient, clear communication\n",
    "\n",
    "This multi-model approach leverages each model's unique strengths for optimal results."
   ]
  },
  {
   "cell_type": "code",
   "execution_count": 8,
   "id": "b4c75a78",
   "metadata": {},
   "outputs": [],
   "source": [
    "description = \"Write a cold sales email\"\n",
    "\n",
    "tool2 = sales_agent2.as_tool(tool_name=\"sales_agent2\", tool_description=description)\n",
    "tool3 = sales_agent3.as_tool(tool_name=\"sales_agent3\", tool_description=description)"
   ]
  },
  {
   "cell_type": "markdown",
   "id": "ajbpmfehvni",
   "metadata": {},
   "source": [
    "## Part 4: Agent-to-Tool Conversion\n",
    "\n",
    "### Converting Agents into Reusable Tools\n",
    "\n",
    "Transform agents into tools that can be used by higher-level orchestrator agents:\n",
    "\n",
    "#### Tool Conversion Process:\n",
    "```python\n",
    "tool2 = sales_agent2.as_tool(\n",
    "    tool_name=\"sales_agent2\",\n",
    "    tool_description=\"Write a cold sales email\"\n",
    ")\n",
    "```\n",
    "\n",
    "#### Benefits of Agent-as-Tool Pattern:\n",
    "- **Modularity**: Agents become reusable components\n",
    "- **Orchestration**: Higher-level agents can coordinate multiple specialists\n",
    "- **Abstraction**: Complex agent logic hidden behind simple tool interface\n",
    "- **Scalability**: Easy to add new agents without changing orchestrator code\n",
    "\n",
    "#### Tool Properties:\n",
    "- **tool_name**: Unique identifier for the orchestrator to reference\n",
    "- **tool_description**: Helps the orchestrator understand when to use this tool"
   ]
  },
  {
   "cell_type": "code",
   "execution_count": 9,
   "id": "8aaad894",
   "metadata": {},
   "outputs": [],
   "source": [
    "\n",
    "@function_tool\n",
    "def send_html_email(subject: str, html_body: str) -> Dict[str, str]:\n",
    "    \"\"\" Send out an email with the given subject and HTML body to all sales prospects \"\"\"\n",
    "    sg = sendgrid.SendGridAPIClient(api_key=os.environ.get('SENDGRID_API_KEY'))\n",
    "    from_email = Email(\"sonudevmail16@gmail.com\")\n",
    "    to_email = To(\"abhinavsarkar53@gmail.com\") # Change to your recipient\n",
    "    content = Content(\"text/html\", html_body)\n",
    "    mail = Mail(from_email, to_email, subject, content).get()\n",
    "    sg.client.mail.send.post(request_body=mail)\n",
    "    return {\"status\": \"success\"}"
   ]
  },
  {
   "cell_type": "code",
   "execution_count": 10,
   "id": "37fb617d",
   "metadata": {},
   "outputs": [],
   "source": [
    "subject_instructions = \"You can write a subject for a cold sales email. \\\n",
    "You are given a message and you need to write a subject for an email that is likely to get a response.\"\n",
    "\n",
    "html_instructions = \"You can convert a text email body to an HTML email body. \\\n",
    "You are given a text email body which might have some markdown \\\n",
    "and you need to convert it to an HTML email body with simple, clear, compelling layout and design.\"\n",
    "\n",
    "subject_writer = Agent(name=\"Email subject writer\", instructions=subject_instructions, model=\"gpt-4o-mini\")\n",
    "subject_tool = subject_writer.as_tool(tool_name=\"subject_writer\", tool_description=\"Write a subject for a cold sales email\")\n",
    "\n",
    "html_converter = Agent(name=\"HTML email body converter\", instructions=html_instructions, model=\"gpt-4o-mini\")\n",
    "html_tool = html_converter.as_tool(tool_name=\"html_converter\",tool_description=\"Convert a text email body to an HTML email body\")"
   ]
  },
  {
   "cell_type": "code",
   "execution_count": 11,
   "id": "51000dca",
   "metadata": {},
   "outputs": [],
   "source": [
    "email_tools = [subject_tool, html_tool, send_html_email]"
   ]
  },
  {
   "cell_type": "code",
   "execution_count": 12,
   "id": "31e7e3e5",
   "metadata": {},
   "outputs": [],
   "source": [
    "instructions =\"You are an email formatter and sender. You receive the body of an email to be sent. \\\n",
    "You first use the subject_writer tool to write a subject for the email, then use the html_converter tool to convert the body to HTML. \\\n",
    "Finally, you use the send_html_email tool to send the email with the subject and HTML body.\"\n",
    "\n",
    "\n",
    "emailer_agent = Agent(\n",
    "    name=\"Email Manager\",\n",
    "    instructions=instructions,\n",
    "    tools=email_tools,\n",
    "    model=\"gpt-4o-mini\",\n",
    "    handoff_description=\"Convert an email to HTML and send it\")"
   ]
  },
  {
   "cell_type": "code",
   "execution_count": 13,
   "id": "6d0085c3",
   "metadata": {},
   "outputs": [],
   "source": [
    "tools = [tool2, tool3]\n",
    "handoffs = [emailer_agent]"
   ]
  },
  {
   "cell_type": "code",
   "execution_count": 14,
   "id": "1fbf5308",
   "metadata": {},
   "outputs": [],
   "source": [
    "sales_manager_instructions = \"\"\"\n",
    "You are a Sales Manager at ComplAI. Your goal is to find the single best cold sales email using the sales_agent tools.\n",
    " \n",
    "Follow these steps carefully:\n",
    "1. Generate Drafts: Use all three sales_agent tools to generate three different email drafts. Do not proceed until all three drafts are ready.\n",
    " \n",
    "2. Evaluate and Select: Review the drafts and choose the single best email using your judgment of which one is most effective.\n",
    "You can use the tools multiple times if you're not satisfied with the results from the first try.\n",
    " \n",
    "3. Handoff for Sending: Pass ONLY the winning email draft to the 'Email Manager' agent. The Email Manager will take care of formatting and sending.\n",
    " \n",
    "Crucial Rules:\n",
    "- You must use the sales agent tools to generate the drafts — do not write them yourself.\n",
    "- You must hand off exactly ONE email to the Email Manager — never more than one.\n",
    "\"\"\"\n",
    "\n",
    "\n",
    "sales_manager = Agent(\n",
    "    name=\"Sales Manager\",\n",
    "    instructions=sales_manager_instructions,\n",
    "    tools=tools,\n",
    "    handoffs=handoffs,\n",
    "    model=\"gpt-4o-mini\")\n",
    "\n",
    "message = \"Send out a cold sales email addressed to Dear CEO from Alice\"\n",
    "\n",
    "with trace(\"Automated SDR\"):\n",
    "    result = await Runner.run(sales_manager, message)"
   ]
  },
  {
   "cell_type": "code",
   "execution_count": 15,
   "id": "2be8ce9f",
   "metadata": {},
   "outputs": [],
   "source": [
    "class NameCheckOutput(BaseModel):\n",
    "    is_name_in_message: bool\n",
    "    name: str\n",
    "\n",
    "guardrail_agent = Agent( \n",
    "    name=\"Name check\",\n",
    "    instructions=\"Check if the user is including someone's personal name in what they want you to do.\",\n",
    "    output_type=NameCheckOutput,\n",
    "    model=\"gpt-4o-mini\"\n",
    ")"
   ]
  },
  {
   "cell_type": "code",
   "execution_count": 16,
   "id": "8da878bb",
   "metadata": {},
   "outputs": [],
   "source": [
    "@input_guardrail\n",
    "async def guardrail_against_name(ctx, agent, message):\n",
    "    result = await Runner.run(guardrail_agent, message, context=ctx.context)\n",
    "    is_name_in_message = result.final_output.is_name_in_message\n",
    "    return GuardrailFunctionOutput(output_info={\"found_name\": result.final_output},tripwire_triggered=is_name_in_message)"
   ]
  },
  {
   "cell_type": "code",
   "execution_count": 17,
   "id": "338392b1",
   "metadata": {},
   "outputs": [
    {
     "ename": "InputGuardrailTripwireTriggered",
     "evalue": "Guardrail InputGuardrail triggered tripwire",
     "output_type": "error",
     "traceback": [
      "\u001b[0;31m---------------------------------------------------------------------------\u001b[0m",
      "\u001b[0;31mInputGuardrailTripwireTriggered\u001b[0m           Traceback (most recent call last)",
      "Cell \u001b[0;32mIn[17], line 13\u001b[0m\n\u001b[1;32m     10\u001b[0m message \u001b[38;5;241m=\u001b[39m \u001b[38;5;124m\"\u001b[39m\u001b[38;5;124mSend out a cold sales email addressed to Dear CEO from Alice\u001b[39m\u001b[38;5;124m\"\u001b[39m\n\u001b[1;32m     12\u001b[0m \u001b[38;5;28;01mwith\u001b[39;00m trace(\u001b[38;5;124m\"\u001b[39m\u001b[38;5;124mProtected Automated SDR\u001b[39m\u001b[38;5;124m\"\u001b[39m):\n\u001b[0;32m---> 13\u001b[0m     result \u001b[38;5;241m=\u001b[39m \u001b[38;5;28;01mawait\u001b[39;00m Runner\u001b[38;5;241m.\u001b[39mrun(careful_sales_manager, message)\n",
      "File \u001b[0;32m~/.local/lib/python3.12/site-packages/agents/run.py:267\u001b[0m, in \u001b[0;36mRunner.run\u001b[0;34m(cls, starting_agent, input, context, max_turns, hooks, run_config, previous_response_id, conversation_id, session)\u001b[0m\n\u001b[1;32m    233\u001b[0m \u001b[38;5;250m\u001b[39m\u001b[38;5;124;03m\"\"\"Run a workflow starting at the given agent. The agent will run in a loop until a final\u001b[39;00m\n\u001b[1;32m    234\u001b[0m \u001b[38;5;124;03moutput is generated. The loop runs like so:\u001b[39;00m\n\u001b[1;32m    235\u001b[0m \u001b[38;5;124;03m1. The agent is invoked with the given input.\u001b[39;00m\n\u001b[0;32m   (...)\u001b[0m\n\u001b[1;32m    264\u001b[0m \u001b[38;5;124;03m    agent. Agents may perform handoffs, so we don't know the specific type of the output.\u001b[39;00m\n\u001b[1;32m    265\u001b[0m \u001b[38;5;124;03m\"\"\"\u001b[39;00m\n\u001b[1;32m    266\u001b[0m runner \u001b[38;5;241m=\u001b[39m DEFAULT_AGENT_RUNNER\n\u001b[0;32m--> 267\u001b[0m \u001b[38;5;28;01mreturn\u001b[39;00m \u001b[38;5;28;01mawait\u001b[39;00m runner\u001b[38;5;241m.\u001b[39mrun(\n\u001b[1;32m    268\u001b[0m     starting_agent,\n\u001b[1;32m    269\u001b[0m     \u001b[38;5;28minput\u001b[39m,\n\u001b[1;32m    270\u001b[0m     context\u001b[38;5;241m=\u001b[39mcontext,\n\u001b[1;32m    271\u001b[0m     max_turns\u001b[38;5;241m=\u001b[39mmax_turns,\n\u001b[1;32m    272\u001b[0m     hooks\u001b[38;5;241m=\u001b[39mhooks,\n\u001b[1;32m    273\u001b[0m     run_config\u001b[38;5;241m=\u001b[39mrun_config,\n\u001b[1;32m    274\u001b[0m     previous_response_id\u001b[38;5;241m=\u001b[39mprevious_response_id,\n\u001b[1;32m    275\u001b[0m     conversation_id\u001b[38;5;241m=\u001b[39mconversation_id,\n\u001b[1;32m    276\u001b[0m     session\u001b[38;5;241m=\u001b[39msession,\n\u001b[1;32m    277\u001b[0m )\n",
      "File \u001b[0;32m~/.local/lib/python3.12/site-packages/agents/run.py:481\u001b[0m, in \u001b[0;36mAgentRunner.run\u001b[0;34m(self, starting_agent, input, **kwargs)\u001b[0m\n\u001b[1;32m    476\u001b[0m logger\u001b[38;5;241m.\u001b[39mdebug(\n\u001b[1;32m    477\u001b[0m     \u001b[38;5;124mf\u001b[39m\u001b[38;5;124m\"\u001b[39m\u001b[38;5;124mRunning agent \u001b[39m\u001b[38;5;132;01m{\u001b[39;00mcurrent_agent\u001b[38;5;241m.\u001b[39mname\u001b[38;5;132;01m}\u001b[39;00m\u001b[38;5;124m (turn \u001b[39m\u001b[38;5;132;01m{\u001b[39;00mcurrent_turn\u001b[38;5;132;01m}\u001b[39;00m\u001b[38;5;124m)\u001b[39m\u001b[38;5;124m\"\u001b[39m,\n\u001b[1;32m    478\u001b[0m )\n\u001b[1;32m    480\u001b[0m \u001b[38;5;28;01mif\u001b[39;00m current_turn \u001b[38;5;241m==\u001b[39m \u001b[38;5;241m1\u001b[39m:\n\u001b[0;32m--> 481\u001b[0m     input_guardrail_results, turn_result \u001b[38;5;241m=\u001b[39m \u001b[38;5;28;01mawait\u001b[39;00m asyncio\u001b[38;5;241m.\u001b[39mgather(\n\u001b[1;32m    482\u001b[0m         \u001b[38;5;28mself\u001b[39m\u001b[38;5;241m.\u001b[39m_run_input_guardrails(\n\u001b[1;32m    483\u001b[0m             starting_agent,\n\u001b[1;32m    484\u001b[0m             starting_agent\u001b[38;5;241m.\u001b[39minput_guardrails\n\u001b[1;32m    485\u001b[0m             \u001b[38;5;241m+\u001b[39m (run_config\u001b[38;5;241m.\u001b[39minput_guardrails \u001b[38;5;129;01mor\u001b[39;00m []),\n\u001b[1;32m    486\u001b[0m             _copy_str_or_list(prepared_input),\n\u001b[1;32m    487\u001b[0m             context_wrapper,\n\u001b[1;32m    488\u001b[0m         ),\n\u001b[1;32m    489\u001b[0m         \u001b[38;5;28mself\u001b[39m\u001b[38;5;241m.\u001b[39m_run_single_turn(\n\u001b[1;32m    490\u001b[0m             agent\u001b[38;5;241m=\u001b[39mcurrent_agent,\n\u001b[1;32m    491\u001b[0m             all_tools\u001b[38;5;241m=\u001b[39mall_tools,\n\u001b[1;32m    492\u001b[0m             original_input\u001b[38;5;241m=\u001b[39moriginal_input,\n\u001b[1;32m    493\u001b[0m             generated_items\u001b[38;5;241m=\u001b[39mgenerated_items,\n\u001b[1;32m    494\u001b[0m             hooks\u001b[38;5;241m=\u001b[39mhooks,\n\u001b[1;32m    495\u001b[0m             context_wrapper\u001b[38;5;241m=\u001b[39mcontext_wrapper,\n\u001b[1;32m    496\u001b[0m             run_config\u001b[38;5;241m=\u001b[39mrun_config,\n\u001b[1;32m    497\u001b[0m             should_run_agent_start_hooks\u001b[38;5;241m=\u001b[39mshould_run_agent_start_hooks,\n\u001b[1;32m    498\u001b[0m             tool_use_tracker\u001b[38;5;241m=\u001b[39mtool_use_tracker,\n\u001b[1;32m    499\u001b[0m             previous_response_id\u001b[38;5;241m=\u001b[39mprevious_response_id,\n\u001b[1;32m    500\u001b[0m             conversation_id\u001b[38;5;241m=\u001b[39mconversation_id,\n\u001b[1;32m    501\u001b[0m         ),\n\u001b[1;32m    502\u001b[0m     )\n\u001b[1;32m    503\u001b[0m \u001b[38;5;28;01melse\u001b[39;00m:\n\u001b[1;32m    504\u001b[0m     turn_result \u001b[38;5;241m=\u001b[39m \u001b[38;5;28;01mawait\u001b[39;00m \u001b[38;5;28mself\u001b[39m\u001b[38;5;241m.\u001b[39m_run_single_turn(\n\u001b[1;32m    505\u001b[0m         agent\u001b[38;5;241m=\u001b[39mcurrent_agent,\n\u001b[1;32m    506\u001b[0m         all_tools\u001b[38;5;241m=\u001b[39mall_tools,\n\u001b[0;32m   (...)\u001b[0m\n\u001b[1;32m    515\u001b[0m         conversation_id\u001b[38;5;241m=\u001b[39mconversation_id,\n\u001b[1;32m    516\u001b[0m     )\n",
      "File \u001b[0;32m~/.local/lib/python3.12/site-packages/agents/run.py:1295\u001b[0m, in \u001b[0;36mAgentRunner._run_input_guardrails\u001b[0;34m(cls, agent, guardrails, input, context)\u001b[0m\n\u001b[1;32m   1288\u001b[0m         t\u001b[38;5;241m.\u001b[39mcancel()\n\u001b[1;32m   1289\u001b[0m     _error_tracing\u001b[38;5;241m.\u001b[39mattach_error_to_current_span(\n\u001b[1;32m   1290\u001b[0m         SpanError(\n\u001b[1;32m   1291\u001b[0m             message\u001b[38;5;241m=\u001b[39m\u001b[38;5;124m\"\u001b[39m\u001b[38;5;124mGuardrail tripwire triggered\u001b[39m\u001b[38;5;124m\"\u001b[39m,\n\u001b[1;32m   1292\u001b[0m             data\u001b[38;5;241m=\u001b[39m{\u001b[38;5;124m\"\u001b[39m\u001b[38;5;124mguardrail\u001b[39m\u001b[38;5;124m\"\u001b[39m: result\u001b[38;5;241m.\u001b[39mguardrail\u001b[38;5;241m.\u001b[39mget_name()},\n\u001b[1;32m   1293\u001b[0m         )\n\u001b[1;32m   1294\u001b[0m     )\n\u001b[0;32m-> 1295\u001b[0m     \u001b[38;5;28;01mraise\u001b[39;00m InputGuardrailTripwireTriggered(result)\n\u001b[1;32m   1296\u001b[0m \u001b[38;5;28;01melse\u001b[39;00m:\n\u001b[1;32m   1297\u001b[0m     guardrail_results\u001b[38;5;241m.\u001b[39mappend(result)\n",
      "\u001b[0;31mInputGuardrailTripwireTriggered\u001b[0m: Guardrail InputGuardrail triggered tripwire"
     ]
    }
   ],
   "source": [
    "careful_sales_manager = Agent(\n",
    "    name=\"Sales Manager\",\n",
    "    instructions=sales_manager_instructions,\n",
    "    tools=tools,\n",
    "    handoffs=[emailer_agent],\n",
    "    model=\"gpt-4o-mini\",\n",
    "    input_guardrails=[guardrail_against_name]\n",
    "    )\n",
    "\n",
    "message = \"Send out a cold sales email addressed to Dear CEO from Alice\"\n",
    "\n",
    "with trace(\"Protected Automated SDR\"):\n",
    "    result = await Runner.run(careful_sales_manager, message)"
   ]
  },
  {
   "cell_type": "code",
   "execution_count": 18,
   "id": "db86c452",
   "metadata": {},
   "outputs": [],
   "source": [
    "class NameCheckOutput(BaseModel):\n",
    "    is_name_in_message: bool\n",
    "    name: str\n",
    "\n",
    "guardrail_agent = Agent( \n",
    "    name=\"Name check\",\n",
    "    instructions=\"Check if the user is including someone's personal name in what they want you to do.\",\n",
    "    output_type=NameCheckOutput,\n",
    "    model=\"gpt-4o-mini\"\n",
    ")"
   ]
  },
  {
   "cell_type": "code",
   "execution_count": 19,
   "id": "c09c4219",
   "metadata": {},
   "outputs": [],
   "source": [
    "@input_guardrail\n",
    "async def guardrail_against_name(ctx, agent, message):\n",
    "    result = await Runner.run(guardrail_agent, message, context=ctx.context)\n",
    "    is_name_in_message = result.final_output.is_name_in_message\n",
    "    return GuardrailFunctionOutput(output_info={\"found_name\": result.final_output},tripwire_triggered=is_name_in_message)"
   ]
  },
  {
   "cell_type": "code",
   "execution_count": 20,
   "id": "3929f0e8",
   "metadata": {},
   "outputs": [
    {
     "ename": "InputGuardrailTripwireTriggered",
     "evalue": "Guardrail InputGuardrail triggered tripwire",
     "output_type": "error",
     "traceback": [
      "\u001b[0;31m---------------------------------------------------------------------------\u001b[0m",
      "\u001b[0;31mInputGuardrailTripwireTriggered\u001b[0m           Traceback (most recent call last)",
      "Cell \u001b[0;32mIn[20], line 13\u001b[0m\n\u001b[1;32m     10\u001b[0m message \u001b[38;5;241m=\u001b[39m \u001b[38;5;124m\"\u001b[39m\u001b[38;5;124mSend out a cold sales email addressed to Dear CEO from Alice\u001b[39m\u001b[38;5;124m\"\u001b[39m\n\u001b[1;32m     12\u001b[0m \u001b[38;5;28;01mwith\u001b[39;00m trace(\u001b[38;5;124m\"\u001b[39m\u001b[38;5;124mProtected Automated SDR\u001b[39m\u001b[38;5;124m\"\u001b[39m):\n\u001b[0;32m---> 13\u001b[0m     result \u001b[38;5;241m=\u001b[39m \u001b[38;5;28;01mawait\u001b[39;00m Runner\u001b[38;5;241m.\u001b[39mrun(careful_sales_manager, message)\n",
      "File \u001b[0;32m~/.local/lib/python3.12/site-packages/agents/run.py:267\u001b[0m, in \u001b[0;36mRunner.run\u001b[0;34m(cls, starting_agent, input, context, max_turns, hooks, run_config, previous_response_id, conversation_id, session)\u001b[0m\n\u001b[1;32m    233\u001b[0m \u001b[38;5;250m\u001b[39m\u001b[38;5;124;03m\"\"\"Run a workflow starting at the given agent. The agent will run in a loop until a final\u001b[39;00m\n\u001b[1;32m    234\u001b[0m \u001b[38;5;124;03moutput is generated. The loop runs like so:\u001b[39;00m\n\u001b[1;32m    235\u001b[0m \u001b[38;5;124;03m1. The agent is invoked with the given input.\u001b[39;00m\n\u001b[0;32m   (...)\u001b[0m\n\u001b[1;32m    264\u001b[0m \u001b[38;5;124;03m    agent. Agents may perform handoffs, so we don't know the specific type of the output.\u001b[39;00m\n\u001b[1;32m    265\u001b[0m \u001b[38;5;124;03m\"\"\"\u001b[39;00m\n\u001b[1;32m    266\u001b[0m runner \u001b[38;5;241m=\u001b[39m DEFAULT_AGENT_RUNNER\n\u001b[0;32m--> 267\u001b[0m \u001b[38;5;28;01mreturn\u001b[39;00m \u001b[38;5;28;01mawait\u001b[39;00m runner\u001b[38;5;241m.\u001b[39mrun(\n\u001b[1;32m    268\u001b[0m     starting_agent,\n\u001b[1;32m    269\u001b[0m     \u001b[38;5;28minput\u001b[39m,\n\u001b[1;32m    270\u001b[0m     context\u001b[38;5;241m=\u001b[39mcontext,\n\u001b[1;32m    271\u001b[0m     max_turns\u001b[38;5;241m=\u001b[39mmax_turns,\n\u001b[1;32m    272\u001b[0m     hooks\u001b[38;5;241m=\u001b[39mhooks,\n\u001b[1;32m    273\u001b[0m     run_config\u001b[38;5;241m=\u001b[39mrun_config,\n\u001b[1;32m    274\u001b[0m     previous_response_id\u001b[38;5;241m=\u001b[39mprevious_response_id,\n\u001b[1;32m    275\u001b[0m     conversation_id\u001b[38;5;241m=\u001b[39mconversation_id,\n\u001b[1;32m    276\u001b[0m     session\u001b[38;5;241m=\u001b[39msession,\n\u001b[1;32m    277\u001b[0m )\n",
      "File \u001b[0;32m~/.local/lib/python3.12/site-packages/agents/run.py:481\u001b[0m, in \u001b[0;36mAgentRunner.run\u001b[0;34m(self, starting_agent, input, **kwargs)\u001b[0m\n\u001b[1;32m    476\u001b[0m logger\u001b[38;5;241m.\u001b[39mdebug(\n\u001b[1;32m    477\u001b[0m     \u001b[38;5;124mf\u001b[39m\u001b[38;5;124m\"\u001b[39m\u001b[38;5;124mRunning agent \u001b[39m\u001b[38;5;132;01m{\u001b[39;00mcurrent_agent\u001b[38;5;241m.\u001b[39mname\u001b[38;5;132;01m}\u001b[39;00m\u001b[38;5;124m (turn \u001b[39m\u001b[38;5;132;01m{\u001b[39;00mcurrent_turn\u001b[38;5;132;01m}\u001b[39;00m\u001b[38;5;124m)\u001b[39m\u001b[38;5;124m\"\u001b[39m,\n\u001b[1;32m    478\u001b[0m )\n\u001b[1;32m    480\u001b[0m \u001b[38;5;28;01mif\u001b[39;00m current_turn \u001b[38;5;241m==\u001b[39m \u001b[38;5;241m1\u001b[39m:\n\u001b[0;32m--> 481\u001b[0m     input_guardrail_results, turn_result \u001b[38;5;241m=\u001b[39m \u001b[38;5;28;01mawait\u001b[39;00m asyncio\u001b[38;5;241m.\u001b[39mgather(\n\u001b[1;32m    482\u001b[0m         \u001b[38;5;28mself\u001b[39m\u001b[38;5;241m.\u001b[39m_run_input_guardrails(\n\u001b[1;32m    483\u001b[0m             starting_agent,\n\u001b[1;32m    484\u001b[0m             starting_agent\u001b[38;5;241m.\u001b[39minput_guardrails\n\u001b[1;32m    485\u001b[0m             \u001b[38;5;241m+\u001b[39m (run_config\u001b[38;5;241m.\u001b[39minput_guardrails \u001b[38;5;129;01mor\u001b[39;00m []),\n\u001b[1;32m    486\u001b[0m             _copy_str_or_list(prepared_input),\n\u001b[1;32m    487\u001b[0m             context_wrapper,\n\u001b[1;32m    488\u001b[0m         ),\n\u001b[1;32m    489\u001b[0m         \u001b[38;5;28mself\u001b[39m\u001b[38;5;241m.\u001b[39m_run_single_turn(\n\u001b[1;32m    490\u001b[0m             agent\u001b[38;5;241m=\u001b[39mcurrent_agent,\n\u001b[1;32m    491\u001b[0m             all_tools\u001b[38;5;241m=\u001b[39mall_tools,\n\u001b[1;32m    492\u001b[0m             original_input\u001b[38;5;241m=\u001b[39moriginal_input,\n\u001b[1;32m    493\u001b[0m             generated_items\u001b[38;5;241m=\u001b[39mgenerated_items,\n\u001b[1;32m    494\u001b[0m             hooks\u001b[38;5;241m=\u001b[39mhooks,\n\u001b[1;32m    495\u001b[0m             context_wrapper\u001b[38;5;241m=\u001b[39mcontext_wrapper,\n\u001b[1;32m    496\u001b[0m             run_config\u001b[38;5;241m=\u001b[39mrun_config,\n\u001b[1;32m    497\u001b[0m             should_run_agent_start_hooks\u001b[38;5;241m=\u001b[39mshould_run_agent_start_hooks,\n\u001b[1;32m    498\u001b[0m             tool_use_tracker\u001b[38;5;241m=\u001b[39mtool_use_tracker,\n\u001b[1;32m    499\u001b[0m             previous_response_id\u001b[38;5;241m=\u001b[39mprevious_response_id,\n\u001b[1;32m    500\u001b[0m             conversation_id\u001b[38;5;241m=\u001b[39mconversation_id,\n\u001b[1;32m    501\u001b[0m         ),\n\u001b[1;32m    502\u001b[0m     )\n\u001b[1;32m    503\u001b[0m \u001b[38;5;28;01melse\u001b[39;00m:\n\u001b[1;32m    504\u001b[0m     turn_result \u001b[38;5;241m=\u001b[39m \u001b[38;5;28;01mawait\u001b[39;00m \u001b[38;5;28mself\u001b[39m\u001b[38;5;241m.\u001b[39m_run_single_turn(\n\u001b[1;32m    505\u001b[0m         agent\u001b[38;5;241m=\u001b[39mcurrent_agent,\n\u001b[1;32m    506\u001b[0m         all_tools\u001b[38;5;241m=\u001b[39mall_tools,\n\u001b[0;32m   (...)\u001b[0m\n\u001b[1;32m    515\u001b[0m         conversation_id\u001b[38;5;241m=\u001b[39mconversation_id,\n\u001b[1;32m    516\u001b[0m     )\n",
      "File \u001b[0;32m~/.local/lib/python3.12/site-packages/agents/run.py:1295\u001b[0m, in \u001b[0;36mAgentRunner._run_input_guardrails\u001b[0;34m(cls, agent, guardrails, input, context)\u001b[0m\n\u001b[1;32m   1288\u001b[0m         t\u001b[38;5;241m.\u001b[39mcancel()\n\u001b[1;32m   1289\u001b[0m     _error_tracing\u001b[38;5;241m.\u001b[39mattach_error_to_current_span(\n\u001b[1;32m   1290\u001b[0m         SpanError(\n\u001b[1;32m   1291\u001b[0m             message\u001b[38;5;241m=\u001b[39m\u001b[38;5;124m\"\u001b[39m\u001b[38;5;124mGuardrail tripwire triggered\u001b[39m\u001b[38;5;124m\"\u001b[39m,\n\u001b[1;32m   1292\u001b[0m             data\u001b[38;5;241m=\u001b[39m{\u001b[38;5;124m\"\u001b[39m\u001b[38;5;124mguardrail\u001b[39m\u001b[38;5;124m\"\u001b[39m: result\u001b[38;5;241m.\u001b[39mguardrail\u001b[38;5;241m.\u001b[39mget_name()},\n\u001b[1;32m   1293\u001b[0m         )\n\u001b[1;32m   1294\u001b[0m     )\n\u001b[0;32m-> 1295\u001b[0m     \u001b[38;5;28;01mraise\u001b[39;00m InputGuardrailTripwireTriggered(result)\n\u001b[1;32m   1296\u001b[0m \u001b[38;5;28;01melse\u001b[39;00m:\n\u001b[1;32m   1297\u001b[0m     guardrail_results\u001b[38;5;241m.\u001b[39mappend(result)\n",
      "\u001b[0;31mInputGuardrailTripwireTriggered\u001b[0m: Guardrail InputGuardrail triggered tripwire"
     ]
    }
   ],
   "source": [
    "careful_sales_manager = Agent(\n",
    "    name=\"Sales Manager\",\n",
    "    instructions=sales_manager_instructions,\n",
    "    tools=tools,\n",
    "    handoffs=[emailer_agent],\n",
    "    model=\"gpt-4o-mini\",\n",
    "    input_guardrails=[guardrail_against_name]\n",
    "    )\n",
    "\n",
    "message = \"Send out a cold sales email addressed to Dear CEO from Alice\"\n",
    "\n",
    "with trace(\"Protected Automated SDR\"):\n",
    "    result = await Runner.run(careful_sales_manager, message)"
   ]
  },
  {
   "cell_type": "code",
   "execution_count": 21,
   "id": "414675d6",
   "metadata": {},
   "outputs": [],
   "source": [
    "\n",
    "message = \"Send out a cold sales email addressed to Dear CEO from Head of Business Development\"\n",
    "\n",
    "with trace(\"Protected Automated SDR\"):\n",
    "    result = await Runner.run(careful_sales_manager, message)"
   ]
  },
  {
   "cell_type": "code",
   "execution_count": null,
   "id": "472cbe76",
   "metadata": {},
   "outputs": [],
   "source": []
  }
 ],
 "metadata": {
  "kernelspec": {
   "display_name": "Python 3",
   "language": "python",
   "name": "python3"
  },
  "language_info": {
   "codemirror_mode": {
    "name": "ipython",
    "version": 3
   },
   "file_extension": ".py",
   "mimetype": "text/x-python",
   "name": "python",
   "nbconvert_exporter": "python",
   "pygments_lexer": "ipython3",
   "version": "3.12.3"
  }
 },
 "nbformat": 4,
 "nbformat_minor": 5
}
